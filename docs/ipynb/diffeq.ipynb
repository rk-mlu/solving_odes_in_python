{
 "cells": [
  {
   "cell_type": "markdown",
   "metadata": {},
   "source": [
    "# Programming of difference equations\n",
    "\n",
    "Although the main focus of these notes is on solvers for *differential equations*, this first\n",
    "chapter is devoted to the closely related class of problems known as *difference equations*. The\n",
    "main motivation for introducing this topic first is that the mathematical formulation of\n",
    "difference equations is very easy to translate into a computer program.\n",
    "When we move on to ODEs in the next chapter, we shall\n",
    "see that such equations are typically solved by applying some numerical scheme to turn the\n",
    "differential equation into a difference equation, which is then solved. Knowing how to program\n",
    "difference equations is therefore an essential part of solving ODEs.\n",
    "\n",
    "\n",
    "# Sequences and Difference Equations\n",
    "Sequences is a central topic in mathematics, which has important applications in numerical analysis\n",
    "and scientific computing. In the most general sense, a sequence is simply a collection of numbers:"
   ]
  },
  {
   "cell_type": "markdown",
   "metadata": {},
   "source": [
    "$$\n",
    "x_0,\\ x_1,\\ x_2,\\ \\ldots,\\ x_n,\\ldots .\n",
    "$$"
   ]
  },
  {
   "cell_type": "markdown",
   "metadata": {},
   "source": [
    "For some sequences we can derive a formula that gives the the $n$-th number $x_n$\n",
    "as a function of $n$. For instance, all the odd numbers form a sequence"
   ]
  },
  {
   "cell_type": "markdown",
   "metadata": {},
   "source": [
    "$$\n",
    "1, 3, 5, 7, \\dots\n",
    "$$"
   ]
  },
  {
   "cell_type": "markdown",
   "metadata": {},
   "source": [
    "and for this sequence we can write a simple formula for the $n$-th term;"
   ]
  },
  {
   "cell_type": "markdown",
   "metadata": {},
   "source": [
    "$$\n",
    "x_n = 2n+1 .\n",
    "$$"
   ]
  },
  {
   "cell_type": "markdown",
   "metadata": {},
   "source": [
    "With this formula at hand, the complete sequence can be written on a compact form;"
   ]
  },
  {
   "cell_type": "markdown",
   "metadata": {},
   "source": [
    "$$\n",
    "(x_n)_{n=0}^\\infty,\\quad x_n = 2n+1 .\n",
    "$$"
   ]
  },
  {
   "cell_type": "markdown",
   "metadata": {},
   "source": [
    "Other examples of sequences include"
   ]
  },
  {
   "cell_type": "markdown",
   "metadata": {},
   "source": [
    "$$\n",
    "\\begin{align*}\n",
    "& 1,\\ 4,\\ 9,\\ 16,\\ 25,\\ \\ldots\\quad (x_n)_{n=0}^\\infty,\\ x_n=n^2 , \\\\\n",
    "&1,\\ {1\\over 2},\\ {1\\over3},\\ {1\\over4},\\ \\ldots\\quad (x_n)_{n=0}^\\infty,\\ x_n={1\\over {n+1}} ,\\\\\n",
    "&1,\\ 1,\\ 2,\\ 6,\\ 24,\\ \\ldots\\quad (x_n)_{n=0}^\\infty,\\ x_n=n! ,\\\\\n",
    "& 1,\\ 1+x,\\ 1+x+{1\\over2}x^2,\\ 1+x+{1\\over2}x^2+{1\\over6}x^3,\\ \\ldots\\quad (x_n)_{n=0}^\\infty,\\ x_n=\\sum_{j=0}^n {x^j\\over j!} .\n",
    "\\end{align*}\n",
    "$$"
   ]
  },
  {
   "cell_type": "markdown",
   "metadata": {},
   "source": [
    "These are all formulated as inifite sequences, which is common in mathematics, but\n",
    "in real-life applications sequences are usually finite: $(x_n)_{n=0}^N$.\n",
    "Some familiar examples include the annual value of a loan or an investment.\n",
    "\n",
    "In many cases it is impossible to derive an explicit formula for the\n",
    "entire sequence, and $x_n$ is instead\n",
    "given by a relation involving $x_{n-1}$ and possibly $x_{n-2}$. Such equations\n",
    "are called *difference equations*, and they\n",
    "can be challenging to solve with analytical methods, since in order to compute the $n$-th term of a sequence\n",
    "we need to compute the entire sequence $x_0, x_1, \\ldots, x_{n-1}$. This can be very tedious to do by hand or using\n",
    "a calculator, but on a computer the equation is easy to solve with a for-loop. Combining sequences and difference\n",
    "equations with programming therefore enables us to consider far more interesting and useful cases.\n",
    "\n",
    "### A difference equation for computing interest.\n",
    "\n",
    "To start with a simple example, consider the problem of computing how an invested sum of money grows over time.\n",
    "In its simplest form, this problem can be written as putting $x_0$ money in a bank at year 0, with interest rate\n",
    "$p$ percent per year. What is then the value after $N$ years? You may recall from earlier in IN1900\n",
    "(and from high school mathematics) that the solution to this problem is given by the simple\n",
    "formula\n",
    "$$x_n = x_0 (1 + p/100)^n,$$\n",
    "so there is really no need to formulate and solve the problem as\n",
    "a difference equation. However, very simple generalizations, such as a non-constant interest rate,\n",
    "makes this formula difficult to apply, while a formulation based on a\n",
    "difference equation will still be applicable. To formulate the problem as a\n",
    "difference equation, we use the fact that the amount $x_n$ at year $n$ is simply the\n",
    "amount at year $n-1$ plus the interest for year $n-1$. This gives the following\n",
    "relation between $x_n$ and $x_{n-1}$:"
   ]
  },
  {
   "cell_type": "markdown",
   "metadata": {},
   "source": [
    "$$\n",
    "x_{n} = x_{n-1} + {p\\over 100}x_{n-1} .\n",
    "$$"
   ]
  },
  {
   "cell_type": "markdown",
   "metadata": {},
   "source": [
    "If we want to compute $x_n$, we can now simply start with the known $x_0$, and compute $x_1, x_2, \\ldots, x_n$.\n",
    "The procedure involves repeating a simple calculation many times, which is tedious to do by\n",
    "hand but very well suited for a computer. The complete program for solving this\n",
    "difference equation may look like:"
   ]
  },
  {
   "cell_type": "code",
   "execution_count": 1,
   "metadata": {
    "collapsed": false
   },
   "outputs": [],
   "source": [
    "%matplotlib inline\n",
    "\n",
    "import numpy as np\n",
    "import matplotlib.pyplot as plt\n",
    "x0 = 100                      # initial amount\n",
    "p = 5                         # interest rate\n",
    "N = 4                         # number of years\n",
    "index_set = range(N+1)\n",
    "x = np.zeros(len(index_set))\n",
    "\n",
    "x[0] = x0\n",
    "for n in index_set[1:]:\n",
    "    x[n] = x[n-1] + (p/100.0)*x[n-1]\n",
    "\n",
    "plt.plot(index_set, x, 'ro')\n",
    "plt.xlabel('years')\n",
    "plt.ylabel('amount')\n",
    "plt.show()"
   ]
  },
  {
   "cell_type": "markdown",
   "metadata": {},
   "source": [
    "This code only involves tools that we have introduced earlier in the course. %IN1900\n",
    "Notice that we store the result of the call to `range` in a variable\n",
    "`index_set`, which will be a list-like object of numbers from 0 to $N$ (representing the years). We could\n",
    "also have called `range` directly everywhere we need it, but since we use it in\n",
    "three places in the code it is more convenient\n",
    "to use a variable. The core of the program is the three lines\n",
    "starting with `x[0] = x0`. We here initialize the\n",
    "first element in our solution array with the known `x0`, and then step into the for-loop to compute the rest.\n",
    "The loop variable `n` runs from 1 to $N (=4)$, and the formula inside the loop computes `x[n]` from the known `x[n-1]`.\n",
    "\n",
    "An alternative\n",
    "formulation of the for-loop would be"
   ]
  },
  {
   "cell_type": "markdown",
   "metadata": {},
   "source": [
    "```Python\n",
    "        for n in index_set[:-1]:\n",
    "            x[n+1] = x[n] + (p/100.0)*x[n]\n",
    "```"
   ]
  },
  {
   "cell_type": "markdown",
   "metadata": {},
   "source": [
    "Here `n` runs from 0 to 3, and all the indices inside the loop have been increased by one so that the\n",
    "end result is the same. In this case it is easy to verify that the two loops give the same result,\n",
    "but mixing up the two formulations will easily lead to a loop that runs out of bounds (an `IndexError`)\n",
    "or a loop where some of the sequence elements are never computed. Such mistakes are probably the\n",
    "most common type of programming error when solving difference\n",
    "equations, and it is a good habit to always examine the loop formulation carefully.\n",
    "If an `IndexError` (or another suspected loop error)\n",
    "occurs, a good debugging strategy is to look at the loop definition to find the lower and upper\n",
    "value of the loop variable (here `n`), and insert both by hand into\n",
    "the formulas inside the loop to check that they make sense. As an example, consider the deliberately wrong code"
   ]
  },
  {
   "cell_type": "markdown",
   "metadata": {},
   "source": [
    "```Python\n",
    "        for n in index_set[1:]:\n",
    "            x[n+1] = x[n] + (p/100.0)*x[n]\n",
    "```"
   ]
  },
  {
   "cell_type": "markdown",
   "metadata": {},
   "source": [
    "Assuming that the rest of the code is unchanged from the example above,\n",
    "the loop variable `n` will run from 1 to 4. If we first insert the lower bound `n=1`\n",
    "into the formula, we find that the first pass of the loop\n",
    "will try to compute `x[2]` from `x[1]`. However, we have only initialized `x[0]`,\n",
    "so `x[1]` is zero, and therefore `x[2]` and all subsequent values will be\n",
    "set to zero. Furthermore, if we insert the upper bound `n=4` we see that the formula will\n",
    "try to access `x[5]`, but this does not exist and we get an `IndexError`.\n",
    "Performing such simple analysis of a for-loop is often a good way to reveal the source of the error\n",
    "and give an idea of how it can be fixed.\n",
    "\n",
    "### Solving a difference equation without using arrays.\n",
    "\n",
    "The program above stored the sequence as an array,\n",
    "which is a convenient way to program the solver and enables us to plot the\n",
    "entire sequence. However, if we are only interested in the solution at a single\n",
    "point, i.e., $x_n$, there is no need to store the entire sequence. Since\n",
    "each $x_n$ only depends on the previous value $x_{n-1}$, we only need to\n",
    "store the last two values in memory. A complete loop can look like this:"
   ]
  },
  {
   "cell_type": "code",
   "execution_count": 2,
   "metadata": {
    "collapsed": false
   },
   "outputs": [],
   "source": [
    "x_old = x0\n",
    "for n in index_set[1:]:\n",
    "    x_new = x_old + (p/100.)*x_old\n",
    "    x_old = x_new  # x_new becomes x_old at next step\n",
    "print('Final amount: ', x_new)"
   ]
  },
  {
   "cell_type": "markdown",
   "metadata": {},
   "source": [
    "For this simple case we can actually make the code even shorter, since `x_old` is only used\n",
    "in a single line and we can just as well overwrite it once it has been used:"
   ]
  },
  {
   "cell_type": "code",
   "execution_count": 3,
   "metadata": {
    "collapsed": false
   },
   "outputs": [],
   "source": [
    "x = x0\t\t\t#x is here a single number, not array\n",
    "for n in index_set[1:]:\n",
    "    x = x + (p/100.)*x\n",
    "print('Final amount: ', x)"
   ]
  },
  {
   "cell_type": "markdown",
   "metadata": {},
   "source": [
    "We see that these codes store just one or two numbers, and for each pass through the loop we simply update these and overwrite\n",
    "the values we no longer need. Although this approach is quite simple, and we obviously save some memory since we do not store the\n",
    "complete array, programming with an array `x[n]` is usually safer, and we are often interested in plotting the entire sequence.\n",
    "We will therefore mostly use arrays in the subsequent examples.\n",
    "\n",
    "### Extending the solver for the growth of money.\n",
    "\n",
    "Say we are interested in changing our model for interest rate, to a model\n",
    "where the interest is added every day instead of every year. The interest rate per day is $r=p/D$ if $p$ is the\n",
    "annual interest rate and $D$ is the number of days in a year. A common model in business applies $D=360$,\n",
    "but $n$ counts exact (all) days. The difference equation relating one day's amount to the previous is the same as above"
   ]
  },
  {
   "cell_type": "markdown",
   "metadata": {},
   "source": [
    "$$\n",
    "x_{n} = x_{n-1} + {r\\over 100}x_{n-1} ,\n",
    "$$"
   ]
  },
  {
   "cell_type": "markdown",
   "metadata": {},
   "source": [
    "except that the yearly interest rate has been replaced by the daily ($r$). If we are interested in how much the money grows from\n",
    "a given date to another we also need to find the number of days between those dates. This calculation could of course be done\n",
    "by hand, but Python has a convenient module named `datetime` for this purpose. The following session\n",
    "illustrates how it can be used:"
   ]
  },
  {
   "cell_type": "code",
   "execution_count": 4,
   "metadata": {
    "collapsed": false
   },
   "outputs": [],
   "source": [
    "import datetime\n",
    "date1 = datetime.date(2017, 9, 29)  # Sep 29, 2017\n",
    "date2 = datetime.date(2018, 8, 4)  # Aug 4, 2018\n",
    "diff = date2 - date1\n",
    "print(diff.days)"
   ]
  },
  {
   "cell_type": "markdown",
   "metadata": {},
   "source": [
    "Putting these tools together, a complete program for daily interest rates may look like"
   ]
  },
  {
   "cell_type": "code",
   "execution_count": 5,
   "metadata": {
    "collapsed": false
   },
   "outputs": [],
   "source": [
    "import numpy as np\n",
    "import matplotlib.pyplot as plt\n",
    "import datetime\n",
    "\n",
    "x0 = 100                           # initial amount\n",
    "p = 5                              # annual interest rate\n",
    "r = p/360.0                        # daily interest rate\n",
    "\n",
    "date1 = datetime.date(2017, 9, 29)\n",
    "date2 = datetime.date(2018, 8, 4)\n",
    "diff = date2 - date1\n",
    "N = diff.days\n",
    "index_set = range(N+1)\n",
    "x = np.zeros(len(index_set))\n",
    "\n",
    "x[0] = x0\n",
    "for n in index_set[1:]:\n",
    "    x[n] = x[n-1] + (r/100.0)*x[n-1]\n",
    "\n",
    "plt.plot(index_set, x)\n",
    "plt.xlabel('days')\n",
    "plt.ylabel('amount')\n",
    "plt.show()"
   ]
  },
  {
   "cell_type": "markdown",
   "metadata": {},
   "source": [
    "This program is slightly more sophisticated than the first one, but one may still argue that solving this problem with a difference\n",
    "equation is unnecessarily complex, since we could just apply\n",
    "the well-known formula $x_n =x_0(1+\\frac{r}{100})^n$\n",
    "to compute any $x_n$ we want. However, we know that interest rates change quite often, and\n",
    "the formula is only valid for a constant $r$. For the program based on solving the\n",
    "difference equation, on the other hand, only minor changes are\n",
    "needed in the program to handle a varying interest rate.\n",
    "The simplest approach is to let `p` be an array of the same length as the number of days, and fill\n",
    "it with the correct interest rates for each day. The modifications to the program above may look like this:"
   ]
  },
  {
   "cell_type": "markdown",
   "metadata": {},
   "source": [
    "```Python\n",
    "        p = np.zeros(len(index_set))\n",
    "        # fill p[n] with correct values\n",
    "        \n",
    "        r = p/360.0                      # daily interest rate\n",
    "        x = np.zeros(len(index_set))\n",
    "        \n",
    "        x[0] = x0\n",
    "        for n in index_set[1:]:\n",
    "            x[n] = x[n-1] + (r[n-1]/100.0)*x[n-1]\n",
    "```"
   ]
  },
  {
   "cell_type": "markdown",
   "metadata": {},
   "source": [
    "The only real difference from the previous example is that we initialize `p` as an array,\n",
    "and then `r = p/360.0` becomes an array of the same length. In\n",
    "the formula inside the for-loop we then look up the correct value `r[n-1]` for\n",
    "each iteration  of the loop. Filling `p`\n",
    "with the correct values can be non-trivial, but many cases can be\n",
    "handled quite easily. For instance, say the interest rate\n",
    "is piecewise constant and increases from 4.0% to 5.0% on a given date.\n",
    "Code for filling the array with values may then\n",
    "look like this"
   ]
  },
  {
   "cell_type": "markdown",
   "metadata": {},
   "source": [
    "```Python\n",
    "        date0 = datetime.date(2017, 9, 29)\n",
    "        date1 = datetime.date(2018, 2, 6)\n",
    "        date2 = datetime.date(2018, 8, 4)\n",
    "        Np = (date1-date0).days\n",
    "        N = (date2-date0).days\n",
    "        \n",
    "        p = np.zeros(len(index_set))\n",
    "        p[:Np] = 4.0\n",
    "        p[Np:] = 5.0\n",
    "```"
   ]
  },
  {
   "cell_type": "markdown",
   "metadata": {},
   "source": [
    "# Systems of Difference Equations\n",
    "To consider a related example to the one above, assume that we have a fortune $F$ invested with an\n",
    "annual interest rate of $p$ percent. Every year we plan to consume an amount $c_n$, where $n$ counts years,\n",
    "and we want to compute our fortune $x_n$ at year $n$. The problem can be formulated as a difference equation,\n",
    "where the fundamental relation from one year to the next is"
   ]
  },
  {
   "cell_type": "markdown",
   "metadata": {},
   "source": [
    "$$\n",
    "x_n = x_{n-1} + {p\\over 100}x_{n-1} - c_{n-1}\n",
    "$$"
   ]
  },
  {
   "cell_type": "markdown",
   "metadata": {},
   "source": [
    "In the simplest case $c_n$ is constant, but inflation demands $c_n$ to increase. To solve this problem, we assume that\n",
    "$c_n$ should grow with a rate of $I$ percent per year, and in the first year we want to consume $q$ percent of first year's\n",
    "interest. The extension of the difference equation above becomes"
   ]
  },
  {
   "cell_type": "markdown",
   "metadata": {},
   "source": [
    "$$\n",
    "\\begin{align*}\n",
    "x_n &= x_{n-1} + {p\\over 100}x_{n-1} - c_{n-1}, \\\\\n",
    "c_n &= c_{n-1} + {I\\over 100}c_{n-1} .\n",
    "\\end{align*}\n",
    "$$"
   ]
  },
  {
   "cell_type": "markdown",
   "metadata": {},
   "source": [
    "with initial conditions $x_0=F$ and $c_0 = (pF/100)(q/100)  = \\frac{pFq}{10000}$. This is a coupled system of two\n",
    "difference equations, but the programming is not much more difficult than for the\n",
    "single equation above. We simply create two arrays `x` and `c`, initialize `x[0]`\n",
    "and `c[0]` to the given initial conditions, and then update `x[n]` and `c[n]`\n",
    "inside the loop. A complete code may look like"
   ]
  },
  {
   "cell_type": "code",
   "execution_count": 6,
   "metadata": {
    "collapsed": false
   },
   "outputs": [],
   "source": [
    "import numpy as np\n",
    "import matplotlib.pyplot as plt\n",
    "F = 1e7                      # initial amount\n",
    "p = 5                         # interest rate\n",
    "I = 3\n",
    "q = 75\n",
    "N = 40                         # number of years\n",
    "index_set = range(N+1)\n",
    "x = np.zeros(len(index_set))\n",
    "c = np.zeros_like(x)\n",
    "\n",
    "x[0] = F\n",
    "c[0] = q*p*F*1e-4\n",
    "\n",
    "for n in index_set[1:]:\n",
    "    x[n] = x[n-1] + (p/100.0)*x[n-1] - c[n-1]\n",
    "    c[n] = c[n-1] + (I/100.0)*c[n-1]\n",
    "\n",
    "plt.plot(index_set, x, 'ro',label = 'Fortune')\n",
    "plt.plot(index_set, c, 'go', label = 'Yearly consume')\n",
    "plt.xlabel('years')\n",
    "plt.ylabel('amounts')\n",
    "plt.legend()\n",
    "plt.show()"
   ]
  },
  {
   "cell_type": "markdown",
   "metadata": {},
   "source": [
    "# More Examples of Difference Equations\n",
    "As noted above, sequences and difference have countless applications\n",
    "in mathematics, science, and engineering. Here we present a selection of well known examples.\n",
    "\n",
    "### Fibonacci numbers as a difference equation\n",
    "\n",
    "No programming or math course is complete without an example on Fibonacci numbers:"
   ]
  },
  {
   "cell_type": "markdown",
   "metadata": {},
   "source": [
    "$$\n",
    "x_n = x_{n-1} + x_{n-2},\\quad x_0=1,\\ x_1=1\n",
    "$$"
   ]
  },
  {
   "cell_type": "markdown",
   "metadata": {},
   "source": [
    "This sequence was originally derived by Fibonacci for modeling rat populations, but it has a range of\n",
    "peculiar mathematical properties and has therefore attracted much attention from mathematicians.\n",
    "The equation differs from the previous ones, since $x_n$ depends on the two previous values ($n-1$, $n-2$), which\n",
    "makes this a *second order difference equation*. This classification is important for mathematical\n",
    "solution techniques, but in a program the difference between first and second order equations is small.\n",
    "The complete code to solve this difference equation and generate the Fibonacci numbers can be written as"
   ]
  },
  {
   "cell_type": "code",
   "execution_count": 7,
   "metadata": {
    "collapsed": false
   },
   "outputs": [],
   "source": [
    "import sys\n",
    "from numpy import zeros\n",
    "\n",
    "N = int(sys.argv[1])\n",
    "x = zeros(N+1, int)\n",
    "x[0] = 1\n",
    "x[1] = 1\n",
    "for n in range(2, N+1):\n",
    "    x[n] = x[n-1] + x[n-2]\n",
    "    print(n, x[n])"
   ]
  },
  {
   "cell_type": "markdown",
   "metadata": {},
   "source": [
    "Notice that in this case we need to initialize both `x[0]` and `x[1]` before starting\n",
    "the loop, since the update formula involves both `x[n-1]` and `x[n-2]`. This is the\n",
    "main difference between this second order equation and the programs for first order\n",
    "equations considered above.\n",
    "The Fibonacci numbers grow quickly and running this program for large $N$ (try for instance $N = 100$) will\n",
    "lead to problems with overflow. The NumPy `int` type supports up to 9223372036854775807 (almost\n",
    "$10^{19}$, so it is very rarely a problem). We can fix the problem by avoiding NumPy arrays and instead use\n",
    "the standard Python `int` type, but we will not go into these details here.\n",
    "\n",
    "### Logistic growth\n",
    "\n",
    "If we return to the initial problem of calculating growth of money in a bank, we can write the\n",
    "classical solution formula more compactly as"
   ]
  },
  {
   "cell_type": "markdown",
   "metadata": {},
   "source": [
    "$$\n",
    "x_n = x_0 (1 + p/100)^n = x_0C^n \\quad (= x_0e^{n\\ln C}) .\n",
    "$$"
   ]
  },
  {
   "cell_type": "markdown",
   "metadata": {},
   "source": [
    "Since $n$ counts years, this is an example of exponential growth in time, with\n",
    "the general formula $x= x_0e^{\\lambda t}$.\n",
    "Populations of humans, animals, and other organisms also exhibit the same type\n",
    "of growth when there are unlimited resources\n",
    "(space and food), and the model for exponential growth therefore has many applications in biology.\n",
    "However, most environments can only support a finite number $R$ of individuals, while in the exponential growth model\n",
    "the population will continue to grow indefinitely. How can we alter the equation to be a more realistic model for growing populations?\n",
    "\n",
    ": The formula $x= x_0e^{\\lambda t}$ is the solution of the *differential equation* $dx/dt = \\lambda x$, and\n",
    "this formulation may be more familiar to some readers. As mentioned at the start of the chapter,\n",
    "differential equations and difference equations are closely related, and these relations are\n",
    "discussed in more detail in Chapter 2.\n",
    "\n",
    "Initially, when resources are abundant, we want the growth to be exponential,\n",
    "i.e., to grow with a given rate $r$\\% per year according to the difference\n",
    "equation introduced above:"
   ]
  },
  {
   "cell_type": "markdown",
   "metadata": {},
   "source": [
    "$$\n",
    "x_n = x_{n-1} + (r/100) x_{n-1} .\n",
    "$$"
   ]
  },
  {
   "cell_type": "markdown",
   "metadata": {},
   "source": [
    "To enforce the growth limit as $x_n \\rightarrow R$,\n",
    "$r$ must decay to zero as $x_n$ approaches $R$. The simplest\n",
    "variation of $r(n)$ is linear:"
   ]
  },
  {
   "cell_type": "markdown",
   "metadata": {},
   "source": [
    "$$\n",
    "r(n) = \\varrho \\left(1 - {x_n\\over R}\\right)\n",
    "$$"
   ]
  },
  {
   "cell_type": "markdown",
   "metadata": {},
   "source": [
    "We observe that $r(n)\\approx \\varrho$ for small $n$, when $x_n\\ll R$, and\n",
    "$r(n) \\rightarrow 0$ as $n$ grows and $x_n\\rightarrow R$. This formulation of\n",
    "the growth rate leads to the logistic growth model:"
   ]
  },
  {
   "cell_type": "markdown",
   "metadata": {},
   "source": [
    "$$\n",
    "x_n = x_{n-1} + \\frac{\\varrho}{100} x_{n-1}\\left(1 - {x_{n-1}\\over R}\\right) .\n",
    "$$"
   ]
  },
  {
   "cell_type": "markdown",
   "metadata": {},
   "source": [
    "This is a *nonlinear* difference equation, while all the examples considered above were linear.\n",
    "The distinction between linear and non-linear equations is very important for\n",
    "mathematical analysis of the equations, but it does not make much difference when solving the equation\n",
    "in a program. To modify the interest rate program above to describe logistic growth, we can simply replace\n",
    "the line"
   ]
  },
  {
   "cell_type": "markdown",
   "metadata": {},
   "source": [
    "```Python\n",
    "        x[n] = x[n-1] + (p/100.0)*x[n-1]\n",
    "```"
   ]
  },
  {
   "cell_type": "markdown",
   "metadata": {},
   "source": [
    "by"
   ]
  },
  {
   "cell_type": "markdown",
   "metadata": {},
   "source": [
    "```Python\n",
    "        x[n] = x[n-1] + (rho/100)*x[n-1]*(1 - x[n-1]/R)\n",
    "```"
   ]
  },
  {
   "cell_type": "markdown",
   "metadata": {},
   "source": [
    "A complete program may look like"
   ]
  },
  {
   "cell_type": "code",
   "execution_count": 8,
   "metadata": {
    "collapsed": false
   },
   "outputs": [],
   "source": [
    "import numpy as np\n",
    "import matplotlib.pyplot as plt\n",
    "x0 = 100                      # initial population\n",
    "rho = 5                       # growth rate in %\n",
    "R = 500                       # max population (carrying capacity)\n",
    "N = 200                       # number of years\n",
    "\n",
    "index_set = range(N+1)\n",
    "x = np.zeros(len(index_set))\n",
    "\n",
    "x[0] = x0\n",
    "for n in index_set[1:]:\n",
    "    x[n] = x[n-1] + (rho/100) *x[n-1]*(1 - x[n-1]/R)\n",
    "\n",
    "plt.plot(index_set, x)\n",
    "plt.xlabel('years')\n",
    "plt.ylabel('amount')\n",
    "plt.show()"
   ]
  },
  {
   "cell_type": "markdown",
   "metadata": {},
   "source": [
    "Note that the logistic growth model is more commonly formulated as an\n",
    "ordinary differential equation (ODE), and we will consider this formulation in\n",
    "the next chapter. For certain choices of numerical method and discretization\n",
    "parameters, the program for solving the ODE is identical to the program\n",
    "for the difference equation considered here.\n",
    "\n",
    "\n",
    "### The factorial as a difference equation.\n",
    "\n",
    "The factorial $n!$ is defined as"
   ]
  },
  {
   "cell_type": "markdown",
   "metadata": {},
   "source": [
    "<!-- Equation labels as ordinary links -->\n",
    "<div id=\"factorial\"></div>\n",
    "\n",
    "$$\n",
    "\\begin{equation}\n",
    "n! = n(n-1)(n-2)\\cdots 1,\\quad 0!=1\n",
    "\\label{factorial} \\tag{1}\n",
    "\\end{equation}\n",
    "$$"
   ]
  },
  {
   "cell_type": "markdown",
   "metadata": {},
   "source": [
    "The following difference equation has $x_n=n!$ as solution and can be used to compute the factorial:"
   ]
  },
  {
   "cell_type": "markdown",
   "metadata": {},
   "source": [
    "$$\n",
    "x_n = nx_{n-1},\\quad x_0 = 1\n",
    "$$"
   ]
  },
  {
   "cell_type": "markdown",
   "metadata": {},
   "source": [
    "As above, a natural question to ask is whether such a difference equation is\n",
    "very useful, when we can simply use ([1](#factorial)) to compute\n",
    "the factorial for any value of $n$. One answer to this question is that in\n",
    "many applications, some of which will be considered below,\n",
    "we need to compute the\n",
    "entire sequence of factorials $x_n=n!$ for $n=0, \\ldots N$.\n",
    "We could still apply ([1](#factorial)) to compute each one, but it\n",
    "involves a lot of redundant computations, since we perform $n$ multiplications\n",
    "for each new $x_n$. When solving the difference equation, each\n",
    "new $x_n$ requires only a single multiplication, and for large values of $n$\n",
    "this may speed up the program considerably.\n",
    "\n",
    "\n",
    "### Newton's method as a difference equation\n",
    "\n",
    "Earlier in the course %IN1900\n",
    "we introduced Newton's method for solving non-linear equations on the form"
   ]
  },
  {
   "cell_type": "markdown",
   "metadata": {},
   "source": [
    "$$\n",
    "f(x)=0\n",
    "$$"
   ]
  },
  {
   "cell_type": "markdown",
   "metadata": {},
   "source": [
    "Starting from some initial guess $x_0$, Newton's method\n",
    "gradually improves the approximation by iterations"
   ]
  },
  {
   "cell_type": "markdown",
   "metadata": {},
   "source": [
    "$$\n",
    "x_n = x_{n-1} - {f(x_{n-1})\\over f'(x_{n-1})} .\n",
    "$$"
   ]
  },
  {
   "cell_type": "markdown",
   "metadata": {},
   "source": [
    "We may now recognize this as nonlinear first-order difference equation.\n",
    "As $n\\rightarrow\\infty$, we hope that $x_n\\rightarrow x_s$, where $x_s$ is\n",
    "the solution to $f(x_s)=0$. In practice we solve the equation for $n\\leq N$,\n",
    "for some finite $N$, just as for the difference equations considered earlier.\n",
    "But how do we choose $N$ so that $x_N$ is sufficiently close to the true solution\n",
    "$x_s$? Since we want to solve $f(x)=0$, the best approach is to solve the equation\n",
    "until $f(x)\\leq \\epsilon$, where $\\epsilon$ is a small tolerance. In practice, Newton's\n",
    "method will usually converge rather quickly, or not converge at all, so setting\n",
    "some upper bound on the number of iterations\n",
    "is a good idea. A simple program implementing Newton's method may look like"
   ]
  },
  {
   "cell_type": "code",
   "execution_count": 9,
   "metadata": {
    "collapsed": false
   },
   "outputs": [],
   "source": [
    "def Newton(f, dfdx, x, epsilon=1.0E-7, max_n=100):\n",
    "    n = 0\n",
    "    while abs(f(x)) > epsilon and n <= max_n:\n",
    "        x = x - f(x)/dfdx(x)\n",
    "        n += 1\n",
    "    return x, n, f(x)"
   ]
  },
  {
   "cell_type": "markdown",
   "metadata": {},
   "source": [
    "The arguments to the function are Python functions `f` and `dfdx` implementing\n",
    "$f(x)$ and its derivative. Both of these arguments are called inside the function\n",
    "and both must therefore be callable. The `x` argument is the initial guess for the solution $x$,\n",
    "and the two optional arguments at the end are the tolerance and the maximum\n",
    "number of iteration. Although the method is implemented as a while-loop rather\n",
    "than a for-loop, the main structure of the algorithm is exactly the same as for the\n",
    "other difference equations considered earlier.\n",
    "\n",
    "# Taylor Series and Approximations\n",
    "One extremely important use of sequences and series is for approximating\n",
    "other functions. For instance, commonly used functions such as\n",
    "$\\sin x, \\ln x$, or $e^x$ have been defined to have some desired mathematical\n",
    "properties, but we need some kind of algorithm to evaluate the function values.\n",
    "A convenient approach is to approximate $\\sin x$, etc. by polynomials, since\n",
    "they are easy to calculate. It turns out that such approximations\n",
    "exist, for example this result by Gregory from 1667:"
   ]
  },
  {
   "cell_type": "markdown",
   "metadata": {},
   "source": [
    "$$\n",
    "\\sin x = \\sum_{k=0}^\\infty (-1)^k\\frac{x^{2k+1}}{(2k+1)!}\n",
    "$$"
   ]
  },
  {
   "cell_type": "markdown",
   "metadata": {},
   "source": [
    "and an even more amazing result discovered by Taylor in 1715:"
   ]
  },
  {
   "cell_type": "markdown",
   "metadata": {},
   "source": [
    "$$\n",
    "f(x) = \\sum_{k=0}^\\infty \\frac{1}{k!}(\\frac{d^kf(0)}{dx^k})x^k .\n",
    "$$"
   ]
  },
  {
   "cell_type": "markdown",
   "metadata": {},
   "source": [
    "Here, the notation $d^kf(0)/dx^k$ means the $k$-th derivative of $f$ evaluated\n",
    "at $x=0$. Taylor's result means that for any function $f(x)$, if we can compute the\n",
    "function value and its derivatives for $x=0$, we can approximate the function\n",
    "value at any $x$ by evaluating a polynomial. For practical applications, we always work\n",
    "with a truncated version of the Taylor series:"
   ]
  },
  {
   "cell_type": "markdown",
   "metadata": {},
   "source": [
    "<!-- Equation labels as ordinary links -->\n",
    "<div id=\"taylor0\"></div>\n",
    "\n",
    "$$\n",
    "\\begin{equation}\n",
    "f(x) \\approx \\sum_{k=0}^{N}\n",
    "\\frac{1}{k!}(\\frac{d^kf(0)}{dx^k} )x^k .\n",
    "\\label{taylor0} \\tag{2}\\end{equation}\n",
    "$$"
   ]
  },
  {
   "cell_type": "markdown",
   "metadata": {},
   "source": [
    "The approximation improves as $N$ is increased, but the most popular\n",
    "choice is actually $N=1$, which gives a reasonable approximation close to $x=0$ and\n",
    "has been essential in developing physics and technology.\n",
    "\n",
    "As an example, consider the Taylor approximation to the exponential function.\n",
    "For this function we have that $d^k e^x/dx^k = e^x$ for all $k$, and $e^0 = 1$,\n",
    "and inserting this into ([2](#taylor0)) yields\n",
    "we have"
   ]
  },
  {
   "cell_type": "markdown",
   "metadata": {},
   "source": [
    "$$\n",
    "\\begin{align*}\n",
    "e^x &= \\sum_{k=0}^\\infty \\frac{x^k}{k!} \\\\\n",
    "    &\\approx \\sum_{k=0}^N \\frac{x^k}{k!} .\n",
    "\\end{align*}\n",
    "$$"
   ]
  },
  {
   "cell_type": "markdown",
   "metadata": {},
   "source": [
    "Choosing, for instance, $N=1$ and $N=4$, we get"
   ]
  },
  {
   "cell_type": "markdown",
   "metadata": {},
   "source": [
    "$$\n",
    "\\begin{align*}\n",
    "e^x&\\approx 1 + x , \\\\\n",
    "e^x&\\approx 1 + x + \\frac{1}{2}x^2 + \\frac{1}{6}x^3,\n",
    "\\end{align*}\n",
    "$$"
   ]
  },
  {
   "cell_type": "markdown",
   "metadata": {},
   "source": [
    "respectively.\n",
    "These approximations are obviously not very accurate for large $x$,\n",
    "but close to $x=0$ they are sufficiently accurate for many\n",
    "applications. By a shift of variables we can also make the Taylor\n",
    "polynomials accurate around any point  $x=a$:"
   ]
  },
  {
   "cell_type": "markdown",
   "metadata": {},
   "source": [
    "$$\n",
    "f(x) \\approx \\sum_{k=0}^N \\frac{1}{k!}(\\frac{d^k}{dx^k} f(a))(x-a)^k .\n",
    "$$"
   ]
  },
  {
   "cell_type": "markdown",
   "metadata": {},
   "source": [
    "### Taylor series formulated as a difference equation.\n",
    "\n",
    "<div id=\"diffeq:Taylor:exp:1\"></div>\n",
    "\n",
    "We consider again the Taylor series for $e^x$ around $x=0$, given by"
   ]
  },
  {
   "cell_type": "markdown",
   "metadata": {},
   "source": [
    "$$\n",
    "e^x= \\sum_{k=0}^\\infty {x^k\\over k!} .\n",
    "$$"
   ]
  },
  {
   "cell_type": "markdown",
   "metadata": {},
   "source": [
    "If we now define $e_n$ as the approximation with $n$ terms, i.e. for $k=0,\\ldots, n-1$,\n",
    "we have"
   ]
  },
  {
   "cell_type": "markdown",
   "metadata": {},
   "source": [
    "$$\n",
    "e_{n}=\\sum_{k=0}^{n-1} \\frac{x^k}{k!} =\n",
    "\\sum_{k=0}^{n-2} \\frac{x^k}{k!} + \\frac{x^{n-1}}{(n-1)!},\n",
    "$$"
   ]
  },
  {
   "cell_type": "markdown",
   "metadata": {},
   "source": [
    "and we can formulate the sum in $e_n$ as the difference equation"
   ]
  },
  {
   "cell_type": "markdown",
   "metadata": {},
   "source": [
    "<!-- Equation labels as ordinary links -->\n",
    "<div id=\"taylor_diffeq0\"></div>\n",
    "\n",
    "$$\n",
    "\\begin{equation}\n",
    "e_n = e_{n-1} + \\frac{x^{n-1}}{(n-1)!},\\quad e_0=0 .\n",
    "\\label{taylor_diffeq0} \\tag{3}\n",
    "\\end{equation}\n",
    "$$"
   ]
  },
  {
   "cell_type": "markdown",
   "metadata": {},
   "source": [
    "We see that this difference equation involves $(n-1)!$, and computing\n",
    "the complete factorial for every iteration involves a large number of redundant\n",
    "multiplications. Above we introduced a difference equation for the factorial, and\n",
    "this idea can be utilized to formulate a more efficient computation of the\n",
    "Taylor polynomial. We have that"
   ]
  },
  {
   "cell_type": "markdown",
   "metadata": {},
   "source": [
    "$$\n",
    "\\frac{x^n}{n!} = \\frac{x^{n-1}}{(n-1)!}\\cdot \\frac{x}{n},\n",
    "$$"
   ]
  },
  {
   "cell_type": "markdown",
   "metadata": {},
   "source": [
    "and if we let $a_n = x^n/n!$ it can be computed efficiently by solving"
   ]
  },
  {
   "cell_type": "markdown",
   "metadata": {},
   "source": [
    "$$\n",
    "a_n = a_{n-1}\\frac{x}{n},\\quad a_0 = 1 .\n",
    "$$"
   ]
  },
  {
   "cell_type": "markdown",
   "metadata": {},
   "source": [
    "Now we can formulate a system of two difference equations for the Taylor polynomial, where we update each term via\n",
    "the $a_n$ equation and sum the terms via the $e_n$ equation:"
   ]
  },
  {
   "cell_type": "markdown",
   "metadata": {},
   "source": [
    "$$\n",
    "\\begin{align*}\n",
    "e_n &= e_{n-1} + a_{n-1},\\quad e_0 = 0, \\\\\n",
    "a_n &= \\frac{x}{n} a_{n-1} , \\quad a_0 = 1.\n",
    "\\end{align*}\n",
    "$$"
   ]
  },
  {
   "cell_type": "markdown",
   "metadata": {},
   "source": [
    "Although we are here solving a system of two difference equations, the computation\n",
    "is far more efficient than solving the single equation in ([3](#taylor_diffeq0))\n",
    "directly, since we avoid the repeated multiplications involved in the factorial computation.\n",
    "\n",
    "A complete Python code for solving the difference equation to compute the Taylor approximation\n",
    "to the exponential function may look like"
   ]
  },
  {
   "cell_type": "code",
   "execution_count": 10,
   "metadata": {
    "collapsed": false
   },
   "outputs": [],
   "source": [
    "import numpy as np\n",
    "\n",
    "x = 0.5 #approximate exp(x) for x = 0.5\n",
    "\n",
    "N = 5\n",
    "index_set = range(N+1)\n",
    "a = np.zeros(len(index_set))\n",
    "e = np.zeros(len(index_set))\n",
    "a[0] = 1\n",
    "\n",
    "print(f'Exact: exp({x}) = {np.exp(x)}')\n",
    "for n in index_set[1:]:\n",
    "    e[n] = e[n-1] + a[n-1]\n",
    "    a[n] = x/n*a[n-1]\n",
    "    print(f'n = {n}, approx. {e[n]}, error = {np.abs(e[n]-np.exp(x)):4.5f}')"
   ]
  },
  {
   "cell_type": "markdown",
   "metadata": {},
   "source": [
    "This small program first prints the exact value $e^x$ for $x=0.5$, and then\n",
    "the Taylor approximation and associated error for $n=1$ to $n=5$. The Taylor series\n",
    "approximation is most accurate close to $x=0$, so choosing a larger value\n",
    "of $x$ leads to larger errors, and we need to also increase $n$ for the appoximation\n",
    "to be accurate."
   ]
  }
 ],
 "metadata": {},
 "nbformat": 4,
 "nbformat_minor": 2
}
