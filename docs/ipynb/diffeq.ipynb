{
 "cells": [
  {
   "cell_type": "markdown",
   "id": "530fe21b",
   "metadata": {},
   "source": [
    "# Programming of difference equations\n",
    "Although the main focus of these notes is on solvers for *differential equations*, we find it useful\n",
    "to include a chapter on the closely related class of problems known as *difference equations*. \n",
    "The main motivation for including this topic in a book on ODEs is to highlight the similarity \n",
    "between the two classes of problems, and in particular the similarity of the solution methods\n",
    "and their implementation. Indeed, solving ODEs numerically can be seen as a two-step procedure.\n",
    "First, a numerical method is applied to turn *differential equations* into *difference \n",
    "equations*, and then these equations are solved using simple for-loop. The standard formulation\n",
    "of difference equations is very easy to translate into a computer program, and some readers may find\n",
    "it easier to study these equations first, before moving on to ODEs. In the present chapter we will\n",
    "also touch upon famous sequences and series, which have important applications both in the\n",
    "numerical solution of ODEs and elsewhere. \n",
    "\n",
    "# Sequences and Difference Equations\n",
    "Sequences is a central topic in mathematics, which has important applications in numerical analysis\n",
    "and scientific computing. In the most general sense, a sequence is simply a collection of numbers:"
   ]
  },
  {
   "cell_type": "markdown",
   "id": "a8c5577a",
   "metadata": {},
   "source": [
    "$$\n",
    "x_0,\\ x_1,\\ x_2,\\ \\ldots,\\ x_n,\\ldots .\n",
    "$$"
   ]
  },
  {
   "cell_type": "markdown",
   "id": "4d8aaaf3",
   "metadata": {},
   "source": [
    "For some sequences we can derive a formula that gives the the $n$-th number $x_n$\n",
    "as a function of $n$. For instance, all the odd numbers form a sequence"
   ]
  },
  {
   "cell_type": "markdown",
   "id": "1067399c",
   "metadata": {},
   "source": [
    "$$\n",
    "1, 3, 5, 7, \\dots ,\n",
    "$$"
   ]
  },
  {
   "cell_type": "markdown",
   "id": "3894d53e",
   "metadata": {},
   "source": [
    "and for this sequence we can write a simple formula for the $n$-th term;"
   ]
  },
  {
   "cell_type": "markdown",
   "id": "991e337e",
   "metadata": {},
   "source": [
    "$$\n",
    "x_n = 2n+1 .\n",
    "$$"
   ]
  },
  {
   "cell_type": "markdown",
   "id": "d088aca0",
   "metadata": {},
   "source": [
    "With this formula at hand, the complete sequence can be written on a compact form;"
   ]
  },
  {
   "cell_type": "markdown",
   "id": "aa6015da",
   "metadata": {},
   "source": [
    "$$\n",
    "(x_n)_{n=0}^\\infty,\\quad x_n = 2n+1 .\n",
    "$$"
   ]
  },
  {
   "cell_type": "markdown",
   "id": "3f84e016",
   "metadata": {},
   "source": [
    "Other examples of sequences include"
   ]
  },
  {
   "cell_type": "markdown",
   "id": "289e814c",
   "metadata": {},
   "source": [
    "$$\n",
    "\\begin{align*}\n",
    "& 1,\\ 4,\\ 9,\\ 16,\\ 25,\\ \\ldots\\quad (x_n)_{n=0}^\\infty,\\ x_n=n^2 , \\\\\n",
    "&1,\\ {1\\over 2},\\ {1\\over3},\\ {1\\over4},\\ \\ldots\\quad (x_n)_{n=0}^\\infty,\\ x_n={1\\over {n+1}} ,\\\\\n",
    "&1,\\ 1,\\ 2,\\ 6,\\ 24,\\ \\ldots\\quad (x_n)_{n=0}^\\infty,\\ x_n=n! ,\\\\\n",
    "& 1,\\ 1+x,\\ 1+x+{1\\over2}x^2,\\ 1+x+{1\\over2}x^2+{1\\over6}x^3,\\ \\ldots\\quad (x_n)_{n=0}^\\infty,\\ x_n=\\sum_{j=0}^n {x^j\\over j!} .\n",
    "\\end{align*}\n",
    "$$"
   ]
  },
  {
   "cell_type": "markdown",
   "id": "87a9b13d",
   "metadata": {},
   "source": [
    "These are all formulated as infinite sequences, which is common in mathematics, but\n",
    "in real-life applications sequences are usually finite: $(x_n)_{n=0}^N$.\n",
    "Some familiar examples include the annual value of a loan or an investment.\n",
    "\n",
    "In many cases it is impossible to derive an explicit formula for the\n",
    "entire sequence, and $x_n$ is instead\n",
    "given by a relation involving $x_{n-1}$ and possibly $x_{n-2}$. Such equations\n",
    "are called *difference equations*, and they\n",
    "can be challenging to solve with analytical methods, since in order to compute the $n$-th term of a sequence\n",
    "we need to compute the entire sequence $x_0, x_1, \\ldots, x_{n-1}$. This can be very tedious to do by hand or using\n",
    "a calculator, but on a computer the equation is easy to solve with a for-loop. Combining sequences and difference\n",
    "equations with programming therefore enables us to consider far more interesting and useful cases.\n",
    "\n",
    "### A difference equation for computing interest.\n",
    "\n",
    "To start with a simple example, consider the problem of computing how an invested sum of money grows over time.\n",
    "In its simplest form, this problem can be written as putting $x_0$ money in a bank at year 0, with interest rate\n",
    "$p$ percent per year. What is then the value after $n$ years? You may recall from earlier in IN1900\n",
    "(and from high school mathematics) that the solution to this problem is given by the simple\n",
    "formula\n",
    "$$x_n = x_0 (1 + p/100)^n,$$\n",
    "so there is really no need to formulate and solve the problem as\n",
    "a difference equation. However, very simple generalizations, such as a non-constant interest rate,\n",
    "makes this formula difficult to apply, while a formulation based on a\n",
    "difference equation will still be applicable. To formulate the problem as a\n",
    "difference equation, we use the fact that the amount $x_{n+1}$ at year $n+1$ is simply the\n",
    "amount at year $n$ plus the interest for year $n$. This gives the following\n",
    "relation between $x_{n+1}$ and $x_n$:"
   ]
  },
  {
   "cell_type": "markdown",
   "id": "1fee43af",
   "metadata": {},
   "source": [
    "$$\n",
    "x_{n+1} = x_{n} + {p\\over 100}x_{n} .\n",
    "$$"
   ]
  },
  {
   "cell_type": "markdown",
   "id": "fac53711",
   "metadata": {},
   "source": [
    "In order to compute $x_n$, we can now simply start with the known $x_0$, and compute $x_1, x_2, \\ldots, x_n$.\n",
    "The procedure involves repeating a simple calculation many times, which is tedious to do by\n",
    "hand, but very well suited for a computer. The complete program for solving this\n",
    "difference equation may look like:"
   ]
  },
  {
   "cell_type": "code",
   "execution_count": 1,
   "id": "e5dcc432",
   "metadata": {
    "collapsed": false
   },
   "outputs": [],
   "source": [
    "%matplotlib inline\n",
    "\n",
    "import numpy as np\n",
    "import matplotlib.pyplot as plt\n",
    "x0 = 100                      # initial amount\n",
    "p = 5                         # interest rate\n",
    "N = 4                         # number of years\n",
    "x = np.zeros(N+1)\n",
    "\n",
    "x[0] = x0\n",
    "for n in range(1,N+1):\n",
    "    x[n] = x[n-1] + (p/100.0)*x[n-1]\n",
    "\n",
    "plt.plot(x, 'ro')\n",
    "plt.xlabel('years')\n",
    "plt.ylabel('amount')\n",
    "plt.show()"
   ]
  },
  {
   "cell_type": "markdown",
   "id": "dd1e092e",
   "metadata": {},
   "source": [
    "This code only involves tools that we have introduced earlier in the course. %IN1900\n",
    "The three lines starting with `x[0] = x0` make up the core of the program. We\n",
    "here initialize the first element in our solution array with the known `x0`, and\n",
    "then step into the for-loop to compute the rest. The loop variable `n` runs from\n",
    "1 to $N (=4)$, and the formula inside the loop computes `x[n]` from the known `x[n-1]`.\n",
    "\n",
    "An alternative\n",
    "formulation of the for-loop would be"
   ]
  },
  {
   "cell_type": "markdown",
   "id": "50703872",
   "metadata": {},
   "source": [
    "```Python\n",
    "        for n in range(N):\n",
    "            x[n+1] = x[n] + (p/100.0)*x[n]\n",
    "```"
   ]
  },
  {
   "cell_type": "markdown",
   "id": "97eb075a",
   "metadata": {},
   "source": [
    "Here `n` runs from 0 to 3, and all the indices inside the loop have been increased by one so that the\n",
    "end result is the same. In this case it is easy to verify that the two loops give the same result,\n",
    "but mixing up the two formulations will easily lead to a loop that runs out of bounds (an `IndexError`)\n",
    "or a loop where some of the sequence elements are never computed. Such mistakes are probably the\n",
    "most common type of programming error when solving difference\n",
    "equations, and it is a good habit to always examine the loop formulation carefully.\n",
    "If an `IndexError` (or another suspected loop error)\n",
    "occurs, a good debugging strategy is to look at the loop definition to find the lower and upper\n",
    "value of the loop variable (here `n`), and insert both by hand into\n",
    "the formulas inside the loop to check that they make sense. As an example, consider the deliberately wrong code"
   ]
  },
  {
   "cell_type": "markdown",
   "id": "a5a0ba6c",
   "metadata": {},
   "source": [
    "```Python\n",
    "        for n in range(1,N+1):\n",
    "            x[n+1] = x[n] + (p/100.0)*x[n]\n",
    "```"
   ]
  },
  {
   "cell_type": "markdown",
   "id": "ab8aeed8",
   "metadata": {},
   "source": [
    "Assuming that the rest of the code is unchanged from the example above,\n",
    "the loop variable `n` will run from 1 to 4. If we first insert the lower bound `n=1`\n",
    "into the formula, we find that the first pass of the loop\n",
    "will try to compute `x[2]` from `x[1]`. However, we have only initialized `x[0]`,\n",
    "so `x[1]` is zero, and therefore `x[2]` and all subsequent values will be\n",
    "set to zero. Furthermore, if we insert the upper bound `n=4` we see that the formula will\n",
    "try to access `x[5]`, but this does not exist and we get an `IndexError`.\n",
    "Performing such simple analysis of a for-loop is often a good way to reveal the source of the error\n",
    "and give an idea of how it can be fixed.\n",
    "\n",
    "\n",
    "### Solving a difference equation without using arrays.\n",
    "\n",
    "The program above stored the sequence as an array,\n",
    "which is a convenient way to program the solver and enables us to plot the\n",
    "entire sequence. However, if we are only interested in the solution at a single\n",
    "point, i.e., $x_n$, there is no need to store the entire sequence. Since\n",
    "each $x_n$ only depends on the previous value $x_{n-1}$, we only need to\n",
    "store the last two values in memory. A complete loop can look like this:"
   ]
  },
  {
   "cell_type": "code",
   "execution_count": 2,
   "id": "d620d547",
   "metadata": {
    "collapsed": false
   },
   "outputs": [],
   "source": [
    "x_old = x0\n",
    "for n in index_set[1:]:\n",
    "    x_new = x_old + (p/100.)*x_old\n",
    "    x_old = x_new  # x_new becomes x_old at next step\n",
    "print('Final amount: ', x_new)"
   ]
  },
  {
   "cell_type": "markdown",
   "id": "5019f476",
   "metadata": {},
   "source": [
    "For this simple case we can actually make the code even shorter, since `x_old` is only used\n",
    "in a single line and we can just as well overwrite it once it has been used:"
   ]
  },
  {
   "cell_type": "code",
   "execution_count": 3,
   "id": "3ff2896b",
   "metadata": {
    "collapsed": false
   },
   "outputs": [],
   "source": [
    "x = x0\t\t\t#x is here a single number, not array\n",
    "for n in index_set[1:]:\n",
    "    x = x + (p/100.)*x\n",
    "print('Final amount: ', x)"
   ]
  },
  {
   "cell_type": "markdown",
   "id": "debe64aa",
   "metadata": {},
   "source": [
    "We see that these codes store just one or two numbers, and for each pass through the loop we simply update these and overwrite\n",
    "the values we no longer need. Although this approach is quite simple, and we obviously save some memory since we do not store the\n",
    "complete array, programming with an array `x[n]` is usually safer, and we are often interested in plotting the entire sequence.\n",
    "We will therefore mostly use arrays in the subsequent examples.\n",
    "\n",
    "### Extending the solver for the growth of money.\n",
    "\n",
    "Say we are interested in changing our model for interest rate, to a model\n",
    "where the interest is added every day instead of every year. The interest rate per day is $r=p/D$ if $p$ is the\n",
    "annual interest rate and $D$ is the number of days in a year. A common model in business applies $D=360$,\n",
    "but $n$ counts exact (all) days. The difference equation relating one day's amount to the previous is the same as above"
   ]
  },
  {
   "cell_type": "markdown",
   "id": "f282185e",
   "metadata": {},
   "source": [
    "$$\n",
    "x_{n} = x_{n-1} + {r\\over 100}x_{n-1} ,\n",
    "$$"
   ]
  },
  {
   "cell_type": "markdown",
   "id": "5388011a",
   "metadata": {},
   "source": [
    "except that the yearly interest rate has been replaced by the daily ($r$). If we are interested in how much the money grows from\n",
    "a given date to another we also need to find the number of days between those dates. This calculation could of course be done\n",
    "by hand, but Python has a convenient module named `datetime` for this purpose. The following session\n",
    "illustrates how it can be used:"
   ]
  },
  {
   "cell_type": "code",
   "execution_count": 4,
   "id": "1fb80bfb",
   "metadata": {
    "collapsed": false
   },
   "outputs": [],
   "source": [
    "import datetime\n",
    "date1 = datetime.date(2017, 9, 29)  # Sep 29, 2017\n",
    "date2 = datetime.date(2018, 8, 4)  # Aug 4, 2018\n",
    "diff = date2 - date1\n",
    "print(diff.days)"
   ]
  },
  {
   "cell_type": "markdown",
   "id": "30cd2176",
   "metadata": {},
   "source": [
    "Putting these tools together, a complete program for daily interest rates may look like"
   ]
  },
  {
   "cell_type": "code",
   "execution_count": 5,
   "id": "55306c6e",
   "metadata": {
    "collapsed": false
   },
   "outputs": [],
   "source": [
    "import numpy as np\n",
    "import matplotlib.pyplot as plt\n",
    "import datetime\n",
    "\n",
    "x0 = 100                           # initial amount\n",
    "p = 5                              # annual interest rate\n",
    "r = p/360.0                        # daily interest rate\n",
    "\n",
    "date1 = datetime.date(2017, 9, 29)\n",
    "date2 = datetime.date(2018, 8, 4)\n",
    "diff = date2 - date1\n",
    "N = diff.days\n",
    "index_set = range(N+1)\n",
    "x = np.zeros(len(index_set))\n",
    "\n",
    "x[0] = x0\n",
    "for n in index_set[1:]:\n",
    "    x[n] = x[n-1] + (r/100.0)*x[n-1]\n",
    "\n",
    "plt.plot(index_set, x)\n",
    "plt.xlabel('days')\n",
    "plt.ylabel('amount')\n",
    "plt.show()"
   ]
  },
  {
   "cell_type": "markdown",
   "id": "903a764b",
   "metadata": {},
   "source": [
    "This program is slightly more sophisticated than the first one, but one may still argue that solving this problem with a difference\n",
    "equation is unnecessarily complex, since we could just apply\n",
    "the well-known formula $x_n =x_0(1+\\frac{r}{100})^n$\n",
    "to compute any $x_n$ we want. However, we know that interest rates change quite often, and\n",
    "the formula is only valid for a constant $r$. For the program based on solving the\n",
    "difference equation, on the other hand, only minor changes are\n",
    "needed in the program to handle a varying interest rate.\n",
    "The simplest approach is to let `p` be an array of the same length as the number of days, and fill\n",
    "it with the correct interest rates for each day. The modifications to the program above may look like this:"
   ]
  },
  {
   "cell_type": "markdown",
   "id": "b34fb673",
   "metadata": {},
   "source": [
    "```Python\n",
    "        p = np.zeros(len(index_set))\n",
    "        # fill p[n] with correct values\n",
    "        \n",
    "        r = p/360.0                      # daily interest rate\n",
    "        x = np.zeros(len(index_set))\n",
    "        \n",
    "        x[0] = x0\n",
    "        for n in index_set[1:]:\n",
    "            x[n] = x[n-1] + (r[n-1]/100.0)*x[n-1]\n",
    "```"
   ]
  },
  {
   "cell_type": "markdown",
   "id": "0ef0eaee",
   "metadata": {},
   "source": [
    "The only real difference from the previous example is that we initialize `p` as an array,\n",
    "and then `r = p/360.0` becomes an array of the same length. In\n",
    "the formula inside the for-loop we then look up the correct value `r[n-1]` for\n",
    "each iteration  of the loop. Filling `p`\n",
    "with the correct values can be non-trivial, but many cases can be\n",
    "handled quite easily. For instance, say the interest rate\n",
    "is piecewise constant and increases from 4.0% to 5.0% on a given date.\n",
    "Code for filling the array with values may then\n",
    "look like this"
   ]
  },
  {
   "cell_type": "markdown",
   "id": "34ebee09",
   "metadata": {},
   "source": [
    "```Python\n",
    "        date0 = datetime.date(2017, 9, 29)\n",
    "        date1 = datetime.date(2018, 2, 6)\n",
    "        date2 = datetime.date(2018, 8, 4)\n",
    "        Np = (date1-date0).days\n",
    "        N = (date2-date0).days\n",
    "        \n",
    "        p = np.zeros(len(index_set))\n",
    "        p[:Np] = 4.0\n",
    "        p[Np:] = 5.0\n",
    "```"
   ]
  },
  {
   "cell_type": "markdown",
   "id": "c7660eb0",
   "metadata": {},
   "source": [
    "# More Examples of Difference Equations\n",
    "As noted above, sequences, series, and difference equations have countless applications\n",
    "in mathematics, science, and engineering. Here we present a selection of well known examples.\n",
    "\n",
    "### Fibonacci numbers as a difference equation\n",
    "\n",
    "The sequence defined by the difference equation"
   ]
  },
  {
   "cell_type": "markdown",
   "id": "c97fa26c",
   "metadata": {},
   "source": [
    "$$\n",
    "x_n = x_{n-1} + x_{n-2},\\quad x_0=1,\\ x_1=1 .\n",
    "$$"
   ]
  },
  {
   "cell_type": "markdown",
   "id": "a0330ea0",
   "metadata": {},
   "source": [
    "is called the Fibonacci numbers. It was originally derived for modeling rat populations,\n",
    "but it has a range of\n",
    "interesting mathematical properties and has therefore attracted much attention from mathematicians.\n",
    "The equation for the Fibonacci numbers differs from the previous ones,\n",
    "since $x_n$ depends on the two previous values ($n-1$, $n-2$), which\n",
    "makes this a *second order difference equation*. This classification is important for mathematical\n",
    "solution techniques, but in a program the difference between first and second order equations is small.\n",
    "A complete code to solve the difference equation and generate the Fibonacci numbers can be written as"
   ]
  },
  {
   "cell_type": "code",
   "execution_count": 6,
   "id": "cc3020b6",
   "metadata": {
    "collapsed": false
   },
   "outputs": [],
   "source": [
    "import sys\n",
    "from numpy import zeros\n",
    "\n",
    "N = int(sys.argv[1])\n",
    "x = zeros(N+1, int)\n",
    "x[0] = 1\n",
    "x[1] = 1\n",
    "for n in range(2, N+1):\n",
    "    x[n] = x[n-1] + x[n-2]\n",
    "    print(n, x[n])"
   ]
  },
  {
   "cell_type": "markdown",
   "id": "1bc53b5e",
   "metadata": {},
   "source": [
    "Notice that in this case we need to initialize both `x[0]` and `x[1]` before starting\n",
    "the loop, since the update formula involves both `x[n-1]` and `x[n-2]`. This is the\n",
    "main difference between this second order equation and the programs for first order\n",
    "equations considered above.\n",
    "The Fibonacci numbers grow quickly and running this program for large $N$ will\n",
    "lead to problems with overflow (try for instance $N = 100$).\n",
    "The NumPy `int` type supports up to 9223372036854775807, which is almost\n",
    "$10^{19}$, so this is very rarely a problem in practical applications.\n",
    "We can fix the problem by avoiding NumPy arrays and instead use\n",
    "the standard Python `int` type, but we will not go into these details here.\n",
    "\n",
    "### Logistic growth\n",
    "\n",
    "If we return to the initial problem of calculating growth of money in a bank, we can write the\n",
    "classical solution formula more compactly as"
   ]
  },
  {
   "cell_type": "markdown",
   "id": "9733ff32",
   "metadata": {},
   "source": [
    "$$\n",
    "x_n = x_0 (1 + p/100)^n = x_0C^n \\quad (= x_0e^{n\\ln C}) ,\n",
    "$$"
   ]
  },
  {
   "cell_type": "markdown",
   "id": "264416cb",
   "metadata": {},
   "source": [
    "with $C=(1+p/100)$.\n",
    "Since $n$ counts years, this is an example of exponential growth in time, with\n",
    "the general formula $x= x_0e^{\\lambda t}$.\n",
    "Populations of humans, animals, and other organisms also exhibit the same type\n",
    "of growth when there are unlimited resources\n",
    "(space and food), and the model for exponential growth therefore has many applications in biology.\n",
    "However, most environments can only support a finite number $R$ of individuals, while in the exponential growth model\n",
    "the population will continue to grow indefinitely. How can we alter the \n",
    "equation to be a more realistic model for growing populations?\n",
    "\n",
    "\n",
    "Initially, when resources are abundant, we want the growth to be exponential,\n",
    "i.e., to grow with a given rate $r$\\% per year according to the difference\n",
    "equation introduced above:"
   ]
  },
  {
   "cell_type": "markdown",
   "id": "567cf74e",
   "metadata": {},
   "source": [
    "$$\n",
    "x_n = x_{n-1} + (r/100) x_{n-1} .\n",
    "$$"
   ]
  },
  {
   "cell_type": "markdown",
   "id": "b6cc5e6b",
   "metadata": {},
   "source": [
    "To enforce the growth limit as $x_n \\rightarrow R$,\n",
    "$r$ must decay to zero as $x_n$ approaches $R$. The simplest\n",
    "variation of $r(n)$ is linear:"
   ]
  },
  {
   "cell_type": "markdown",
   "id": "cb7a552d",
   "metadata": {},
   "source": [
    "$$\n",
    "r(n) = \\varrho \\left(1 - {x_n\\over R}\\right)\n",
    "$$"
   ]
  },
  {
   "cell_type": "markdown",
   "id": "991e681a",
   "metadata": {},
   "source": [
    "We observe that $r(n)\\approx \\varrho$ for small $n$, when $x_n\\ll R$, and\n",
    "$r(n) \\rightarrow 0$ as $n$ grows and $x_n\\rightarrow R$. This formulation of\n",
    "the growth rate leads to the logistic growth model:"
   ]
  },
  {
   "cell_type": "markdown",
   "id": "8fa4eb3b",
   "metadata": {},
   "source": [
    "$$\n",
    "x_n = x_{n-1} + \\frac{\\varrho}{100} x_{n-1}\\left(1 - {x_{n-1}\\over R}\\right) .\n",
    "$$"
   ]
  },
  {
   "cell_type": "markdown",
   "id": "48c4b03a",
   "metadata": {},
   "source": [
    "This is a *nonlinear* difference equation, while all the examples considered above were linear.\n",
    "The distinction between linear and non-linear equations is very important for\n",
    "mathematical analysis of the equations, but it does not make much difference when solving the equation\n",
    "in a program. To modify the interest rate program above to describe logistic growth, we can simply replace\n",
    "the line"
   ]
  },
  {
   "cell_type": "markdown",
   "id": "48ba302b",
   "metadata": {},
   "source": [
    "```Python\n",
    "        x[n] = x[n-1] + (p/100.0)*x[n-1]\n",
    "```"
   ]
  },
  {
   "cell_type": "markdown",
   "id": "9cddaaf6",
   "metadata": {},
   "source": [
    "by"
   ]
  },
  {
   "cell_type": "markdown",
   "id": "5f3c0e27",
   "metadata": {},
   "source": [
    "```Python\n",
    "        x[n] = x[n-1] + (rho/100)*x[n-1]*(1 - x[n-1]/R)\n",
    "```"
   ]
  },
  {
   "cell_type": "markdown",
   "id": "07a436df",
   "metadata": {},
   "source": [
    "A complete program may look like"
   ]
  },
  {
   "cell_type": "code",
   "execution_count": 7,
   "id": "311772bc",
   "metadata": {
    "collapsed": false
   },
   "outputs": [],
   "source": [
    "import numpy as np\n",
    "import matplotlib.pyplot as plt\n",
    "x0 = 100                      # initial population\n",
    "rho = 5                       # growth rate in %\n",
    "R = 500                       # max population (carrying capacity)\n",
    "N = 200                       # number of years\n",
    "\n",
    "index_set = range(N+1)\n",
    "x = np.zeros(len(index_set))\n",
    "\n",
    "x[0] = x0\n",
    "for n in index_set[1:]:\n",
    "    x[n] = x[n-1] + (rho/100) *x[n-1]*(1 - x[n-1]/R)\n",
    "\n",
    "plt.plot(index_set, x)\n",
    "plt.xlabel('years')\n",
    "plt.ylabel('amount')\n",
    "plt.show()"
   ]
  },
  {
   "cell_type": "markdown",
   "id": "608f8721",
   "metadata": {},
   "source": [
    "Note that the logistic growth model is more commonly formulated as an\n",
    "ordinary differential equation (ODE), and we will consider this formulation in\n",
    "the next chapter. For certain choices of numerical method and discretization\n",
    "parameters, the program for solving the ODE is identical to the program\n",
    "for the difference equation considered here.\n",
    "\n",
    "\n",
    "### The factorial as a difference equation.\n",
    "\n",
    "The factorial $n!$ is defined as"
   ]
  },
  {
   "cell_type": "markdown",
   "id": "460e74e6",
   "metadata": {},
   "source": [
    "<!-- Equation labels as ordinary links -->\n",
    "<div id=\"factorial\"></div>\n",
    "\n",
    "$$\n",
    "\\begin{equation}\n",
    "n! = n(n-1)(n-2)\\cdots 1,\\quad 0!=1\n",
    "\\label{factorial} \\tag{1}\n",
    "\\end{equation}\n",
    "$$"
   ]
  },
  {
   "cell_type": "markdown",
   "id": "abb86e02",
   "metadata": {},
   "source": [
    "The following difference equation has $x_n=n!$ as solution and can be used to compute the factorial:"
   ]
  },
  {
   "cell_type": "markdown",
   "id": "cca27d1b",
   "metadata": {},
   "source": [
    "$$\n",
    "x_n = nx_{n-1},\\quad x_0 = 1\n",
    "$$"
   ]
  },
  {
   "cell_type": "markdown",
   "id": "eaae1e33",
   "metadata": {},
   "source": [
    "As above, a natural question to ask is whether such a difference equation is\n",
    "very useful, when we can simply use the formula ([1](#factorial)) to compute\n",
    "the factorial for any value of $n$. One answer to this question is that in\n",
    "many applications, some of which will be considered below,\n",
    "we need to compute the\n",
    "entire sequence of factorials $x_n=n!$ for $n=0, \\ldots N$.\n",
    "We could still apply ([1](#factorial)) to compute each one, but it\n",
    "involves a lot of redundant computations, since we perform $n$ multiplications\n",
    "for each new $x_n$. When solving the difference equation, each\n",
    "new $x_n$ requires only a single multiplication, and for large values of $n$\n",
    "this may speed up the program considerably.\n",
    "\n",
    "\n",
    "### Newton's method as a difference equation\n",
    "\n",
    "Newton's method is a popular method for solving non-linear equations on the form"
   ]
  },
  {
   "cell_type": "markdown",
   "id": "aa1db7fc",
   "metadata": {},
   "source": [
    "$$\n",
    "f(x)=0 .\n",
    "$$"
   ]
  },
  {
   "cell_type": "markdown",
   "id": "0432fd88",
   "metadata": {},
   "source": [
    "Starting from some initial guess $x_0$, Newton's method\n",
    "gradually improves the approximation by iterations"
   ]
  },
  {
   "cell_type": "markdown",
   "id": "ba7c2e34",
   "metadata": {},
   "source": [
    "$$\n",
    "x_n = x_{n-1} - {f(x_{n-1})\\over f'(x_{n-1})} .\n",
    "$$"
   ]
  },
  {
   "cell_type": "markdown",
   "id": "fae40e3f",
   "metadata": {},
   "source": [
    "We may now recognize this as nonlinear first-order difference equation.\n",
    "As $n\\rightarrow\\infty$, we hope that $x_n\\rightarrow x_s$, where $x_s$ is\n",
    "the solution to $f(x_s)=0$. In practice we solve the equation for $n\\leq N$,\n",
    "for some finite $N$, just as for the difference equations considered earlier.\n",
    "But how do we choose $N$ so that $x_N$ is sufficiently close to the true solution\n",
    "$x_s$? Since we want to solve $f(x)=0$, the best approach is to solve the equation\n",
    "until $f(x)\\leq \\epsilon$, where $\\epsilon$ is a small tolerance. In practice, Newton's\n",
    "method will usually converge rather quickly, or not converge at all, so setting\n",
    "some upper bound on the number of iterations\n",
    "is a good idea. A simple implementation of Newton's method as a Python function\n",
    "may look like"
   ]
  },
  {
   "cell_type": "code",
   "execution_count": 8,
   "id": "0469b4a4",
   "metadata": {
    "collapsed": false
   },
   "outputs": [],
   "source": [
    "def Newton(f, dfdx, x, epsilon=1.0E-7, max_n=100):\n",
    "    n = 0\n",
    "    while abs(f(x)) > epsilon and n <= max_n:\n",
    "        x = x - f(x)/dfdx(x)\n",
    "        n += 1\n",
    "    return x, n, f(x)"
   ]
  },
  {
   "cell_type": "markdown",
   "id": "3aa7d547",
   "metadata": {},
   "source": [
    "The arguments to the function are Python functions `f` and `dfdx` implementing\n",
    "$f(x)$ and its derivative. Both of these arguments are called inside the function\n",
    "and must therefore be callable. The `x` argument is the initial guess for the solution $x$,\n",
    "and the two optional arguments at the end are the tolerance and the maximum\n",
    "number of iteration. Although the method is implemented as a while-loop rather\n",
    "than a for-loop, the main structure of the algorithm is exactly the same as for the\n",
    "other difference equations considered earlier.\n",
    "\n",
    "\n",
    "\n",
    "# Systems of Difference Equations\n",
    "All the examples considered so far have been scalar difference equations, which describe how a single quantity\n",
    "changes from one step to the next. However, many applications require tracking multiple variables\n",
    "simultaneously, and dynamics of these variables may be coupled in the sense that the value of one variable\n",
    "at step $n$ depends on the value of multiple variables at step $n-1$. As an example we may consider a simple\n",
    "extension of the interest rate model considered earlier. Assume that we have a fortune $F$ invested with an\n",
    "annual interest rate of $p$ percent, just as above, but now we also want to consume an amount $c_n$ every year.\n",
    "We model for computing our fortune $x_n$ at year $n$ can be \n",
    "formulated as a small extension of the difference equation considered earlier.\n",
    "First, simple reasoning tells us that the fortune at year $n$ is equal to\n",
    "the fortune at year $n-1$ plus the interest minus the amount we\n",
    "spent in year $n-1$. We have"
   ]
  },
  {
   "cell_type": "markdown",
   "id": "d87b656b",
   "metadata": {},
   "source": [
    "$$\n",
    "x_n = x_{n-1} + {p\\over 100}x_{n-1} - c_{n-1} .\n",
    "$$"
   ]
  },
  {
   "cell_type": "markdown",
   "id": "46669e19",
   "metadata": {},
   "source": [
    "In the simplest case we can assume that $c_n$ is constant, which would make this model a trivial\n",
    "extension of the interest rate model considered earlier. However, it is more natural to let $c_n$ increase because of\n",
    "inflation, and in this case we obtain a system of difference equations describing the evolution of $x_n$ and $c_n$.\n",
    "For instance, we may assume that $c_n$ should grow with a rate of $I$ percent per year, and in the first year\n",
    "we want to consume $q$ percent of first year's interest. The governing system of difference equations then\n",
    "becomes"
   ]
  },
  {
   "cell_type": "markdown",
   "id": "8f8ebecd",
   "metadata": {},
   "source": [
    "$$\n",
    "\\begin{align*}\n",
    "x_n &= x_{n-1} + {p\\over 100}x_{n-1} - c_{n-1}, \\\\\n",
    "c_n &= c_{n-1} + {I\\over 100}c_{n-1} .\n",
    "\\end{align*}\n",
    "$$"
   ]
  },
  {
   "cell_type": "markdown",
   "id": "76f8112e",
   "metadata": {},
   "source": [
    "with initial conditions $x_0=F$ and $c_0 = (pF/100)(q/100)  = \\frac{pFq}{10000}$. This is a coupled\n",
    "system of two first order difference equations, but the programming is not much more difficult than for the\n",
    "single equation above. We simply create two arrays `x` and `c`, initialize `x[0]`\n",
    "and `c[0]` to the given initial conditions, and then update `x[n]` and `c[n]`\n",
    "inside the loop. A complete code may look like"
   ]
  },
  {
   "cell_type": "code",
   "execution_count": 9,
   "id": "4d969541",
   "metadata": {
    "collapsed": false
   },
   "outputs": [],
   "source": [
    "import numpy as np\n",
    "import matplotlib.pyplot as plt\n",
    "F = 1e7                      # initial amount\n",
    "p = 5                         # interest rate\n",
    "I = 3\n",
    "q = 75\n",
    "N = 40                         # number of years\n",
    "index_set = range(N+1)\n",
    "x = np.zeros(len(index_set))\n",
    "c = np.zeros_like(x)\n",
    "\n",
    "x[0] = F\n",
    "c[0] = q*p*F*1e-4\n",
    "\n",
    "for n in index_set[1:]:\n",
    "    x[n] = x[n-1] + (p/100.0)*x[n-1] - c[n-1]\n",
    "    c[n] = c[n-1] + (I/100.0)*c[n-1]\n",
    "\n",
    "plt.plot(index_set, x, 'ro',label = 'Fortune')\n",
    "plt.plot(index_set, c, 'go', label = 'Yearly consume')\n",
    "plt.xlabel('years')\n",
    "plt.ylabel('amounts')\n",
    "plt.legend()\n",
    "plt.show()"
   ]
  },
  {
   "cell_type": "markdown",
   "id": "93317724",
   "metadata": {},
   "source": [
    "As another example of a system of difference equations, we may consider an extension of the\n",
    "logistic growth model considered earlier. While the logistic model describes the growth\n",
    "of a single population in the absence of predators, the famous Lotke-Volterra model\n",
    "describes the interaction of two species, a predator and a prey, in the same ecosystem.\n",
    "If we let $x_n$ be the number of prey and $y_n$ the number of predators on day $n$,\n",
    "the model for the population dynamics can be written as"
   ]
  },
  {
   "cell_type": "markdown",
   "id": "526f7a19",
   "metadata": {},
   "source": [
    "$$\n",
    "\\begin{align*}\n",
    "x_n &= x_{n-1} + a x_{n-1} − b x_{n-1}y_{n-1}, \\\\\n",
    "y_n &= y_{n-1} + db x_{n-1}y_{n-1} − c y_{n-1}.\n",
    "\\end{align*}\n",
    "$$"
   ]
  },
  {
   "cell_type": "markdown",
   "id": "a00042a7",
   "metadata": {},
   "source": [
    "Here, $a$ is the natural growth rate of the prey in the absence of predators,\n",
    "$b$ is the death rate of prey per encounter of prey and predator, \n",
    "$c$ is the natural death rate of predators in the absence of food (prey), and\n",
    "$d$ is the efficiency of turning predated prey into predators. This is a system\n",
    "of two first-order difference equations, just as the previous example, and a complete\n",
    "solution code may look as follows."
   ]
  },
  {
   "cell_type": "code",
   "execution_count": 10,
   "id": "02e7c297",
   "metadata": {
    "collapsed": false
   },
   "outputs": [],
   "source": [
    "import numpy as np\n",
    "import matplotlib.pyplot as plt\n",
    "x0 = 100                # initial prey population\n",
    "y0 = 8                  # initial predator pop.\n",
    "a = 0.0015\n",
    "b = 0.0003\n",
    "c = 0.006\n",
    "d = 0.5\n",
    "N = 10000               # number of time units (days)\n",
    "index_set = range(N+1)\n",
    "x = np.zeros(len(index_set))\n",
    "y = np.zeros_like(x)\n",
    "\n",
    "print(x.shape)\n",
    "\n",
    "x[0] = x0\n",
    "y[0] = y0\n",
    "\n",
    "for n in index_set[1:]:\n",
    "    x[n] = x[n-1] + a*x[n-1] - b*x[n-1]*y[n-1]\n",
    "    y[n] = y[n-1] + d*b*x[n-1]*y[n-1] - c*y[n-1]\n",
    "\n",
    "plt.plot(index_set, x,label = 'Prey')\n",
    "plt.plot(index_set, y, label = 'Predator')\n",
    "plt.xlabel('Time')\n",
    "plt.ylabel('Population')\n",
    "plt.legend()\n",
    "plt.show()"
   ]
  },
  {
   "cell_type": "markdown",
   "id": "e001b9c3",
   "metadata": {},
   "source": [
    "We \n",
    "\n",
    "\n",
    "\n",
    "\n",
    "\n",
    "# Taylor Series and Approximations\n",
    "One extremely important use of sequences and series is for approximating\n",
    "functions. For instance, commonly used functions such as\n",
    "$\\sin x, \\ln x$, and $e^x$ have been defined to have some desired mathematical\n",
    "properties, and we have an intuitive understanding of how they look,\n",
    "but we need some kind of algorithm to evaluate the function values.\n",
    "A convenient approach would be to approximate these functions by polynomials,\n",
    "since they are easy to calculate. It turns out that such polynomial\n",
    "approximations exist, and they have been used for centuries to compute\n",
    "exponentials, trigonometric, and other functions. By far, the most famous and\n",
    "widely used series of this kind are the Taylor series, discovered in 1715:"
   ]
  },
  {
   "cell_type": "markdown",
   "id": "6c55c44c",
   "metadata": {},
   "source": [
    "<!-- Equation labels as ordinary links -->\n",
    "<div id=\"taylor0\"></div>\n",
    "\n",
    "$$\n",
    "\\begin{equation}\n",
    "f(x) = \\sum_{k=0}^\\infty \\frac{1}{k!}(\\frac{d^kf(0)}{dx^k})x^k .\n",
    "\\label{taylor0} \\tag{2}\\end{equation}\n",
    "$$"
   ]
  },
  {
   "cell_type": "markdown",
   "id": "76e58af3",
   "metadata": {},
   "source": [
    "Here, the notation $d^kf(0)/dx^k$ means the $k$-th derivative of $f$ evaluated\n",
    "at $x=0$. We can calculate a few of the terms in the sum to get"
   ]
  },
  {
   "cell_type": "markdown",
   "id": "41973260",
   "metadata": {},
   "source": [
    "$$\n",
    "f(x) = f(0)+f'(0)x+\\frac{1}{2}f''(0)x^2 + \\frac{1}{6} f'''(0) x^3 \\ldots ,\n",
    "$$"
   ]
  },
  {
   "cell_type": "markdown",
   "id": "ace78409",
   "metadata": {},
   "source": [
    "which makes it obvious that the right hand side of ([2](#taylor0)) is in fact a polynomial in $x$.\n",
    "Taylor's result means that for any function $f(x)$, if we can compute the\n",
    "function value and its derivatives for $x=0$, we can approximate the function\n",
    "value at any $x$ by evaluating a polynomial. For practical applications, we always work\n",
    "with a truncated version of the Taylor series:"
   ]
  },
  {
   "cell_type": "markdown",
   "id": "e7b863c3",
   "metadata": {},
   "source": [
    "<!-- Equation labels as ordinary links -->\n",
    "<div id=\"taylor1\"></div>\n",
    "\n",
    "$$\n",
    "\\begin{equation}\n",
    "f(x) \\approx \\sum_{k=0}^{N}\n",
    "\\frac{1}{k!}(\\frac{d^kf(0)}{dx^k} )x^k .\n",
    "\\label{taylor1} \\tag{3}\\end{equation}\n",
    "$$"
   ]
  },
  {
   "cell_type": "markdown",
   "id": "0ec88b14",
   "metadata": {},
   "source": [
    "The approximation improves as $N$ is increased, but the most popular\n",
    "choice is actually $N=1$, which gives a reasonable approximation close to $x=0$ and\n",
    "has been essential in developing physics and technology. By a shift of variables\n",
    "we can make these truncated Taylor series accurate around any value $x=a$:"
   ]
  },
  {
   "cell_type": "markdown",
   "id": "72b01150",
   "metadata": {},
   "source": [
    "$$\n",
    "f(x) \\approx \\sum_{k=0}^{N}\n",
    "\\frac{1}{k!}(\\frac{d^kf(a)}{dx^k} )(x-a)^k .\n",
    "$$"
   ]
  },
  {
   "cell_type": "markdown",
   "id": "c60dead4",
   "metadata": {},
   "source": [
    "One of many applications of truncated Taylor series is to derive numerical methods for ODEs, and to analyze\n",
    "their accuracy, as we briefly introduced in Chapter 2.\n",
    "\n",
    "As a specific example of a Taylor series, consider the exponential function, where\n",
    "we know that $d^k e^x/dx^k = e^x$ for all $k$, and $e^0 = 1$. \n",
    "Inserting this into ([3](#taylor1)) yields"
   ]
  },
  {
   "cell_type": "markdown",
   "id": "0032bcb4",
   "metadata": {},
   "source": [
    "$$\n",
    "\\begin{align*}\n",
    "e^x &= \\sum_{k=0}^\\infty \\frac{x^k}{k!} \\\\\n",
    "    &\\approx \\sum_{k=0}^N \\frac{x^k}{k!} .\n",
    "\\end{align*}\n",
    "$$"
   ]
  },
  {
   "cell_type": "markdown",
   "id": "c741ef50",
   "metadata": {},
   "source": [
    "Choosing, for instance, $N=1$ and $N=4$, we get"
   ]
  },
  {
   "cell_type": "markdown",
   "id": "9445740e",
   "metadata": {},
   "source": [
    "$$\n",
    "\\begin{align*}\n",
    "e^x&\\approx 1 + x , \\\\\n",
    "e^x&\\approx 1 + x + \\frac{1}{2}x^2 + \\frac{1}{6}x^3,\n",
    "\\end{align*}\n",
    "$$"
   ]
  },
  {
   "cell_type": "markdown",
   "id": "f308449f",
   "metadata": {},
   "source": [
    "respectively.\n",
    "These approximations are obviously not very accurate for large $x$,\n",
    "but close to $x=0$ they are sufficiently accurate for many\n",
    "applications. Taylor series approximations for other functions can be constructed by similar arguments.\n",
    "Consider, for instance, $sin(x)$, where the derivatives follow the repetitive pattern\n",
    "$sin'(x) = cos(x), sin''(x) = -sin(x), sin'''(x) = -cos(x), \\dots...$. We also have $sin(0)=0, cos(0)=1$,\n",
    "so in general we have \n",
    "$d^k sin(0)/dx^k = (-1)^k mod(k,2)$, where $mod(k,2)$ is zero for $k$ even and\n",
    "<!-- one for $k$ odd. Inserting this expression into ([2](#taylor0)), we get -->"
   ]
  },
  {
   "cell_type": "markdown",
   "id": "695300aa",
   "metadata": {},
   "source": [
    "$$\n",
    "\\sin x = \\sum_{k=0}^\\infty (-1)^k\\frac{x^{2k+1}}{(2k+1)!} .\n",
    "$$"
   ]
  },
  {
   "cell_type": "markdown",
   "id": "045df916",
   "metadata": {},
   "source": [
    "### Taylor series formulated as difference equations.\n",
    "\n",
    "We consider again the Taylor series for $e^x$ around $x=0$, given by"
   ]
  },
  {
   "cell_type": "markdown",
   "id": "dbb478f8",
   "metadata": {},
   "source": [
    "$$\n",
    "e^x= \\sum_{k=0}^\\infty {x^k\\over k!} .\n",
    "$$"
   ]
  },
  {
   "cell_type": "markdown",
   "id": "86fe97a7",
   "metadata": {},
   "source": [
    "If we now define $e_n$ as the approximation with $n$ terms, i.e. for $k=0,\\ldots, n-1$,\n",
    "we have"
   ]
  },
  {
   "cell_type": "markdown",
   "id": "80ac1002",
   "metadata": {},
   "source": [
    "$$\n",
    "e_{n}=\\sum_{k=0}^{n-1} \\frac{x^k}{k!} =\n",
    "\\sum_{k=0}^{n-2} \\frac{x^k}{k!} + \\frac{x^{n-1}}{(n-1)!},\n",
    "$$"
   ]
  },
  {
   "cell_type": "markdown",
   "id": "feb336d4",
   "metadata": {},
   "source": [
    "and we can formulate the sum in $e_n$ as the difference equation"
   ]
  },
  {
   "cell_type": "markdown",
   "id": "220cf1b3",
   "metadata": {},
   "source": [
    "<!-- Equation labels as ordinary links -->\n",
    "<div id=\"taylor_diffeq0\"></div>\n",
    "\n",
    "$$\n",
    "\\begin{equation}\n",
    "e_n = e_{n-1} + \\frac{x^{n-1}}{(n-1)!},\\quad e_0=0 .\n",
    "\\label{taylor_diffeq0} \\tag{4}\n",
    "\\end{equation}\n",
    "$$"
   ]
  },
  {
   "cell_type": "markdown",
   "id": "e6daea1c",
   "metadata": {},
   "source": [
    "We see that this difference equation involves $(n-1)!$, and computing\n",
    "the complete factorial for every iteration involves a large number of redundant\n",
    "multiplications. Above we introduced a difference equation for the factorial, and\n",
    "this idea can be utilized to formulate a more efficient computation of the\n",
    "Taylor polynomial. We have that"
   ]
  },
  {
   "cell_type": "markdown",
   "id": "04524d15",
   "metadata": {},
   "source": [
    "$$\n",
    "\\frac{x^n}{n!} = \\frac{x^{n-1}}{(n-1)!}\\cdot \\frac{x}{n},\n",
    "$$"
   ]
  },
  {
   "cell_type": "markdown",
   "id": "a5019284",
   "metadata": {},
   "source": [
    "and if we let $a_n = x^n/n!$ it can be computed efficiently by solving"
   ]
  },
  {
   "cell_type": "markdown",
   "id": "93f86d67",
   "metadata": {},
   "source": [
    "$$\n",
    "a_n = a_{n-1}\\frac{x}{n},\\quad a_0 = 1 .\n",
    "$$"
   ]
  },
  {
   "cell_type": "markdown",
   "id": "503d7fd5",
   "metadata": {},
   "source": [
    "Now we can formulate a system of two difference equations for the Taylor polynomial, where we update each term via\n",
    "the $a_n$ equation and sum the terms via the $e_n$ equation:"
   ]
  },
  {
   "cell_type": "markdown",
   "id": "f8407bb6",
   "metadata": {},
   "source": [
    "$$\n",
    "\\begin{align*}\n",
    "e_n &= e_{n-1} + a_{n-1},\\quad e_0 = 0, \\\\\n",
    "a_n &= \\frac{x}{n} a_{n-1} , \\quad a_0 = 1.\n",
    "\\end{align*}\n",
    "$$"
   ]
  },
  {
   "cell_type": "markdown",
   "id": "00b21692",
   "metadata": {},
   "source": [
    "Although we are here solving a system of two difference equations, the computation\n",
    "is far more efficient than solving the single equation in ([4](#taylor_diffeq0))\n",
    "directly, since we avoid the repeated multiplications involved in the factorial computation.\n",
    "\n",
    "A complete Python code for solving the system of difference equation and computing the Taylor\n",
    "approximation to the exponential function may look like"
   ]
  },
  {
   "cell_type": "code",
   "execution_count": 11,
   "id": "92e8a94e",
   "metadata": {
    "collapsed": false
   },
   "outputs": [],
   "source": [
    "import numpy as np\n",
    "\n",
    "x = 0.5 #approximate exp(x) for x = 0.5\n",
    "\n",
    "N = 5\n",
    "index_set = range(N+1)\n",
    "a = np.zeros(len(index_set))\n",
    "e = np.zeros(len(index_set))\n",
    "a[0] = 1\n",
    "\n",
    "print(f'Exact: exp({x}) = {np.exp(x)}')\n",
    "for n in index_set[1:]:\n",
    "    e[n] = e[n-1] + a[n-1]\n",
    "    a[n] = x/n*a[n-1]\n",
    "    print(f'n = {n}, approx. {e[n]}, error = {np.abs(e[n]-np.exp(x)):4.5f}')"
   ]
  },
  {
   "cell_type": "markdown",
   "id": "32172824",
   "metadata": {},
   "source": [
    "This small program first prints the exact value $e^x$ for $x=0.5$, and then\n",
    "the Taylor approximation and associated error for $n=1$ to $n=5$. The Taylor series\n",
    "approximation is most accurate close to $x=0$, so choosing a larger value\n",
    "of $x$ leads to larger errors, and we need to also increase $n$ for the approximation\n",
    "to be accurate."
   ]
  }
 ],
 "metadata": {},
 "nbformat": 4,
 "nbformat_minor": 5
}
