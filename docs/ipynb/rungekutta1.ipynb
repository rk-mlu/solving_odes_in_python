{
 "cells": [
  {
   "cell_type": "markdown",
   "id": "bb6503c8",
   "metadata": {},
   "source": [
    "# High-order explicit ODE solvers\n",
    "\n",
    "As mentioned earlier, the FE method derived in Chapter 1 is not the\n",
    "most sophisticated ODE solver, although it is sufficiently accurate for\n",
    "most of the applications we will consider in this book. Many alternative methods\n",
    "exist, which have better accuracy and stability and are therefore better suited\n",
    "for solving challenging ODE systems. In this chapter we will focus\n",
    "on improving the accuracy, which means that we will stick with explicit\n",
    "methods. Implicit methods, which have better stability properties and are more\n",
    "suitable for so-called *stiff* ODEs, will be\n",
    "considered in Chapter 3.\n",
    "\n",
    "In Chapter 1 we demonstrated the FE method is a\n",
    "first order accurate method, which means that the error in the numerical\n",
    "solution is proportional to the time step size $\\Delta t$. In this chapter\n",
    "we will derive solvers of higher order, for which the numerical error\n",
    "is proportional to a higher power of $\\Delta t$.\n",
    "To illustrate how such higher order ODE solvers can be derived, we return to the\n",
    "general formulation of the ODE system:"
   ]
  },
  {
   "cell_type": "markdown",
   "id": "0c8577e6",
   "metadata": {},
   "source": [
    "$$\n",
    "u' = f(t,u), \\quad u(t_0) = u_0 .\n",
    "$$"
   ]
  },
  {
   "cell_type": "markdown",
   "id": "729242b1",
   "metadata": {},
   "source": [
    "We derived the FE method by simply replacing\n",
    "the derivative with a finite difference approximation, but in the present \n",
    "chapter we will apply a slightly different approach to motivate higher order solvers.\n",
    "Assuming that we know the solution\n",
    "$u_n$ at time $t_n$, the solution at time $t_{n+1}$ can  be found by\n",
    "integrating both sides of the equation. We have"
   ]
  },
  {
   "cell_type": "markdown",
   "id": "ab01c3c4",
   "metadata": {},
   "source": [
    "$$\n",
    "\\int_{t_n}^{t_{n+1}} \\frac{du}{dt} dt =  \\int_{t_n}^{t_{n+1}}\n",
    "f(t,u(t)) dt ,\n",
    "$$"
   ]
  },
  {
   "cell_type": "markdown",
   "id": "22104a2c",
   "metadata": {},
   "source": [
    "which gives us the exact solution at time $t_{n+1}$ as"
   ]
  },
  {
   "cell_type": "markdown",
   "id": "d74f2f1c",
   "metadata": {},
   "source": [
    "<!-- Equation labels as ordinary links -->\n",
    "<div id=\"ode_integral0\"></div>\n",
    "\n",
    "$$\n",
    "\\begin{equation}\n",
    "u(t_{n+1}) = u(t_n) + \\int_{t_n}^{t_{n+1}} f(t,u(t)) dt .\n",
    "\\label{ode_integral0} \\tag{1}\\end{equation}\n",
    "$$"
   ]
  },
  {
   "cell_type": "markdown",
   "id": "3cbed838",
   "metadata": {},
   "source": [
    "It is in general not possible to compute the integral on the right-hand side\n",
    "analytically, since $f$ is often non-linear and the function $u(t)$ is unknown.\n",
    "However, we can approximate the integral using a variety of numerical\n",
    "integration techniques. The simplest approximation is to set"
   ]
  },
  {
   "cell_type": "markdown",
   "id": "d02681e0",
   "metadata": {},
   "source": [
    "$$\n",
    "f(t,u(t)) \\approx f(t_n,u_n), \\text{ for } t_n < t < t_{n+1},\n",
    "$$"
   ]
  },
  {
   "cell_type": "markdown",
   "id": "a7e32512",
   "metadata": {},
   "source": [
    "i.e., approximate the integrand as a constant on the interval $t_n$ to $t_n +\\Delta t$.\n",
    "Inserting this choice in ([1](#ode_integral0)) gives the update formula"
   ]
  },
  {
   "cell_type": "markdown",
   "id": "3714497a",
   "metadata": {},
   "source": [
    "$$\n",
    "u_{n+1} = u_n + \\Delta t\\, f(t_n, u_n),\n",
    "$$"
   ]
  },
  {
   "cell_type": "markdown",
   "id": "856d9059",
   "metadata": {},
   "source": [
    "which we recognize as the FE method introduced in Chapter 1.\n",
    "Approximating the function $f(t_n,u_n)$ as constant on the interval\n",
    "$t_n < t < t_{n+1}$ is obviously not the most accurate choice, and we shall see\n",
    "that more accurate approximations of this integrand gives rise to ODE solvers\n",
    "of higher order.\n",
    "\n",
    "The classical way to approximate the integral of a general non-linear function is\n",
    "to approximate the function by a polynomial, and then integrating this polynomial\n",
    "analytically. This approach forms the basis for standard quadrature rules for numerical\n",
    "integration, and has also been used to derive accurate ODE solvers. Two main ideas \n",
    "have been explored for constructing the polynomial approximation of $f(t,u)$, and have\n",
    "led to two important classes of ODE solvers. The first approach is to approximate $f(t,u)$ \n",
    "by a polynomial which interpolates $f$ in previous time points, i.e., \n",
    "$f(t_{n-1}), u_{n-1}, f(t_{n-2}, u_{n-2}),\\ldots $. This method gives rise to the so-called\n",
    "*multistep* methods, which are widely used for solving ODEs. We will not consider multistep\n",
    "methods in these notes, but the interested reader is referred to, for instance, [[ODEI;@AscherPetzold]](#ODEI;@AscherPetzold).\n",
    "The second approach is to compute a number of intermediate approximations of $f(t,u)$ on the\n",
    "interval $t_n < t < t_{n+1}$, and use these values to define the polynomial approximation of $f$.\n",
    "This idea is similar to how classical quadrature rules for numerical integration are derived, \n",
    "and gives rise to a class of ODE solvers known as Runge-Kutta methods. Runge-Kutta methods come in\n",
    "many forms, with very different accuracy and stability properties, and will be the main topic of the\n",
    "remaining chapters. \n",
    "\n",
    "\n",
    "# Explicit Runge-Kutta methods\n",
    "An intuitive way to improve the accuracy of the approximate integral is\n",
    "to compute a number of intermediate approximations of $f(t_*, u_*)$ for\n",
    " $t_n \\leq t_* \\leq t_{n+1}$, and compute the integral as a weighted sum of\n",
    "these $u_*$ values. This approach builds on standard techniques of numerical\n",
    "integration, and gives rise to a very popular class of ODE solvers\n",
    "known as *Runge-Kutta methods*. The simplest example of a Runge-Kutta method\n",
    "is in fact the FE method, which is an example of a one-stage, first-order,\n",
    "explicit Runge-Kutta method. An alternative formulation of the FE method is"
   ]
  },
  {
   "cell_type": "markdown",
   "id": "082c9a72",
   "metadata": {},
   "source": [
    "$$\n",
    "\\begin{align*}\n",
    "k_1 &= f(t_n, u_n), \\\\\n",
    "u_{n+1} &= u_n + \\Delta t k_1 .\n",
    "\\end{align*}\n",
    "$$"
   ]
  },
  {
   "cell_type": "markdown",
   "id": "5c5dd50e",
   "metadata": {},
   "source": [
    "It can easily be verified that this is the same formula as introduced\n",
    "above, and there is no real benefit from writing the formula in two lines\n",
    "rather than one. However, this second formulation is more in line with\n",
    "how Runge-Kutta methods are usually written, and it makes it easy to see the\n",
    "relation between the FE method and more advanced solvers. The intermediate\n",
    "value $k_1$ is often referred to as a *stage derivative* in the\n",
    "ODE literature.\n",
    "\n",
    "We can easily improve the accuracy of the FE method to\n",
    "second order, i.e., error proportional to $\\Delta t^2$, by introducing more\n",
    "accurate approximations of the integral in ([1](#ode_integral0)). One option\n",
    "is to keep the assumption that $f(t,u(t))$ is constant \n",
    "over $t_n \\leq t_* \\leq t_{n+1}$, but to approximate it at the middle of the\n",
    "interval rather than the left end. This approach requires one additional stage:"
   ]
  },
  {
   "cell_type": "markdown",
   "id": "dd3f8d48",
   "metadata": {},
   "source": [
    "<!-- Equation labels as ordinary links -->\n",
    "<div id=\"midpoint0\"></div>\n",
    "\n",
    "$$\n",
    "\\begin{equation}\n",
    "k_1  = f(t_n, u_n), \\label{midpoint0} \\tag{2}\n",
    "\\end{equation}\n",
    "$$"
   ]
  },
  {
   "cell_type": "markdown",
   "id": "5a4e49de",
   "metadata": {},
   "source": [
    "<!-- Equation labels as ordinary links -->\n",
    "<div id=\"midpoint1\"></div>\n",
    "\n",
    "$$\n",
    "\\begin{equation} \n",
    "k_2  = f(t_n+\\frac{\\Delta t}{2}, u_n+\\frac{\\Delta t}{2} k_1), \\label{midpoint1} \\tag{3}\n",
    "\\end{equation}\n",
    "$$"
   ]
  },
  {
   "cell_type": "markdown",
   "id": "2bfd0e70",
   "metadata": {},
   "source": [
    "<!-- Equation labels as ordinary links -->\n",
    "<div id=\"midpoint2\"></div>\n",
    "\n",
    "$$\n",
    "\\begin{equation} \n",
    "u_{n+1} = u_n + \\Delta t\\, k_2 . \\label{midpoint2} \\tag{4}\n",
    "\\end{equation}\n",
    "$$"
   ]
  },
  {
   "cell_type": "markdown",
   "id": "c2bd40ac",
   "metadata": {},
   "source": [
    "This method is known as the explicit midpoint method or the modified Euler method.\n",
    "The first step is identical to that of the FE method, but instead\n",
    "of using the stage derivate $k_1$ to advance the solution to the next step,\n",
    "we use it to compute a new stage derivative $k_2$, which is an\n",
    "approximation of the derivative of $u$ at time $t_n+\\Delta t/2$. Finally,\n",
    "we use this midpoint derivative to advance the solution to $t_{n+1}$.\n",
    "\n",
    "An alternative second order method is Heun's method,\n",
    "also referred to as the explicit trapezoidal method, which can be derived\n",
    "by approximating the integral in ([1](#ode_integral0)) by a trapezoidal rule:"
   ]
  },
  {
   "cell_type": "markdown",
   "id": "e8966d68",
   "metadata": {},
   "source": [
    "<!-- Equation labels as ordinary links -->\n",
    "<div id=\"_auto1\"></div>\n",
    "\n",
    "$$\n",
    "\\begin{equation}\n",
    "k_1  = f(t_n, u_n), \n",
    "\\label{_auto1} \\tag{5}\n",
    "\\end{equation}\n",
    "$$"
   ]
  },
  {
   "cell_type": "markdown",
   "id": "dd5c7e74",
   "metadata": {},
   "source": [
    "<!-- Equation labels as ordinary links -->\n",
    "<div id=\"_auto2\"></div>\n",
    "\n",
    "$$\n",
    "\\begin{equation} \n",
    "k_2  = f(t_n+\\Delta t, u_n+\\Delta t k_1), \n",
    "\\label{_auto2} \\tag{6}\n",
    "\\end{equation}\n",
    "$$"
   ]
  },
  {
   "cell_type": "markdown",
   "id": "3f4585ad",
   "metadata": {},
   "source": [
    "<!-- Equation labels as ordinary links -->\n",
    "<div id=\"_auto3\"></div>\n",
    "\n",
    "$$\n",
    "\\begin{equation} \n",
    "u_{n+1} = u_n + \\frac{\\Delta t}{2} (k_1 + k_2) .\n",
    "\\label{_auto3} \\tag{7}\n",
    "\\end{equation}\n",
    "$$"
   ]
  },
  {
   "cell_type": "markdown",
   "id": "7b62c06d",
   "metadata": {},
   "source": [
    "This method also computes two stage derivatives $k_1$ and $k_2$, but from the\n",
    "formula for $k_2$ we see that it approximates the derivative at $t_{n+1}$ rather\n",
    "than at the midpoint $t_{n}+\\Delta t/2$. The solution is then advanced from\n",
    "$t_n$ to $t_{n+1}$ using the mean value of $k_1$ and $k_2$.\n",
    "\n",
    "All Runge-Kutta methods follow the same recipe as the two second-order methods considered\n",
    "above; we compute one or more intermediate values (i.e., stage derivatives), and then advance the\n",
    "solution using a combination of these stage derivatives. The accuracy of the method can\n",
    "be improved by adding more stages. A general Runge-Kutta method with $s$ stages\n",
    "can be written as"
   ]
  },
  {
   "cell_type": "markdown",
   "id": "2d34381f",
   "metadata": {},
   "source": [
    "<!-- Equation labels as ordinary links -->\n",
    "<div id=\"genrk0\"></div>\n",
    "\n",
    "$$\n",
    "\\begin{equation}\n",
    "k_i = f(t_n+c_i\\Delta t, u_n+\\Delta t \\sum_{j=1}^s a_{ij}k_j),  \\mbox{\\  for } i = 1,\\ldots ,s \\label{genrk0} \\tag{8}\n",
    "\\end{equation}\n",
    "$$"
   ]
  },
  {
   "cell_type": "markdown",
   "id": "8d9cfb0c",
   "metadata": {},
   "source": [
    "<!-- Equation labels as ordinary links -->\n",
    "<div id=\"genrk1\"></div>\n",
    "\n",
    "$$\n",
    "\\begin{equation} \n",
    "u_{n+1} = u_0 + \\Delta t \\sum_{i=1}^s b_i k_i .\\label{genrk1} \\tag{9}\n",
    "\\end{equation}\n",
    "$$"
   ]
  },
  {
   "cell_type": "markdown",
   "id": "1027ce6c",
   "metadata": {},
   "source": [
    "Here $c_i, b_i, a_{ij}$, for $i,j, = 1,\\ldots ,s$ are\n",
    "method-specific coefficients. All Runge-Kutta methods can be written\n",
    "in this form, and a method is uniquely determined by the\n",
    "number of stages $s$ and the values of the coefficients. \n",
    "\n",
    "As mentioned above there exists a wide variety of Runge-Kutta methods\n",
    "exist, where the coefficients are typically chosen to optimize the accuracy for\n",
    "a given number of stages. It can be shown that the $b_i$ coefficients must be chosen to satisfy\n",
    "$\\sum_{i=1}^s b_i = 1$ in order to have a consistent method. This condition follows quite\n",
    "naturally from our motivation for Runge-Kutta methods as numerical integrators \n",
    "applied to ([1](#ode_integral0)). When approximating the integral as a weighted sum, the sum of the weights must\n",
    "obviously be one. Another common constraint on the coefficients is to \n",
    "set $c_i = \\sum_{j=1}^s a_{ij}$. While this constraint\n",
    "is not strictly needed, it may simplify the derivation of the methods and \n",
    "follows naturally from our interpretation of the stage derivative $k_i$ as \n",
    "approximations of the right-hand side $f(t,u)$ at time $t_n+c_i\\Delta t$. \n",
    "It is possible to derive general *order conditions* that the coefficients must satisfy for a method\n",
    "to be of a given order, see, for instance, [[AscherPetzold;@ODEI]](#AscherPetzold;@ODEI) for details. \n",
    "In this chapter we only consider explicit Runge-Kutta methods, which means that $a_{ij} = 0$\n",
    "for $j\\geq i$. It can be shown that the order $p$ of an explicit Runge-Kutta method with $s$ \n",
    "stages satisfies $p\\leq s$, and for $p \\geq 5$ we must have $s\\geq s+1$. However, it is not known\n",
    "whether the last bound is sharp, and it may be even stricter for methods of very high order. For \n",
    "instance, all known methods with $p=8$ have at least eleven stages, and it is not known whether eight-order methods\n",
    "with nine or ten stages exist. \n",
    "\n",
    "In the ODE literature the method coefficients are often specified in the\n",
    "form of a *Butcher tableau*, which offers a compact definition of any Runge-Kutta method.\n",
    "Te Butcher tableau is simply a specification of all the method coefficients, and\n",
    "for a general Runge-Kutta method it is written as"
   ]
  },
  {
   "cell_type": "markdown",
   "id": "1dc5b79a",
   "metadata": {},
   "source": [
    "$$\n",
    "\\begin{array}{c|ccc}\n",
    "c_i & a_{11} & \\cdots & a_{1s}\\\\\n",
    "\\vdots & \\vdots & & \\vdots \\\\\n",
    "c_s & a_{s1} & \\cdots & a_{ss} \\\\ \\hline\n",
    " & b_1 & \\cdots & b_s\n",
    "\\end{array}\n",
    "$$"
   ]
  },
  {
   "cell_type": "markdown",
   "id": "a7fad729",
   "metadata": {},
   "source": [
    "The Butcher tableaus of the three methods considered above; FE, explicit midpoint, and Heun's method, are"
   ]
  },
  {
   "cell_type": "markdown",
   "id": "b2720966",
   "metadata": {},
   "source": [
    "$$\n",
    "\\begin{array}{c|cc}\n",
    "0 & 0 \\\\ \\hline\n",
    " & 1\n",
    "\\end{array} \\hspace{1mm}, \\hspace{1cm}\n",
    "\\begin{array}{c|cc}\n",
    "0 & 0& 0 \\\\\n",
    "1/2 & 1/2 & 0 \\\\ \\hline\n",
    " & 0 & 1\n",
    "\\end{array} \\hspace{1mm},\\hspace{1cm}\n",
    "\\begin{array}{c|cc}\n",
    "0 & 0& 0 \\\\\n",
    "1 & 1 & 0 \\\\ \\hline\n",
    " & 1/2 & 1/2\n",
    "\\end{array} \\hspace{1mm},\n",
    "$$"
   ]
  },
  {
   "cell_type": "markdown",
   "id": "b701447a",
   "metadata": {},
   "source": [
    "respectively. To grasp the concept of Butcher tableaus, it is a good exercise to\n",
    "insert the coefficients from these three tableaus into ([8](#genrk0))-([9](#genrk1))\n",
    "and verify that you arrive at the correct formulae for the three methods.\n",
    "As an example of a higher order method, we may consider the \"original\" Runge-Kutta \n",
    "method, which is a fourth-order, four-stage method defined by"
   ]
  },
  {
   "cell_type": "markdown",
   "id": "c0ea6309",
   "metadata": {},
   "source": [
    "$$\n",
    "\\begin{array}{c|cccc}\n",
    "0 & 0& 0 & 0 & 0\\\\\n",
    "1/2 & 1/2 & 0 & 0 & 0\\\\\n",
    "1/2 & 0 & 1/2 & 0 & 0 \\\\\n",
    "1  & 0 & 0 & 1 & 0 \\\\ \\hline\n",
    " & 1/6 & 1/3 & 1/3 & 1/6\n",
    "\\end{array} ,\n",
    "$$"
   ]
  },
  {
   "cell_type": "markdown",
   "id": "0fd2b88d",
   "metadata": {},
   "source": [
    "which gives the formulas"
   ]
  },
  {
   "cell_type": "markdown",
   "id": "029381d7",
   "metadata": {},
   "source": [
    "<!-- Equation labels as ordinary links -->\n",
    "<div id=\"rk4_0\"></div>\n",
    "\n",
    "$$\n",
    "\\begin{equation}\n",
    "k_1 = f(t_n, u_n) , \\label{rk4_0} \\tag{10}\n",
    "\\end{equation}\n",
    "$$"
   ]
  },
  {
   "cell_type": "markdown",
   "id": "275e0056",
   "metadata": {},
   "source": [
    "<!-- Equation labels as ordinary links -->\n",
    "<div id=\"_auto4\"></div>\n",
    "\n",
    "$$\n",
    "\\begin{equation} \n",
    "k_2 = f(t_n + \\frac{\\Delta t}{2}, u_n + \\frac{\\Delta t}{2}k_1),\n",
    "\\label{_auto4} \\tag{11}\n",
    "\\end{equation}\n",
    "$$"
   ]
  },
  {
   "cell_type": "markdown",
   "id": "fadbbb7d",
   "metadata": {},
   "source": [
    "<!-- Equation labels as ordinary links -->\n",
    "<div id=\"_auto5\"></div>\n",
    "\n",
    "$$\n",
    "\\begin{equation} \n",
    "k_3 = f(t_n + \\frac{\\Delta t}{2}, u_n + \\frac{\\Delta t}{2}k_2),\n",
    "\\label{_auto5} \\tag{12}\n",
    "\\end{equation}\n",
    "$$"
   ]
  },
  {
   "cell_type": "markdown",
   "id": "f36b5389",
   "metadata": {},
   "source": [
    "<!-- Equation labels as ordinary links -->\n",
    "<div id=\"_auto6\"></div>\n",
    "\n",
    "$$\n",
    "\\begin{equation} \n",
    "k_4 = f(t_n + \\Delta t, u_n + \\Delta t k_3), \n",
    "\\label{_auto6} \\tag{13}\n",
    "\\end{equation}\n",
    "$$"
   ]
  },
  {
   "cell_type": "markdown",
   "id": "c02cc725",
   "metadata": {},
   "source": [
    "<!-- Equation labels as ordinary links -->\n",
    "<div id=\"rk4_5\"></div>\n",
    "\n",
    "$$\n",
    "\\begin{equation} \n",
    "u_{n+1} = u_n + \\frac{\\Delta t}{6} \\left( k_1 + 2k_2 + 2k_3 + k_4\\right) .\\label{rk4_5} \\tag{14}\n",
    "\\end{equation}\n",
    "$$"
   ]
  },
  {
   "cell_type": "markdown",
   "id": "454291a2",
   "metadata": {},
   "source": [
    "As mentioned above, all the methods considered in this chapter are \n",
    "explicit methods, which means that $a_{ij} = 0$ for $j \\geq i$. As may be observed from \n",
    "([10](#rk4_0))-([14](#rk4_5)), or from a more careful inspection of the general formula ([8](#genrk0)),\n",
    "this means that the expression for computing each stage derivative $k_i$ only includes\n",
    "previously computed stage derivatives. Therefore, all $k_i$ can be computed sequentially\n",
    "using explicit formulae. For implicit Runge-Kutta methods, on the other hand,\n",
    "we have $a_{ij} \\neq 0$ for some $j\\geq i$. We see from\n",
    "([8](#genrk0)) that the formula for computing $k_i$ will then include $k_i$\n",
    "on the right-hand side, as part of the argument to the function $f$. We\n",
    "therefore need to solve equations to compute the stage derivatives, and since\n",
    "$f$ is typically non-linear we need to solve these equations with an iterative solver\n",
    "such as Newton's method. These steps make implicit\n",
    "Runge-Kutta methods more complex to implement and more computationally expensive per time step,\n",
    "but they are also more stable than explicit methods and perform much better\n",
    "for certain classes of ODEs. We will consider implicit Runge-Kutta methods in\n",
    "Chapter 3.\n",
    "\n",
    "# A class hierarchy of Runge-Kutta methods\n",
    "\n",
    "We now want to implement Runge-Kutta methods as classes,\n",
    "similar to the FE classes introduced above. When inspecting the `ForwardEuler`\n",
    "class, we quickly observe that most of the code is common to all ODE solvers, and\n",
    "not specific to the FE method. For instance, we\n",
    "always need to create an array for holding the solution,\n",
    "and the general solution method using a for-loop is always the same. In fact, the only\n",
    "difference between the different methods is how the solution is advanced from one\n",
    "step to the next. Recalling the ideas of Object-Oriented Programming, it becomes\n",
    "obvious that a class hierarchy is convenient for implementing such a collection\n",
    "of ODE solvers. In this way we can collect all common code in a superclass (base class), and rely on\n",
    "inheritance to avoid code duplication. The superclass can handle most of the\n",
    "more administrative steps of the ODE solver, such as\n",
    "  * Storing the solution $u_n$ and the time points $t_n$, $k=0,1,2,\\ldots,n$\n",
    "\n",
    "  * Storing the right-hand side function $f(t,u)$\n",
    "\n",
    "  * Storing and applying the initial condition\n",
    "\n",
    "  * Running the loop over all time steps\n",
    "\n",
    "We can introduce a superclass `ODESolver` to handle these parts, and implement\n",
    "the method-specific details in subclasses. It should now become quite obvious why\n",
    "we chose to isolate the code to perform a single step in the `advance` method,\n",
    "since this will then be the only method we need to implement in the subclasses.\n",
    "The implementation of the superclass can be quite similar to the `ForwardEuler`\n",
    "class introduced earlier:"
   ]
  },
  {
   "cell_type": "code",
   "execution_count": 1,
   "id": "a80b4fba",
   "metadata": {
    "collapsed": false
   },
   "outputs": [],
   "source": [
    "import numpy as np\n",
    "\n",
    "class ODESolver:\n",
    "    def __init__(self, f):\n",
    "        # Wrap user's f in a new function that always\n",
    "        # converts list/tuple to array (or let array be array)\n",
    "        self.f = lambda t, u: np.asarray(f(t,u), float)\n",
    "\n",
    "    def set_initial_condition(self, u0):\n",
    "        if isinstance(u0, (float,int)):  # scalar ODE\n",
    "            self.neq = 1                 # no of equations\n",
    "            u0 = float(u0)\n",
    "        else:                            # system of ODEs\n",
    "            u0 = np.asarray(u0)\n",
    "            self.neq = u0.size           # no of equations\n",
    "        self.u0 = u0\n",
    "\n",
    "    def solve(self,t_span,N):\n",
    "        \"\"\"Compute solution for \n",
    "        t_span[0] <= t <= t_span[1],\n",
    "        using N steps.\"\"\"\n",
    "        t0,T = t_span\n",
    "        self.dt = T/N\n",
    "        self.t = np.zeros(N+1) #N steps ~ N+1 time points\n",
    "        if self.neq == 1:\n",
    "            self.u = np.zeros(N+1)\n",
    "        else:\n",
    "            self.u = np.zeros((N+1,self.neq))\n",
    "        \n",
    "        self.t[0] = t0\n",
    "        self.u[0] = self.u0\n",
    "    \n",
    "        for n in range(N):\n",
    "            self.n = n\n",
    "            self.t[n+1] = self.t[n] + self.dt\n",
    "            self.u[n+1] = self.advance()\n",
    "        return self.t, self.u"
   ]
  },
  {
   "cell_type": "markdown",
   "id": "c0ded900",
   "metadata": {},
   "source": [
    "Notice that the `ODESolver` is meant to be a pure superclass, and the implementation of the\n",
    "`advance` method is left for subclasses. Trying to use `ODESolver` as a stand-alone solver\n",
    "will give an error message in the line `self.u[n+1] = self.advance()`. It should be noted\n",
    "that there are ways in Python to make the abstract nature of the `ODESolver` class explicit, \n",
    "for instance using the module `abc` (for \"Abstract Base Class\"). This would improve the\n",
    "readability of the code and would give more informative error messages if the class is\n",
    "not used as intended. However, we have decided not to use this module here, in the interest of\n",
    "keeping the code simple and compact. \n",
    "!\n",
    "With the superclass at hand, the implementation of a `ForwardEuler` subclass\n",
    "becomes very simple:"
   ]
  },
  {
   "cell_type": "code",
   "execution_count": 2,
   "id": "82abed1f",
   "metadata": {
    "collapsed": false
   },
   "outputs": [],
   "source": [
    "class ForwardEuler(ODESolver):\n",
    "    def advance(self):\n",
    "        u, f, n, t = self.u, self.f, self.n, self.t\n",
    "        dt = self.dt\n",
    "        unew = u[n] + dt*f(t[n], u[n])\n",
    "        return unew"
   ]
  },
  {
   "cell_type": "markdown",
   "id": "e7367615",
   "metadata": {},
   "source": [
    "Similarly, the explicit midpoint method and the fourth-order Runge-Kutta method can be subclasses, each\n",
    "implementing a single method:"
   ]
  },
  {
   "cell_type": "code",
   "execution_count": 3,
   "id": "6b1b95ce",
   "metadata": {
    "collapsed": false
   },
   "outputs": [],
   "source": [
    "class ExplicitMidpoint(ODESolver):\n",
    "    def advance(self):\n",
    "        u, f, n, t = self.u, self.f, self.n, self.t\n",
    "        dt = self.dt\n",
    "        dt2 = dt/2.0\n",
    "        k1 = f(t[n], u[n])\n",
    "        k2 = f(t[n] + dt2, u[n] + dt2*k1)\n",
    "        unew = u[n] + dt*k2\n",
    "        return unew\n",
    "\n",
    "class RungeKutta4(ODESolver):\n",
    "    def advance(self):\n",
    "        u, f, n, t = self.u, self.f, self.n, self.t\n",
    "        dt = self.dt\n",
    "        dt2 = dt/2.0\n",
    "        k1 = f(t[n], u[n],)\n",
    "        k2 = f(t[n] + dt2, u[n] + dt2*k1, )\n",
    "        k3 = f(t[n] + dt2, u[n] + dt2*k2, )\n",
    "        k4 = f(t[n] + dt,  u[n] + dt*k3, )\n",
    "        unew = u[n] + (dt/6.0)*(k1 + 2*k2 + 2*k3 + k4)\n",
    "        return unew"
   ]
  },
  {
   "cell_type": "markdown",
   "id": "2d6f8aab",
   "metadata": {},
   "source": [
    "The use of these classes is nearly identical to the FE class introduced\n",
    "in Section 1.4. Considering\n",
    "the same simple ODE used above; $u'= u$, $u(0)=1$, $t\\in [0,3]$, $\\Delta t=0.5$,\n",
    "the code looks like:"
   ]
  },
  {
   "cell_type": "code",
   "execution_count": 4,
   "id": "d5bc7d5a",
   "metadata": {
    "collapsed": false
   },
   "outputs": [],
   "source": [
    "%matplotlib inline\n",
    "\n",
    "import numpy as np\n",
    "import matplotlib.pyplot as plt\n",
    "from ODESolver import ForwardEuler, ExplicitMidpoint, RungeKutta4\n",
    "\n",
    "def f(t,u):\n",
    "    return u\n",
    "\n",
    "t_span = (0,3) \n",
    "N = 6\n",
    "\n",
    "fe = ForwardEuler(f)\n",
    "fe.set_initial_condition(u0=1)\n",
    "t1, u1 = fe.solve(t_span,N)\n",
    "plt.plot(t1, u1, label='Forward Euler')\n",
    "\n",
    "em = ExplicitMidpoint(f)\n",
    "em.set_initial_condition(u0=1)\n",
    "t2, u2 = em.solve(t_span,N)\n",
    "plt.plot(t2, u2, label='Explicit Midpoint')\n",
    "\n",
    "rk4 = RungeKutta4(f)\n",
    "rk4.set_initial_condition(u0=1)\n",
    "t3, u3 = rk4.solve(t_span,N)\n",
    "plt.plot(t3, u3, label='Runge-Kutta 4')\n",
    "\n",
    "#plot the exact solution in the same plot\n",
    "time_exact = np.linspace(0,3,301) \n",
    "plt.plot(time_exact,np.exp(time_exact),label='Exact')\n",
    "plt.title('RK solvers for exponential growth, $\\Delta t = 0.5$')\n",
    "plt.xlabel('$t$')\n",
    "plt.ylabel('$u(t)$')\n",
    "plt.legend()\n",
    "plt.show()"
   ]
  },
  {
   "cell_type": "markdown",
   "id": "6671c7ae",
   "metadata": {},
   "source": [
    "This code will solve the same simple equation using three different methods, and plot the solutions\n",
    "in the same window. The time step is deliberately chosen very \n",
    "large ($\\Delta t = 0.5$), to highlight the difference in accuracy between the methods."
   ]
  }
 ],
 "metadata": {},
 "nbformat": 4,
 "nbformat_minor": 5
}
