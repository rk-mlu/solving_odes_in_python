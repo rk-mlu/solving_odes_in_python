{
 "cells": [
  {
   "cell_type": "markdown",
   "id": "d8e91d07",
   "metadata": {},
   "source": [
    "# Programming a simple ODE solver\n",
    "\n",
    "Ordinary differential equations (ODEs) are widely used in science and engineering, in particular for modeling dynamic\n",
    "processes. While simple ODEs can be solved with analytical methods, non-linear ODEs are generally not possible\n",
    "to solve in this way, and we need to apply numerical methods. In this chapter we will see how we can program\n",
    "general numerical solvers that can be applied to any ODE. We will first consider scalar ODEs, i.e., ODEs with a single\n",
    "equation and a single unknown, and in Section 1.4 we will\n",
    "extend the ideas to systems of coupled ODEs. Understanding the concepts\n",
    "of this chapter is useful not only for programming your own ODE solvers, but also for using a wide variety of\n",
    "general-purpose ODE solvers available both in Python and other programming languages.\n",
    "\n",
    "\n",
    "# Creating a general-purpose ODE solver\n",
    "<div id=\"sec:fe_intro\"></div>\n",
    "When solving ODEs analytically one will typically consider a specific ODE or a class of ODEs, and try to derive\n",
    "a formula for the solution. In this chapter we want to implement numerical solvers that can be applied to any ODE,\n",
    "not restricted to a single example or a particular class of equations. For this purpose, we need a general abstract\n",
    "notation for an arbitrary ODE. We will write the ODEs on the following form:"
   ]
  },
  {
   "cell_type": "markdown",
   "id": "bc70710e",
   "metadata": {},
   "source": [
    "<!-- Equation labels as ordinary links -->\n",
    "<div id=\"ode0\"></div>\n",
    "\n",
    "$$\n",
    "\\begin{equation}\n",
    "u^{\\prime}(t) = f(t,u(t)),\n",
    "\\label{ode0} \\tag{1}\n",
    "\\end{equation}\n",
    "$$"
   ]
  },
  {
   "cell_type": "markdown",
   "id": "7971cfc0",
   "metadata": {},
   "source": [
    "which means that the ODE is fully specified by the definition of the right-hand side function $f(t,u)$. Examples of this\n",
    "function may be:"
   ]
  },
  {
   "cell_type": "markdown",
   "id": "d6b3c9ee",
   "metadata": {},
   "source": [
    "$$\n",
    "\\begin{align*}\n",
    "f(t,u) &= \\alpha u,\\quad\\hbox{exponential growth}\\\\\n",
    "f(t,u) &= \\alpha u\\left(  1-\\frac{u}{R}\\right),\\quad\\hbox{logistic growth}\\\\\n",
    "f(t,u) &= -b|u|u + g,\\quad\\hbox{falling body in a fluid}\n",
    "\\end{align*}\n",
    "$$"
   ]
  },
  {
   "cell_type": "markdown",
   "id": "76f989f5",
   "metadata": {},
   "source": [
    "Notice that, for generality, we write all these right-hand sides as functions of both $t$ and $u$, although the\n",
    "mathematical formulations only involve $u$. This general formulation is not strictly needed in the\n",
    "mathematical equations, but it is very convenient when we start programming, and want to use the same solver\n",
    "for a wide range of ODE models. We will discuss this in more detail later. \n",
    "Our aim is now to write functions and classes that take $f$ as input, and solve the corresponding ODE to produce\n",
    "$u$ as output.\n",
    "\n",
    "In order for ([1](#ode0)) to have a unique solution we need to specify the *initial condition* for $u$, which is \n",
    "the value of the solution at time $t=t_0$. The resulting mathematical problem is written as"
   ]
  },
  {
   "cell_type": "markdown",
   "id": "99a5290e",
   "metadata": {},
   "source": [
    "$$\n",
    "\\begin{align*}\n",
    "u^{\\prime}(t) &= f(t,u(t)),\\\\\n",
    "u(t_0) &= u_0 ,\n",
    "\\end{align*}\n",
    "$$"
   ]
  },
  {
   "cell_type": "markdown",
   "id": "81d6f3b9",
   "metadata": {},
   "source": [
    "and is commonly referred to as an *initial value problem*, or simply an IVP. All the ODE problems we will consider \n",
    "in this book are initial value problems. As an example, consider the very simple ODE"
   ]
  },
  {
   "cell_type": "markdown",
   "id": "22629906",
   "metadata": {},
   "source": [
    "$$\n",
    "u'=u .\n",
    "$$"
   ]
  },
  {
   "cell_type": "markdown",
   "id": "6db616d7",
   "metadata": {},
   "source": [
    "This equation has the general solution $u=Ce^t$ for any constant $C$, so it has an infinite number of solutions.\n",
    "Specifying an initial condition $u(t_0)=u_0$ gives $C=u_0$, and we get the unique solution $u=u_0e^t$.  \n",
    "We shall see that, when solving the equation numerically, we need to define $u_0$ in order to start our method and\n",
    "compute a solution at all.\n",
    "\n",
    " === A simple and general solver; the Forward Euler method. ===\n",
    "A numerical method for ([1](#ode0)) can be derived by simply approximating the derivative\n",
    "in the equation $u'=f(t,u)$ by a finite difference. To introduce the idea, assume that we have \n",
    "already computed $u$ at discrete time points $t_0,t_1,\\ldots,t_n$. At time $t_n$ we have the ODE"
   ]
  },
  {
   "cell_type": "markdown",
   "id": "68293a73",
   "metadata": {},
   "source": [
    "$$\n",
    "u'(t_n) = f(t_n,u(t_n)),\n",
    "$$"
   ]
  },
  {
   "cell_type": "markdown",
   "id": "5594e6fc",
   "metadata": {},
   "source": [
    "and we can now approximate $u'(t_n)$ by a forward finite difference;"
   ]
  },
  {
   "cell_type": "markdown",
   "id": "008aec9c",
   "metadata": {},
   "source": [
    "$$\n",
    "u'(t_n)\\approx \\frac{u(t_{n+1})-u(t_n)}{\\Delta t} .\n",
    "$$"
   ]
  },
  {
   "cell_type": "markdown",
   "id": "389340f5",
   "metadata": {},
   "source": [
    "Inserting this approximation into the ODE at $t=t_n$ yields the following equation"
   ]
  },
  {
   "cell_type": "markdown",
   "id": "fc3a1a88",
   "metadata": {},
   "source": [
    "$$\n",
    "\\frac{u(t_{n+1})-u(t_n)}{\\Delta t} = f(t_n,u(t_n)),\n",
    "$$"
   ]
  },
  {
   "cell_type": "markdown",
   "id": "eacaf79f",
   "metadata": {},
   "source": [
    "and we can rearrange the terms to obtain an explicit formula for $u(t_{n+1})$:"
   ]
  },
  {
   "cell_type": "markdown",
   "id": "a5c68d45",
   "metadata": {},
   "source": [
    "$$\n",
    "u(t_{n+1}) = u(t_n) + \\Delta t f(t_n,u(t_n)) .\n",
    "$$"
   ]
  },
  {
   "cell_type": "markdown",
   "id": "f159fa60",
   "metadata": {},
   "source": [
    "This method is known as the *Forward Euler (FE) method* or the *Explicit Euler Method*,\n",
    "and is the simplest numerical method for solving an ODE. The classification as a *forward*\n",
    "or *explicit* method refer to the fact that we have an explicit update formula for $u(t_{n+1})$,\n",
    "which only involves known quantities at time $t_n$. In contrast, for an *implicit* ODE solver\n",
    "the update formula will include terms on the form $f(t_{n+1},u(t_{n+1})$, and we need to solve \n",
    "a generally nonlinear equation to determine the unknown $u(t_{n+1})$. We will visit other explicit ODE solvers in\n",
    "Chapter 2 and implicit solvers in Chapter 3. \n",
    "\n",
    "To simplify the formula a bit we introduce the notation $u_{n} = u(t_{n})$, i.e., \n",
    "we let $u_n$ denote the numerical approximation to the exact solution $u(t)$ at $t=t_n$.\n",
    "The update formula now reads"
   ]
  },
  {
   "cell_type": "markdown",
   "id": "68f82dd0",
   "metadata": {},
   "source": [
    "<!-- Equation labels as ordinary links -->\n",
    "<div id=\"forw_euler\"></div>\n",
    "\n",
    "$$\n",
    "\\begin{equation} u_{n+1} = u_n + \\Delta t f(t_n,u_n) ,\n",
    "\\label{forw_euler} \\tag{2}\n",
    "\\end{equation}\n",
    "$$"
   ]
  },
  {
   "cell_type": "markdown",
   "id": "926b2cd6",
   "metadata": {},
   "source": [
    "which, if we know the $u_0$ at time $t_0$, can be applied repeatedly to $u_1$, $u_2$, $u_3$ and so forth.\n",
    "If we again consider the very simple ODE given by $u' = u$, we have"
   ]
  },
  {
   "cell_type": "markdown",
   "id": "aecbb818",
   "metadata": {},
   "source": [
    "$$\n",
    "\\begin{align*}\n",
    "u_1 &= u_0 + \\Delta t u_0, \\\\\n",
    "u_2 &= u_1 + \\Delta t u_1, \\\\\n",
    "u_3 &= u_2 + \\ldots .\n",
    "\\end{align*}\n",
    "$$"
   ]
  },
  {
   "cell_type": "markdown",
   "id": "0c746965",
   "metadata": {},
   "source": [
    "In a Python program, this repeated application\n",
    "of the same formula is conveniently implemented in a for-loop, and the solution can \n",
    "be stored in a list or a NumPy array. See, for instance, [[sundnes2020introduction]](#sundnes2020introduction) for an introduction to\n",
    "NumPy arrays and tools, which will be used extensively through these notes. \n",
    "For a given final time $T$ and number of time steps $N$, \n",
    "we perform the following steps:\n",
    "1. Create arrays `t` and `u` of length $N+1$\n",
    "\n",
    "2. Set initial condition: `u[0]` $= u_0$, `t[0]` $= 0$\n",
    "\n",
    "3. Compute the time step $\\Delta t$ (`dt`) $= T/N$\n",
    "\n",
    "4. For $n=0,1,2,\\ldots,N-1$:\n",
    "\n",
    "  * `t[n+1] = t[n] + dt`\n",
    "\n",
    "  * `u[n+1] = (1 + dt)*u[n]`\n",
    "\n",
    "\n",
    "A complete Python implementation of this algorithm may look like"
   ]
  },
  {
   "cell_type": "code",
   "execution_count": 1,
   "id": "e0983eb5",
   "metadata": {
    "collapsed": false
   },
   "outputs": [],
   "source": [
    "%matplotlib inline\n",
    "\n",
    "import numpy as np\n",
    "import matplotlib.pyplot as plt\n",
    "\n",
    "N = 20\n",
    "T = 4\n",
    "dt = T/N\n",
    "u0 = 1\n",
    "\n",
    "t = np.zeros(N+1)\n",
    "u = np.zeros(N+1)\n",
    "\n",
    "u[0] = u0\n",
    "for n in range(N):\n",
    "    t[n+1] = t[n] + dt\n",
    "    u[n+1] = (1 + dt)*u[n]\n",
    "\n",
    "plt.plot(t,u)\n",
    "plt.show()"
   ]
  },
  {
   "cell_type": "markdown",
   "id": "a565a426",
   "metadata": {},
   "source": [
    "Notice that there is no need to set `t[0]= 0` when `t` is created in this way, but updating `u[0]` is important. In fact, \n",
    "forgetting to do so is a very common error in ODE programming, so it is worth taking note of the line `u[0] = u0`\n",
    "The solution is shown in [Figure](#fig:ode0), for two different choices of the time step $\\Delta t$. We see that the\n",
    "approximate solution improves as $\\Delta t$ is reduced, although both the solutions are quite inaccurate. However, reducing the\n",
    "time step further will easily create a solution that cannot be distinguished from the exact solution.\n",
    "\n",
    "<!-- dom:FIGURE: [./figs_ch1/FE_n_10_20.png, width=600 frac=1] Solution of $u' = u, u(0) = 1$ with $\\Delta t = 0.4 (N=10)$ and $\\Delta t=0.2 (N=20)$. <div id=\"fig:ode0\"></div> -->\n",
    "<!-- begin figure -->\n",
    "<div id=\"fig:ode0\"></div>\n",
    "\n",
    "<p>Solution of $u' = u, u(0) = 1$ with $\\Delta t = 0.4 (N=10)$ and $\\Delta t=0.2 (N=20)$.</p>\n",
    "<img src=\"./figs_ch1/FE_n_10_20.png\" width=600>\n",
    "\n",
    "<!-- end figure -->\n",
    "\n",
    "\n",
    "### Extending the solver to the general ODE.\n",
    "\n",
    "As stated above, the purpose of this chapter is to create general-purpose ODE solvers, that can solve any ODE written\n",
    "on the form $u'=f(t,u)$. This requires a very small modification of the algorithm above;\n",
    "1. Create arrays `t` and `u` of length $N+1$\n",
    "\n",
    "2. Set initial condition: `u[0]` = $u_0$, `t[0]=0`\n",
    "\n",
    "3. For $n=0,1,2,\\ldots,N-1$:\n",
    "\n",
    "  * `t[n+1] = t[n] + dt`\n",
    "\n",
    "  * `u[n+1] = u[n] + dt*f(t[n], u[n])`\n",
    "\n",
    "\n",
    "The only change of the algorithm is in the formula for computing `u[n+1]` from `u[n]`.\n",
    "In the previous case we had $f(t,u) = u$, and to create a\n",
    "general-purpose ODE solver we simply replace `u[n]` with the more general `f(t[n],u[n])`.\n",
    "The following Python function implements this generic version of the FE method:"
   ]
  },
  {
   "cell_type": "code",
   "execution_count": 2,
   "id": "32f79796",
   "metadata": {
    "collapsed": false
   },
   "outputs": [],
   "source": [
    "def forward_euler(f, u0, T, N):\n",
    "    \"\"\"Solve u'=f(t,u), u(0)=u0, with n steps until t=T.\"\"\"\n",
    "    import numpy as np\n",
    "    t = np.zeros(N+1)\n",
    "    u = np.zeros(N+1)  # u[n] is the solution at time t[n]\n",
    "\n",
    "    u[0] = u0\n",
    "    dt = T/N\n",
    "\n",
    "    for n in range(N):\n",
    "        t[n+1] = t[n] + dt\n",
    "        u[n+1] = u[n] + dt*f(t[n], u[n])\n",
    "\n",
    "    return t, u"
   ]
  },
  {
   "cell_type": "markdown",
   "id": "4b16ff2c",
   "metadata": {},
   "source": [
    "This simple function can solve any ODE written on the form ([1](#ode0)). The right-hand \n",
    "side function $f(t,u)$ needs to be implemented as a Python function, which is\n",
    "then passed as an argument to `forward_euler` together with the initial condition `u0`, the\n",
    "stop time `T` and the number of time steps `N`. The two latter arguments are then used\n",
    "to calculate the time step `dt` inside the function.\n",
    "\n",
    "To illustrate how the function is used, let us apply it to solve the same problem as above;\n",
    "$u'=u$, $u(0)=1$, for $t\\in [0,4]$. The following code uses the `forward_euler` function to solve this problem:"
   ]
  },
  {
   "cell_type": "code",
   "execution_count": 3,
   "id": "52e431db",
   "metadata": {
    "collapsed": false
   },
   "outputs": [],
   "source": [
    "def f(t, u):\n",
    "    return u\n",
    "\n",
    "u0 = 1\n",
    "T = 3\n",
    "N = 30\n",
    "t, u = forward_euler(f, u0, T, N)"
   ]
  },
  {
   "cell_type": "markdown",
   "id": "fc52a0c8",
   "metadata": {},
   "source": [
    "The `forward_euler` function returns the two arrays `u` and `t`, which we can\n",
    "plot or process further as we want. One thing worth noticing in this code is the definition of the\n",
    "right-hand side function `f`. As we mentioned above, this function should always be written\n",
    "with two arguments `u` and `t`, although in this case only `u` is used inside the function.\n",
    "The two arguments are needed because we want our solver to work for all ODEs on the\n",
    "form $u' = f(t,u)$, and the function is therefore called as `f(t[n], u[n])` inside\n",
    "the `forward_euler` function. If our right\n",
    "hand side function was defined as a function of `u` only, i.e., using `def f(u):`, \n",
    "we would get an error message when the function was called inside `forward_euler`. \n",
    "This problem is solved by simply writing `def f(t,u):` even if `t` is never used \n",
    "inside the function.\n",
    "\n",
    "\n",
    "For being only 15 lines of Python code, the capabilities of the `forward_euler`\n",
    "function above are quite remarkable. Using this function, we can solve any\n",
    "kind of linear or nonlinear ODE, most of which would be impossible to solve\n",
    "using analytical techniques. The general recipe for using this function can be summarized\n",
    "as follows:\n",
    "1. Identify $f(t,u)$ in your ODE\n",
    "\n",
    "2. Make sure you have an initial condition $u_0$\n",
    "\n",
    "3. Implement the $f(t,u)$ formula in a Python function `f(t, u)`\n",
    "\n",
    "4. Choose the number of time steps `N`\n",
    "\n",
    "5. Call `t, u = forward_euler(f, u0, T, N)`\n",
    "\n",
    "6. Plot the solution\n",
    "\n",
    "It is worth mentioning that the FE method is the simplest of all\n",
    "ODE solvers, and many will argue that it is not very good. This is partly true,\n",
    "since there are many other methods that are more accurate and more stable when applied to\n",
    "challenging ODEs. We shall look at a few examples of such methods later in this\n",
    "book. However, the FE method is quite suitable for solving most ODEs.\n",
    "If we are not happy with the accuracy we can simply reduce the time step, and\n",
    "in most cases this will give the accuracy we need with a negligible increase in computing time.\n",
    "\n",
    "\n",
    "# The ODE solver implemented as a class\n",
    "<div id=\"sec:fe_class\"></div> \n",
    "We can increase the flexibility of the `forward_euler`\n",
    "solver function by implementing it as a class. There are many ways to implement\n",
    "and such a class, but one possible usage can be as follows:"
   ]
  },
  {
   "cell_type": "markdown",
   "id": "df73ed95",
   "metadata": {},
   "source": [
    "```Python\n",
    "        method = ForwardEuler_v0(f) \n",
    "        method.set_initial_condition(u0)\n",
    "        t, u = method.solve(t_span=(0,10),N=100)\n",
    "        plot(t, u)\n",
    "```"
   ]
  },
  {
   "cell_type": "markdown",
   "id": "916a226c",
   "metadata": {},
   "source": [
    "The benefits of using a class instead of a function may not be obvious at this\n",
    "point, but it will become clear when we introduce different ODE solvers later. \n",
    "For now, let us just look at how such a solver class would need to be implemented in \n",
    "order to support the use case specified above:\n",
    "  * We need a constructor (`__init__`) which takes a single argument, the right-hand side function `f`, \n",
    "    and stores it as an attribute.\n",
    "\n",
    "  * The method `set_initial_condition` takes the initial condition as argument and stores it. \n",
    "\n",
    "  * The class needs a `solve`-method, which takes the time interval `t_span` and number of time steps `N`\n",
    "    as arguments. The method implements the for-loop for solving the ODE and returns\n",
    "    the solution, similar to the `forward_euler` function considered earlier.\n",
    "\n",
    "  * The time step $\\Delta t$ and the sequences $t_n$, $u_n$ must be\n",
    "    initialized in one of the methods, and it may also be convenient to store these as attributes. \n",
    "    Since the time interval and the number of steps are arguments to the `solve` method it is natural\n",
    "    to do these computations there.\n",
    "\n",
    "In addition to these methods, it may be convenient to implement the formula for\n",
    "advancing the solution one step as a separate method `advance`. In this way it\n",
    "becomes very easy to implement new numerical methods, since we typically only\n",
    "need to change the `advance` method. A first version of the solver class may\n",
    "look as follows:"
   ]
  },
  {
   "cell_type": "code",
   "execution_count": 4,
   "id": "ca0b405b",
   "metadata": {
    "collapsed": false
   },
   "outputs": [],
   "source": [
    "import numpy as np\n",
    "\n",
    "class ForwardEuler_v0:\n",
    "    def __init__(self, f): \n",
    "        self.f = f \n",
    "        \n",
    "    def set_initial_condition(self,u0):\n",
    "        self.u0 = u0\n",
    "\n",
    "    def solve(self,t_span,N):\n",
    "        \"\"\"Compute solution for \n",
    "        t_span[0] <= t <= t_span[1],\n",
    "        using N steps.\"\"\"\n",
    "        t0,T = t_span\n",
    "        self.dt = T/N\n",
    "        self.t = np.zeros(N+1) \n",
    "        self.u = np.zeros(N+1)\n",
    "        \n",
    "        self.t[0] = t0\n",
    "        self.u[0] = self.u0\n",
    "        \n",
    "        for n in range(N):\n",
    "            self.n = n\n",
    "            self.t[n+1] = self.t[n] + self.dt\n",
    "            self.u[n+1] = self.advance()\n",
    "        return self.t, self.u\n",
    "\n",
    "    def advance(self):\n",
    "        \"\"\"Advance the solution one time step.\"\"\"\n",
    "        u, dt, f, n, t = self.u, self.dt, self.f, self.n, self.t\n",
    "\n",
    "        unew = u[n] + dt*f(t[n],u[n])\n",
    "        return unew"
   ]
  },
  {
   "cell_type": "markdown",
   "id": "32d9ce4b",
   "metadata": {},
   "source": [
    "This class does essentially the same tasks as the `forward_euler` function above,\n",
    "and the main advantage of the class implementation is\n",
    "the increased flexibility that comes with the `advance` method. As we shall see\n",
    "later, implementing a different numerical method typically only requires\n",
    "implementing a new version of this method, while all other code can be left unchanged.\n",
    "\n",
    "We can also use a class to hold the right-hand side $f(t,u)$, which is\n",
    "particularly convenient for functions with parameters.\n",
    "Consider for instance the model for logistic growth;"
   ]
  },
  {
   "cell_type": "markdown",
   "id": "44ba91a2",
   "metadata": {},
   "source": [
    "$$\n",
    "u^{\\prime}(t)=\\alpha u(t)\\left(  1-\\frac{u(t)}{R}\\right),\\quad u(0)=u_0,\\quad t\\in [0,40],\n",
    "$$"
   ]
  },
  {
   "cell_type": "markdown",
   "id": "b9e1cfdc",
   "metadata": {},
   "source": [
    "which is typically used to model self-limiting growth of a biological population, i.e., growth \n",
    "that is constrained by limited resources. The initial growth is approximately exponential, with\n",
    "growth rate $\\alpha$, and the population curve flattens out as the population size approaches the *carrying capacity* $R$,\n",
    "see [Figure](#fig:logistic) for an example solution. \n",
    "The right hand side function includes two parameters $\\alpha$ and $R$, but if we\n",
    "want to solve it using our FE function or class, it must be implemented\n",
    "as a function of $t$ and $u$ only. There are several ways to do this in Python, but one\n",
    "convenient approach is to implement the function as a class with a call method. \n",
    "We can then define the parameters as attributes in the constructor and\n",
    "use them inside the `__call__` method:"
   ]
  },
  {
   "cell_type": "code",
   "execution_count": 5,
   "id": "8e5a673a",
   "metadata": {
    "collapsed": false
   },
   "outputs": [],
   "source": [
    "class Logistic:\n",
    "    def __init__(self, alpha, R, u0):\n",
    "        self.alpha = alpha\n",
    "        self.R = R \n",
    "        self.u0 = u0\n",
    "\n",
    "    def __call__(self, t, u):   # f(t,u)\n",
    "        return self.alpha*u*(1 - u/self.R)"
   ]
  },
  {
   "cell_type": "markdown",
   "id": "161de4d1",
   "metadata": {},
   "source": [
    "The main program for solving the logistic growth problem may now look like:"
   ]
  },
  {
   "cell_type": "code",
   "execution_count": 6,
   "id": "1dfae2fa",
   "metadata": {
    "collapsed": false
   },
   "outputs": [],
   "source": [
    "problem = Logistic(alpha=0.2, R=1.0, u0=0.1)\n",
    "solver = ForwardEuler_v0(problem)\n",
    "solver.set_initial_condition(problem.u0)\n",
    "    \n",
    "T = 40\n",
    "t, u = solver.solve(t_span=(0,T),N=400)"
   ]
  },
  {
   "cell_type": "markdown",
   "id": "5ea611a0",
   "metadata": {},
   "source": [
    "<!-- dom:FIGURE: [./figs_ch1/logistic_func_mpl.png, width=600 frac=1.0] Solution of the logistic growth model. <div id=\"fig:logistic\"></div> -->\n",
    "<!-- begin figure -->\n",
    "<div id=\"fig:logistic\"></div>\n",
    "\n",
    "<p>Solution of the logistic growth model.</p>\n",
    "<img src=\"./figs_ch1/logistic_func_mpl.png\" width=600>\n",
    "\n",
    "<!-- end figure -->\n",
    "\n",
    "# Systems of ODEs\n",
    "<div id=\"sec:ode_sys\"></div>\n",
    " So far we have only considered ODEs with a single solution component, often called scalar ODEs.\n",
    "Many interesting processes can be described\n",
    "by systems of ODEs, i.e., multiple ODEs where the right-hand side of one equation depends on the solution of the others. Such equation\n",
    "systems are also referred to as vector ODEs. One simple example is"
   ]
  },
  {
   "cell_type": "markdown",
   "id": "40eded41",
   "metadata": {},
   "source": [
    "$$\n",
    "\\begin{alignat*}{2}\n",
    "u' &= v, \\quad &&u(0) = 1\\\\\n",
    "v' &= -u, \\quad &&v(0) = 0.\n",
    "\\end{alignat*}\n",
    "$$"
   ]
  },
  {
   "cell_type": "markdown",
   "id": "676b380b",
   "metadata": {},
   "source": [
    "The solution of this system is $u=\\cos t, v=\\sin t$, which can easily be verified by inserting the solution into the equations\n",
    "and the initial conditions. For more general cases, it is usually even more difficult to find analytical solutions of ODE systems\n",
    "than of scalar ODEs, and numerical methods are usually required. In this section we will extend the solvers introduced in\n",
    "the sections [Creating a general-purpose ODE solver](#sec:fe_intro)-[The ODE solver implemented as a class](#sec:fe_class) to be able to solve systems of ODEs. We shall see that such an \n",
    "extension requires relatively small modifications of the code.\n",
    "\n",
    "We want to develop general software that can be applied to any vector ODE or scalar ODE, and for this purpose it is\n",
    "useful to introduce some general mathematical notation. We have $n$ unknowns"
   ]
  },
  {
   "cell_type": "markdown",
   "id": "e70cac24",
   "metadata": {},
   "source": [
    "$$\n",
    "u^{(0)}(t), u^{(1)}(t), \\ldots, u^{(n-1)}(t)\n",
    "$$"
   ]
  },
  {
   "cell_type": "markdown",
   "id": "8ec6bc1e",
   "metadata": {},
   "source": [
    "in a system of $n$ ODEs:"
   ]
  },
  {
   "cell_type": "markdown",
   "id": "06e14597",
   "metadata": {},
   "source": [
    "$$\n",
    "\\begin{align*}\n",
    "{d\\over dt}u^{(0)} &= f^{(0)}(t, u^{(0)}, u^{(1)}, \\ldots, u^{(n-1)}),\\\\\n",
    "{d\\over dt}u^{(1)} &= f^{(1)}(t, u^{(0)}, u^{(1)}, \\ldots, u^{(n-1)}),\\\\\n",
    "\\vdots &= \\vdots\\\\\n",
    "{d\\over dt}u^{(n-1)} &= f^{(n-1)}(t, u^{(0)}, u^{(1)}, \\ldots, u^{(n-1)}).\n",
    "\\end{align*}\n",
    "$$"
   ]
  },
  {
   "cell_type": "markdown",
   "id": "e1e7a3f0",
   "metadata": {},
   "source": [
    "To simplify the notation (and later the implementation), we collect both the solutions $u^{(i)}(t)$\n",
    "and right-hand side functions $f^{(i)}$ into vectors;"
   ]
  },
  {
   "cell_type": "markdown",
   "id": "54120c2d",
   "metadata": {},
   "source": [
    "$$\n",
    "u = (u^{(0)}, u^{(1)}, \\ldots, u^{(n-1)}),\n",
    "$$"
   ]
  },
  {
   "cell_type": "markdown",
   "id": "9fb3500d",
   "metadata": {},
   "source": [
    "and"
   ]
  },
  {
   "cell_type": "markdown",
   "id": "59cf2d33",
   "metadata": {},
   "source": [
    "$$\n",
    "f = (f^{(0)}, f^{(1)}, \\ldots, f^{(n-1)}).\n",
    "$$"
   ]
  },
  {
   "cell_type": "markdown",
   "id": "e670598f",
   "metadata": {},
   "source": [
    "Note that $f$ is now a vector-valued function. It takes $n+1$ input arguments ($t$ and the $n$ components of $u$) and returns\n",
    "a vector of $n$ values.\n",
    "Using this notation, the ODE system can be written"
   ]
  },
  {
   "cell_type": "markdown",
   "id": "7adaca88",
   "metadata": {},
   "source": [
    "$$\n",
    "u' = f(t, u),\\quad u(t_0) = u_0,\n",
    "$$"
   ]
  },
  {
   "cell_type": "markdown",
   "id": "62dae882",
   "metadata": {},
   "source": [
    "where $u$ and $f$ are now vectors and $u_0$ is a vector of initial conditions. We see that we use exactly the\n",
    "same notation as for scalar ODEs, and whether we solve a scalar or system of ODEs is determined by how we define $f$ and the initial\n",
    "condition $u_0$. This general notation is completely standard in text books on ODEs, and we can easily make the Python\n",
    "implementation just as general. The generalization of our ODE solvers is facilitated considerably by the convenience of NumPy\n",
    "arrays and vectorized computations.\n",
    "\n",
    "# A `ForwardEuler` class for systems of ODEs\n",
    "The `ForwardEuler_v0` class above was written for scalar ODEs, and we now want to make it work for a system\n",
    "$u'=f$, $u(0)=u_0$, where $u$, $f$ and $u_0$ are vectors (arrays). To identify how the code needs to be changed, \n",
    "let us first revisit the underlying numerical method. Using the general notation introduced above, \n",
    "applying the forward Euler method to a system of ODEs yields an update formula that looks exactly \n",
    "as for the scalar case, but where all the terms are vectors:"
   ]
  },
  {
   "cell_type": "markdown",
   "id": "91f5edd4",
   "metadata": {},
   "source": [
    "$$\n",
    "\\underbrace{u_{k+1}}_{\\mbox{vector}} =\n",
    "\\underbrace{u_k}_{\\mbox{vector}} +\n",
    "\\Delta t\\, \\underbrace{f(u_k, t_k)}_{\\mbox{vector}} .\n",
    "$$"
   ]
  },
  {
   "cell_type": "markdown",
   "id": "17e0d0fb",
   "metadata": {},
   "source": [
    "We could also write this formula in terms of the individual components, as in"
   ]
  },
  {
   "cell_type": "markdown",
   "id": "6020087e",
   "metadata": {},
   "source": [
    "$$\n",
    "u^{(i)}_{k+1} = u^{(i)}_{k} + \\Delta t f^{(i)}(t_k, u_{k}), \\mbox{ for } i = 0,\\ldots , {n-1},\n",
    "$$"
   ]
  },
  {
   "cell_type": "markdown",
   "id": "fa2ab6dd",
   "metadata": {},
   "source": [
    "but the compact vector notation is much easier to read. Fortunately, the way we write the vector\n",
    "version of the formula is also how NumPy arrays are used in calculations. The\n",
    "Python code for the formula above may therefore look identical to the version for scalar ODEs;"
   ]
  },
  {
   "cell_type": "code",
   "execution_count": 7,
   "id": "d4d947ee",
   "metadata": {
    "collapsed": false
   },
   "outputs": [],
   "source": [
    "u[k+1] = u[k] + dt*f(t[k], u[k])"
   ]
  },
  {
   "cell_type": "markdown",
   "id": "7e3aa96f",
   "metadata": {},
   "source": [
    "with the important difference that both `u[k]` and `u[k+1]` are now arrays.\n",
    "Since these are arrays, the solution `u` must be a\n",
    "two-dimensional array, and `u[k],u[k+1]`, etc. are the rows of this array.\n",
    "The function `f` expects an array as its second argument, and must return a one-dimensional array,\n",
    "containing all the right-hand sides $f^{(0)},\\ldots,f^{(n-1)}$. To get a better\n",
    "feel for how these arrays look and how they are used,\n",
    "we may compare the array holding the solution of a scalar ODE to that of a system of two ODEs.\n",
    "For the scalar equation, both `t` and `u` are one-dimensional NumPy\n",
    "arrays, and indexing into `u` gives us numbers, representing the solution at each time step.\n",
    "For instance, we may have"
   ]
  },
  {
   "cell_type": "markdown",
   "id": "c0aea3d4",
   "metadata": {},
   "source": [
    "        t = array([0. ,  0.4, 0.8, 1.2, (...) ])\n",
    "        \n",
    "        u = array([1. , 1.4, 1.96, 2.744, (...)])\n",
    "        \n",
    "        u[0] = 1.0\n",
    "        u[1] = 1.4\n",
    "        \n",
    "        (...)\n"
   ]
  },
  {
   "cell_type": "markdown",
   "id": "49f319d1",
   "metadata": {},
   "source": [
    "In the case of a system of two ODEs, `t` is still a one-dimensional array, but the solution array `u` is\n",
    "now two-dimensional, with one column for each solution component. We can index it exactly as shown above, \n",
    "and the result is a one-dimensional array of length two, which holds the two solution components\n",
    "at a single time step:"
   ]
  },
  {
   "cell_type": "markdown",
   "id": "46e6254d",
   "metadata": {},
   "source": [
    "        u = array([[1.0, 0.8],\n",
    "                   [1.4, 1.1],\n",
    "                   [1.9, 2.7],\n",
    "                      (...)])\n",
    "        \n",
    "        u[0] = array([1.0, 0.8])\n",
    "        u[1] = array([1.4, 1.1])\n",
    "        \n",
    "        (...)\n"
   ]
  },
  {
   "cell_type": "markdown",
   "id": "5e24ee98",
   "metadata": {},
   "source": [
    "The similarity of the generic notation for vector and scalar ODEs, and the\n",
    "convenient algebra of NumPy arrays, indicate that the solver\n",
    "implementation for scalar and system ODEs can also be very similar. This is indeed true,\n",
    "and the `ForwardEuler_v0` class from the previous chapter can be made to work for ODE\n",
    "systems by a few minor modifications:\n",
    " * Ensure that `f(t,u)` always returns an array.\n",
    "\n",
    " * Inspect $u_0$ to see if it is a single number or a list/array/tuple and\n",
    "   make the `u` either a one-dimensional or two-dimensional  array. \n",
    "\n",
    "If these two items are handled and initialized correctly, the rest of the code from\n",
    "the section [The ODE solver implemented as a class](#sec:fe_class) will in fact work with no modifications.\n",
    "\n",
    ": This step is not strictly needed, since we could use a two-dimensional array\n",
    "with size `(N+1,1)` for scalar ODEs. However, using a one-dimensional array for scalar\n",
    "ODEs gives simpler and more intuitive indexing. \n",
    "\n",
    "The extended class implementation may look like:"
   ]
  },
  {
   "cell_type": "code",
   "execution_count": 8,
   "id": "17984706",
   "metadata": {
    "collapsed": false
   },
   "outputs": [],
   "source": [
    "import numpy as np\n",
    "\n",
    "class ForwardEuler:\n",
    "    def __init__(self, f): \n",
    "        self.f = lambda t,u: np.asarray(f(t,u),float)\n",
    "\n",
    "    \n",
    "    def set_initial_condition(self,u0):\n",
    "        if isinstance(u0, (float,int)):  #scalar ODE\n",
    "            self.neq = 1                 #number of eqs.\n",
    "            u0 = float(u0)\n",
    "        else:\n",
    "            u0 = np.asarray(u0)\n",
    "            self.neq = u0.size\n",
    "        self.u0 = u0\n",
    "    \n",
    "    def solve(self,t_span,N):\n",
    "        \"\"\"Compute solution for \n",
    "        t_span[0] <= t <= t_span[1],\n",
    "        using N steps.\"\"\"\n",
    "        t0,T = t_span\n",
    "        self.dt = (T-t0)/N\n",
    "        self.t = np.zeros(N+1)\n",
    "        if self.neq == 1:\n",
    "            self.u = np.zeros(N+1)\n",
    "        else:\n",
    "            self.u = np.zeros((N+1,self.neq))\n",
    "        \n",
    "        self.t[0] = t0\n",
    "        self.u[0] = self.u0\n",
    "    \n",
    "        for n in range(N):\n",
    "            self.n = n\n",
    "            self.t[n+1] = self.t[n] + self.dt\n",
    "            self.u[n+1] = self.advance()\n",
    "        return self.t, self.u\n",
    "\n",
    "    def advance(self):\n",
    "        \"\"\"Advance the solution one time step.\"\"\"\n",
    "        u, dt, f, n, t = self.u, self.dt, self.f, self.n, self.t\n",
    "\n",
    "        unew = u[n] + dt*f(t[n],u[n])\n",
    "        return unew"
   ]
  },
  {
   "cell_type": "markdown",
   "id": "26c529b6",
   "metadata": {},
   "source": [
    "It is worth commenting on some parts of this code. First, the constructor looks\n",
    "almost identical to the scalar case, but we use a lambda function and\n",
    "the convenient `np.asarray` function to convert any `f` that \n",
    "returns a list or tuple to a function returning a NumPy array. If `f` already returns an\n",
    "array, `np.asarray` will simply return this array with no changes. This modification is not strictly\n",
    "needed, since we could just assume that the user implements `f` to return\n",
    "an array, but it makes the class more robust and flexible. We have also included\n",
    "a couple of tests in the `set_initial_condition` method, to check if `u0` is a single\n",
    "number (`float`) or a NumPy array, and define the attribute `self.neq` to\n",
    "hold the number of equations.\n",
    "The final modification is found in the method `solve`, where\n",
    "the `self.neq` attribute is inspected and `u` is\n",
    "initialized to a one- or two-dimensional array of the correct size. The\n",
    "actual for-loop and the `advance` method are both identical to the previous version of the class.\n",
    "\n",
    "### Example: ODE model for a pendulum.\n",
    "\n",
    "To demonstrate the use of\n",
    "the updated `ForwardEuler` class, we consider a system of ODEs describing the motion \n",
    "of a simple pendulum, as illustrated in [Figure](#fig:pendulum). This nonlinear system\n",
    "is a classic physics problem, and despite its simplicity it is not possible to find \n",
    "an exact analytical solution. We will formulate the system in terms of two main\n",
    "variables; the angle $\\theta$ and the angular velocity $\\omega$, see [Figure](#fig:pendulum).\n",
    "For a simple pendulum with no friction, the dynamics of these two variables is governed by"
   ]
  },
  {
   "cell_type": "markdown",
   "id": "7e6364d0",
   "metadata": {},
   "source": [
    "<!-- Equation labels as ordinary links -->\n",
    "<div id=\"pendulum1\"></div>\n",
    "\n",
    "$$\n",
    "\\begin{equation}\n",
    "\\frac{d \\theta}{dt} = \\omega, \\label{pendulum1} \\tag{3} \n",
    "\\end{equation}\n",
    "$$"
   ]
  },
  {
   "cell_type": "markdown",
   "id": "1d81fc8e",
   "metadata": {},
   "source": [
    "<!-- Equation labels as ordinary links -->\n",
    "<div id=\"pendulum2\"></div>\n",
    "\n",
    "$$\n",
    "\\begin{equation} \n",
    "\\frac{d \\omega}{dt} = -\\frac{g}{L}\\sin(\\theta), \\label{pendulum2} \\tag{4}  \n",
    "\\end{equation}\n",
    "$$"
   ]
  },
  {
   "cell_type": "markdown",
   "id": "307e0d2d",
   "metadata": {},
   "source": [
    "where $L$ is the length of the pendulum and $g$ is the gravitational constant. Eq. ([3](#pendulum1)) follows\n",
    "directly from the definition of the angular velocity, while ([4](#pendulum2)) follows from Newton's second \n",
    "law, where $d\\omega/dt$ is the acceleration and the right-hand side is the tangential component of\n",
    "the gravitational force acting on the pendulum, divided by its mass.  \n",
    "To solve the system we need to define initial conditions for both unknowns,\n",
    "i.e., we need to know the initial position and velocity of the pendulum. \n",
    "\n",
    "<!-- dom:FIGURE: [./figs_ch1/pendulum.png, width=100 frac=0.2] Illustration of the pendulum problem. The main variables of interest are the angle $\\theta$ and its derivative $\\omega$ (the angular velocity). <div id=\"fig:pendulum\"></div> -->\n",
    "<!-- begin figure -->\n",
    "<div id=\"fig:pendulum\"></div>\n",
    "\n",
    "<p>Illustration of the pendulum problem. The main variables of interest are the angle $\\theta$ and its derivative $\\omega$ (the angular velocity).</p>\n",
    "<img src=\"./figs_ch1/pendulum.png\" width=100>\n",
    "\n",
    "<!-- end figure -->\n",
    "\n",
    "\n",
    "Since the right-hand side defined by ([3](#pendulum1))-([4](#pendulum2)) includes the \n",
    "parameters $L$ and $g$, it is convenient to implement it as a class, as illustrated for the logistic\n",
    "growth model earlier. A possible implementation may look like this:"
   ]
  },
  {
   "cell_type": "code",
   "execution_count": 9,
   "id": "3c434c7b",
   "metadata": {
    "collapsed": false
   },
   "outputs": [],
   "source": [
    "from math import sin\n",
    "\n",
    "class Pendulum:\n",
    "    def __init__(self, L, g = 9.81):\n",
    "        self.L = L \n",
    "        self.g = g \n",
    "    \n",
    "    def __call__(self, t, u):\n",
    "        theta, omega = u\n",
    "        dtheta = omega\n",
    "        domega = -self.g/self.L * sin(theta)\n",
    "        return [dtheta, domega]"
   ]
  },
  {
   "cell_type": "markdown",
   "id": "2acd7fc2",
   "metadata": {},
   "source": [
    "We see that the function returns a list, but this will automatically\n",
    "be wrapped into a function returning an array by the solver class' constructor,\n",
    "as mentioned above. The main program is not very different\n",
    "from the examples of the previous chapter, except that we need to define an\n",
    "initial condition with two components. Assuming that this class definition as \n",
    "well as the `ForwardEuler` exist in the same file, the code to solve the pendulum problem\n",
    "can look like this:"
   ]
  },
  {
   "cell_type": "code",
   "execution_count": 10,
   "id": "3cc1d2a8",
   "metadata": {
    "collapsed": false
   },
   "outputs": [],
   "source": [
    "import matplotlib.pyplot as plt\n",
    "\n",
    "problem = Pendulum(L=1)\n",
    "solver = ForwardEuler(problem)\n",
    "theta0, omega0 = np.pi/4, 0\n",
    "solver.set_initial_condition((theta0,omega0))\n",
    "T = 10\n",
    "N = 1000\n",
    "t, u = solver.solve(t_span=(0,T),N=N)\n",
    "\n",
    "plt.plot(t,u[:,0],label=r'$\\theta$')\n",
    "plt.plot(t,u[:,1],label=r'$\\omega$')\n",
    "plt.legend()\n",
    "plt.show()"
   ]
  },
  {
   "cell_type": "markdown",
   "id": "a2d2bae4",
   "metadata": {},
   "source": [
    "Notice that since `u` is a two-dimensional array, we use array slicing to extract and plot the individual components.\n",
    "In this specific example a call like `plt.plot(t,u)` would also work, and would plot both solution\n",
    "components. However, we are often interested in plotting selected components of the solution, and\n",
    "in this case the array slicing is needed. The resulting plot is shown in [Figure](#fig:pendulum_sol). \n",
    "Another minor detail worth noticing is use of Python's raw string format for the labels, indicated\n",
    "by the `r` in front of the string. Raw strings will treat the backslash (`\\`) as a regular character, and is\n",
    "often needed when using Latex encoding of mathematical symbols. \n",
    "The observant reader may also notice that the amplitude of the pendulum motion appears to increase over time, \n",
    "which is clearly not physically correct. In fact, for an undamped pendulum problem defined by \n",
    "([3](#pendulum1))-([4](#pendulum2)), the energy is conserved, and the amplitude should therefore be constant. \n",
    "The increasing amplitude is a numerical artefact introduced by the forward Euler method, and the solution\n",
    "may be improved by reducing the time step or replacing the numerical method. \n",
    "\n",
    "<!-- dom:FIGURE: [./figs_ch1/pendulum_FE.png, width=600 frac=1] Solution of the simple pendulum problem, computed with the forward Euler method. <div id=\"fig:pendulum_sol\"></div> -->\n",
    "<!-- begin figure -->\n",
    "<div id=\"fig:pendulum_sol\"></div>\n",
    "\n",
    "<p>Solution of the simple pendulum problem, computed with the forward Euler method.</p>\n",
    "<img src=\"./figs_ch1/pendulum_FE.png\" width=600>\n",
    "\n",
    "<!-- end figure -->\n",
    "\n",
    "\n",
    "\n",
    "# Checking the error in the numerical solution\n",
    "<div id=\"sec:error_taylor\"></div>\n",
    "\n",
    "Recall from the section [Creating a general-purpose ODE solver](#sec:fe_intro) that we derived the FE method by approximating the\n",
    "derivative with a finite difference;"
   ]
  },
  {
   "cell_type": "markdown",
   "id": "05b6ad4b",
   "metadata": {},
   "source": [
    "<!-- Equation labels as ordinary links -->\n",
    "<div id=\"fd_approx\"></div>\n",
    "\n",
    "$$\n",
    "\\begin{equation} \n",
    "    u'(t_n)\\approx \\frac{u(t_{n+1})-u(t_n)}{\\Delta t} .\n",
    "\\label{fd_approx} \\tag{5}\\end{equation}\n",
    "$$"
   ]
  },
  {
   "cell_type": "markdown",
   "id": "59bf1e47",
   "metadata": {},
   "source": [
    "This approximation obviously introduces an error, and since we approach the true derivative as $\\Delta t\\rightarrow 0$ it\n",
    "is quite intuitive that the error depends on the size of the time step $\\Delta t$. This relation was demonstrated\n",
    "visually in [Figure](#fig:ode0), but it would of course be valuable to have a more precise quantification of how the\n",
    "error depends on the time step. Analyzing the error in numerical methods is a large branch of applied mathematics, \n",
    "which we will not cover in detail here, and the interested reader is referred to, for instance [[ODEI]](#ODEI). \n",
    "However, when implementing a numerical method it is very useful to know its theoretical accuracy, and\n",
    "in particular to be able to compute the error and verify that it behaves as expected.\n",
    "\n",
    "The Taylor expansion, also discussed briefly in Appendix A, is an essential tool for \n",
    "estimating the error in numerical methods for ODEs. For any smooth function $\\hat{u}(t)$, if we \n",
    "can compute the function value and its derivatives at $t_n$, the value at $t_n+\\Delta t$ \n",
    "can be approximated by the series"
   ]
  },
  {
   "cell_type": "markdown",
   "id": "74d6ff8a",
   "metadata": {},
   "source": [
    "$$\n",
    "\\hat{u}(t_n+\\Delta t) = \\hat{u}(t_n) + \\Delta t \\hat{u}'(t_n) +\\frac{\\Delta t^2}{2}\\hat{u}''(t_n) + \n",
    "    \\frac{\\Delta t^3}{6}\\hat{u}'''(t_n)+O(\\Delta t^4).\n",
    "$$"
   ]
  },
  {
   "cell_type": "markdown",
   "id": "c9030177",
   "metadata": {},
   "source": [
    "We can include as many terms as we like, and since $\\Delta t$ is small we always have $\\Delta t^(n+1) \\ll \\Delta t^n$, so\n",
    "the error in the approximation is dominated by the first neglected term.  \n",
    "The update formula of the FE method, derived from ([5](#fd_approx)), was"
   ]
  },
  {
   "cell_type": "markdown",
   "id": "9653333d",
   "metadata": {},
   "source": [
    "$$\n",
    "u_{n+1} = u(t_n) + \\Delta t u'(t_n),\n",
    "$$"
   ]
  },
  {
   "cell_type": "markdown",
   "id": "b56ac6fd",
   "metadata": {},
   "source": [
    "which we may recognize as a Taylor series truncated after the first order term, and we expect the error\n",
    "$|u_{n+1}- \\hat{u}_{n+1}|$ to be proportional to $\\Delta x^2$. Since this is the error for a single time step, the\n",
    "accumulated error after $N\\sim 1/\\Delta t $ steps is proportional to $\\Delta t$, and the \n",
    "FE method is hence a \\emph{first order} method. As we will see in Chapter \n",
    "2, more accurate methods can be constructed by deriving update formulas that make more\n",
    "terms in the Taylor expansion of the error cancel. This process is fairly straightforward for low-order methods, \n",
    "e.g., of second or third order, but it quickly gets complicated for high order solvers, see, for \n",
    "instance [[ODEI]](#ODEI) for details. \n",
    "\n",
    "Knowing the theoretical accuracy of an ODE solver is important for a number of reasons, and one of them is that it\n",
    "provides a method for verifying our implementation of the solver. If we can solve a given problem and demonstrate that\n",
    "the error behaves as predicted by the theory, it gives a good indication that the solver is implemented correctly. \n",
    "We can illustrate this procedure using the simple initial value problem introduced earlier;"
   ]
  },
  {
   "cell_type": "markdown",
   "id": "1fb3303c",
   "metadata": {},
   "source": [
    "$$\n",
    "u' = u, \\quad u(0) = 1 .\n",
    "$$"
   ]
  },
  {
   "cell_type": "markdown",
   "id": "c38eb20f",
   "metadata": {},
   "source": [
    "As stated above, this problem has the analytical solution $u=e^t$, and we can use this to compute the \n",
    "error in our numerical solution. But how should the error be defined?  \n",
    "There is no unique answer to this question. For practical applications,\n",
    "the so-called root-mean-square (RMS) or relative-root-mean-square (RRMS) are commonly used error measures, defined by"
   ]
  },
  {
   "cell_type": "markdown",
   "id": "16035f8a",
   "metadata": {},
   "source": [
    "$$\n",
    "\\begin{align*}\n",
    "RMSE &=  \\sqrt{\\frac{1}{N}\\sum_{n=0}^N(u_n-\\hat{u}(t_n))^2}, \\\\\n",
    "RRMSE &= \\sqrt{\\frac{1}{N}\\sum_{n=0}^N\\frac{(u_n-\\hat{u}(t_n))^2}{\\hat{u}(t_n)^2}}, \n",
    "\\end{align*}\n",
    "$$"
   ]
  },
  {
   "cell_type": "markdown",
   "id": "8bf6469e",
   "metadata": {},
   "source": [
    "respectively. Here, $u_n$ is the numerical solution at time step $n$ and $\\hat{u}(t_n)$ the corresponding\n",
    "exact solution. In more mathematically oriented texts, the errors are usually defined in terms of \\emph{norms}, for \n",
    "instance the discrete $l_1,l_2,$ and $l_\\infty$ norms:"
   ]
  },
  {
   "cell_type": "markdown",
   "id": "f52413c7",
   "metadata": {},
   "source": [
    "$$\n",
    "\\begin{align*}\n",
    " e_{l_1} &= \\sum_{i=0}^N(|u_i-\\hat{u}(t_i)|),\\\\\n",
    " e_{l_2} &= \\sum_{i=0}^N(u_i-\\hat{u}(t_i)^2), \\\\\n",
    " e_{l_\\infty} &= \\max_{i=0}^N(\\hat{u}_i-u(t_i)).  \n",
    "\\end{align*}\n",
    "$$"
   ]
  },
  {
   "cell_type": "markdown",
   "id": "0c98ebe2",
   "metadata": {},
   "source": [
    "While the choice of error norm may be important for certain cases, for practical\n",
    "applications it is usually not very important, and all the different error measures can be expected to behave\n",
    "as predicted by the theory. For simplicity, we will apply an even simpler error measure for our example, where\n",
    "we simply compute the error at the final time $T$, given by $e = |u_N-\\hat{u}(t_N)|$. Using the `ForwardEuler`\n",
    "class introduced above, the complete code for checking the convergence may look as follows:"
   ]
  },
  {
   "cell_type": "code",
   "execution_count": 11,
   "id": "e2888562",
   "metadata": {
    "collapsed": false
   },
   "outputs": [],
   "source": [
    "from forward_euler_class_v1 import *\n",
    "import numpy as np\n",
    "\n",
    "def rhs(t,u):\n",
    "    return u\n",
    "\n",
    "def exact(t):\n",
    "    return np.exp(t)\n",
    "\n",
    "solver = ForwardEuler(rhs)\n",
    "solver.set_initial_condition(1.0)\n",
    "\n",
    "T = 3.0\n",
    "t_span = (0,T)\n",
    "N = 30\n",
    "\n",
    "print('Time step (dt)   Error (e)      e/dt')\n",
    "for _ in range(10):\n",
    "    t,u = solver.solve(t_span,N)\n",
    "    dt = T/N\n",
    "    e = abs(u[-1]-exact(T))\n",
    "    print(f'{dt:<14.7f}   {e:<12.7f}   {e/dt:5.4f}')\n",
    "    N = N*2"
   ]
  },
  {
   "cell_type": "markdown",
   "id": "e9cb5ff0",
   "metadata": {},
   "source": [
    "This program will produce the following output when it is run in the terminal:"
   ]
  },
  {
   "cell_type": "markdown",
   "id": "69633308",
   "metadata": {},
   "source": [
    "        Time step (dt)   Error (e)      e/dt\n",
    "        0.1000000        2.6361347      26.3613\n",
    "        0.0500000        1.4063510      28.1270\n",
    "        0.0250000        0.7273871      29.0955\n",
    "        0.0125000        0.3700434      29.6035\n",
    "        0.0062500        0.1866483      29.8637\n",
    "        0.0031250        0.0937359      29.9955\n",
    "        0.0015625        0.0469715      30.0618\n",
    "        0.0007813        0.0235117      30.0950\n",
    "        0.0003906        0.0117624      30.1116\n",
    "        0.0001953        0.0058828      30.1200\n"
   ]
  },
  {
   "cell_type": "markdown",
   "id": "e07c16b0",
   "metadata": {},
   "source": [
    "In the rightmost column we see that the error divided by the time step is approximately constant, which\n",
    "supports the theoretical result that the error is proportional to $\\Delta t$. In subsequent chapters we will\n",
    "perform similar calculations for higher order methods, to confirm that the error is proportional to $\\Delta t^r$,\n",
    "where $r$ is the theoretical order of convergence for the method. \n",
    "\n",
    "In order to compute the error in our numerical solution we obviously need to know the true solution to our \n",
    "initial value problem. This part was easy for the simple example above, since we knew the analytical solution\n",
    "to the equation, but this solution is only available for very simple ODE problems. It is, however, often \n",
    "interesting to estimate the error and the order of convergence for more complex problems, and for this task we \n",
    "need to take a different approach. Several alternatives exist, including for instance the *method of manufactured\n",
    "solutions*, where one simply choses a solution function $u(t)$ and computes its derivative analytically to \n",
    "determine the right-hand side of the ODE. An even simpler approach, which usually works well, is to \n",
    "compute a very accurate numerical solution using a high-order solver and small time steps, and use this\n",
    "solution as the reference for computing the error. For accurate error estimates it is of course essential\n",
    "that the reference solution is considerably more accurate than the numerical solution we want to evaluate. \n",
    "The reference solution therefore typically requires very small time steps and can take some time to \n",
    "compute, but in most cases the computation time will not be a problem. \n",
    "\n",
    "\n",
    "\n",
    "\n",
    "\n",
    "\n",
    "\n",
    "\n",
    "\n",
    "\n",
    "\n",
    "\n",
    "# Using ODE solvers from SciPy\n",
    " As mentioned in the preface to this book, there are numerous ODE solvers around that can \n",
    "be used directly, so one may argue that there is no need to implement our own solvers. \n",
    "This may indeed be true, but, as we have argued earlier, it is sometimes very useful to \n",
    "know the inner workings of the solvers we apply, and the best way to obtain this \n",
    "knowledge is to implement the solvers ourselves. However, if we have a given ODE model and\n",
    "want to solve it as efficiently as possible, there are several existing solvers to choose from.\n",
    "For Python programmers, the most natural choice may be the solvers from *SciPy*, which \n",
    "have evolved into a robust and fairly efficient suite of ODE solvers. SciPy is a large suite \n",
    "of scientific software in Python, including tools for linear algebra, optimization, integration,\n",
    "and other common tasks of scientific computing. For solving initial \n",
    "value problems, the tool of choice is the `solve_ivp` function from the `integrate` module. \n",
    "The following code applies `solve_ivp` with the `Pendulum` class presented above to solve the\n",
    "simple pendulum problem defined by ([3](#pendulum1))-([4](#pendulum2)). We assume that the `Pendulum`\n",
    "class is saved in a separate file `pendulum.py`."
   ]
  },
  {
   "cell_type": "code",
   "execution_count": 12,
   "id": "91ae9632",
   "metadata": {
    "collapsed": false
   },
   "outputs": [],
   "source": [
    "from scipy.integrate import solve_ivp\n",
    "import numpy as np\n",
    "import matplotlib.pyplot as plt\n",
    "from pendulum import Pendulum\n",
    "\n",
    "problem = Pendulum(L=1)\n",
    "t_span = (0,10.0)\n",
    "u0 = (np.pi/4, 0)\n",
    "\n",
    "solution = solve_ivp(problem, t_span, u0)\n",
    "\n",
    "plt.plot(solution.t, solution.y[0,:])\n",
    "plt.plot(solution.t, solution.y[1,:])\n",
    "plt.legend([r'$\\theta$',r'$\\omega$'])\n",
    "plt.show()"
   ]
  },
  {
   "cell_type": "markdown",
   "id": "2052597c",
   "metadata": {},
   "source": [
    "<!-- dom:FIGURE: [./figs_ch1/pendulum_scipy.png, width=600 frac=1] Solution of the simple pendulum problem, computed with the SciPy `solve_ivp` function and the default tolerance. <div id=\"fig:pendulum_scipy\"></div> -->\n",
    "<!-- begin figure -->\n",
    "<div id=\"fig:pendulum_scipy\"></div>\n",
    "\n",
    "<p>Solution of the simple pendulum problem, computed with the SciPy <code>solve_ivp</code> function and the default tolerance.</p>\n",
    "<img src=\"./figs_ch1/pendulum_scipy.png\" width=600>\n",
    "\n",
    "<!-- end figure -->\n",
    "\n",
    "\n",
    "Running this code will result in a plot similar to [Figure](#fig:pendulum_scipy), and we observe that\n",
    "the solution does not look nearly as nice as the one we got from the `ForwardEuler` solver above. \n",
    "The reason for this apparent error is that `solve_ivp` is an *adaptive* solver, which chooses the \n",
    "time step automatically to satisfy a given error tolerance. The default value of this tolerance is relatively large, \n",
    "which results in the solver using very few time steps and the solution plots looking edgy. \n",
    "If we compare the plot with the exact solution, indicated by the two dotted curves\n",
    "[Figure](#fig:pendulum_scipy), we see that the solution at the time points $t_n$ \n",
    "is quite accurate, but the linear interpolation between the time points completely destroys the visual \n",
    "appearance. A more visually appealing solution can be obtained in several ways. \n",
    "We may, for instance, pass the function an additional argument `t_eval`, which is a NumPy array \n",
    "containing the time points where we want to evaluate the solution:"
   ]
  },
  {
   "cell_type": "code",
   "execution_count": 13,
   "id": "ffff5b4c",
   "metadata": {
    "collapsed": false
   },
   "outputs": [],
   "source": [
    "t_eval = np.linspace(0,10.0,1001)\n",
    "solution = solve_ivp(problem, t_span, u0,t_eval=t_eval)"
   ]
  },
  {
   "cell_type": "markdown",
   "id": "3d122905",
   "metadata": {},
   "source": [
    "Alternatively, we can reduce the error tolerance of the solver, for instance setting"
   ]
  },
  {
   "cell_type": "code",
   "execution_count": 14,
   "id": "ad11367d",
   "metadata": {
    "collapsed": false
   },
   "outputs": [],
   "source": [
    "rtol = 1e-6\n",
    "solution = solve_ivp(problem, t_span, u0,rtol=rtol)"
   ]
  },
  {
   "cell_type": "markdown",
   "id": "e41be947",
   "metadata": {},
   "source": [
    "This latter call will reduce the relative tolerance `rtol` from its default value of `1e-3` (0.001). \n",
    "We could also adjust the absolute tolerance using the parameter `atol`. While we will not\n",
    "consider all the possible arguments and options to `solve_ivp` here, we mention that we can also \n",
    "change the numerical method used by the function, by passing in a parameter named `method`. For instance, \n",
    "a call like"
   ]
  },
  {
   "cell_type": "code",
   "execution_count": 15,
   "id": "d95959d1",
   "metadata": {
    "collapsed": false
   },
   "outputs": [],
   "source": [
    "rtol = 1e-6\n",
    "solution = solve_ivp(problem, t_span, u0,method='Radau')"
   ]
  },
  {
   "cell_type": "markdown",
   "id": "89fa635e",
   "metadata": {},
   "source": [
    "will replace the default solver (called `rk45`) with an implicit Radau ODE solver, which we will introduce and\n",
    "explain in Chapter 3. For a complete description of parameters accepted by the `solve_ivp` \n",
    "function we refer to the online SciPy documentation."
   ]
  }
 ],
 "metadata": {},
 "nbformat": 4,
 "nbformat_minor": 5
}
