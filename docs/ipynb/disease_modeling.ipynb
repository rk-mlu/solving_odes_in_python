{
 "cells": [
  {
   "cell_type": "markdown",
   "metadata": {},
   "source": [
    "# Modelling infectious diseases\n",
    "\n",
    "In this chapter we will look at a particular family of ODE systems\n",
    "that describe the spread of infectious diseases. Athough the spread of infections\n",
    "is a very complex physical and biological process, we shall see that it can be modeled\n",
    "with fairly simple systems of ODEs, which we can solve using the tools from the\n",
    "previous chapters.\n",
    "\n",
    "# Derivation of the SIR model\n",
    "\n",
    "In order to derive a model we need to make a number of simplifying assumptions. The\n",
    "most important one is that we do not consider individuals, just populations. The\n",
    "population is assumed to be perfectly mixed in a confined area, which means that we\n",
    "do not consider spatial transport of the disease, just temporal evolution. The first\n",
    "model we will derive is very simple, but we shall see that it can easily be extended to\n",
    "models that are used world-wide by health authorities to predict the\n",
    "spread of diseases such as Covid19, flu, ebola, HIV, etc.\n",
    "\n",
    "In the first version of the model we will keep track of three categories of people:\n",
    " * **S**: susceptibles - who can get the disease\n",
    "\n",
    " * **I**: infected - who have developed the disease and can infect susceptibles\n",
    "\n",
    " * **R**: recovered - who have recovered and become immune\n",
    "\n",
    "We represent these as mathematical quantities\n",
    "$S(t)$, $I(t)$, $R(t)$,  which represent the number of people in each category.\n",
    "The goal is now to derive a set of equations for $S(t)$, $I(t)$, $R(t)$, and then\n",
    "solve these equations to predict the spread of the disease.\n",
    "\n",
    "To derive the model equations, we first consider the dynamics in a time interval\n",
    "$\\Delta t$, and our goal is to derive mathematical expressions for how many\n",
    "people that move between the three categories in this time interval. The key part of\n",
    "the model is the description of how people move from $S$ to $I$, i.e., how\n",
    "susceptible individuals get the infection from those already infected.\n",
    "Infectious diseases are (mainly) transferred by direct interactions between\n",
    "people, so we need mathematical descriptions of the number of interactions\n",
    "between susceptible and infected individuals. We make the following assumptions:\n",
    "* An individual in the $S$ category interacts with an approximately constant\n",
    "  number of people each day, so the number of interactions in a\n",
    "  time interval $\\Delta t$ is proportional to $\\Delta t$.\n",
    "\n",
    "* The probability of one of these interactions being with an infected person is\n",
    "  proportional to the ratio of infected individuals to the total population, i.e.,\n",
    "  to $I/N$, with $N=S+I+R$.\n",
    "\n",
    "Based on these assumptions, the probability that a single susceptible person\n",
    "gets infected is proportional to $\\Delta t I/N$. The total number of\n",
    "infections can be written as $\\beta SI/N$, for some constant $\\beta$. The infection\n",
    "of new individuals represents a reduction in $S$ and a corresponding gain in $I$: , so we have"
   ]
  },
  {
   "cell_type": "markdown",
   "metadata": {},
   "source": [
    "$$\n",
    "\\begin{align*}\n",
    "S(t+\\Delta t) &= S(t) - \\Delta t \\beta \\frac{S(t)I(t)}{N} ,\\\\\n",
    "I(t+\\Delta t) &= I(t) + \\Delta t\\,\\beta \\frac{S(t)I(t)}{N} .\n",
    "\\end{align*}\n",
    "$$"
   ]
  },
  {
   "cell_type": "markdown",
   "metadata": {},
   "source": [
    "These two equations represent the key component of all the models considered\n",
    "in this chapter. More advanced models are typically derived by adding more\n",
    "categories and more transitions between them, but the individual transitions are\n",
    "very similar to the ones presented here.\n",
    "\n",
    "<!-- dom:FIGURE: [./fig-ode2/SIR0.png, width=800 frac=0.8] Graphical representation of the simplest SIR-model, where people move from being susceptible ($S$) to being infected ($I$) and then reach the recovered ($R$) category with immunity against the disease. -->\n",
    "<!-- begin figure -->\n",
    "\n",
    "<p>Graphical representation of the simplest SIR-model, where people move from being susceptible ($S$) to being infected ($I$) and then reach the recovered ($R$) category with immunity against the disease.</p>\n",
    "<img src=\"./fig-ode2/SIR0.png\" width=800>\n",
    "\n",
    "<!-- end figure -->\n",
    "\n",
    "\n",
    "We also need to model the transition of people from the $I$ to the $R$ catogory.\n",
    "Again considering a small time interval $\\Delta t$, it is natural to assume that\n",
    "a fraction $\\Delta t\\,\\nu$ of the infected recover and move to the $R$ category.\n",
    "Here $\\nu$ is a constant describing the time dynamics of the disease.\n",
    "The increase in $R$ is given by"
   ]
  },
  {
   "cell_type": "markdown",
   "metadata": {},
   "source": [
    "$$\n",
    "R(t+\\Delta t) = R(t) + \\Delta t\\,\\nu I(t),\n",
    "$$"
   ]
  },
  {
   "cell_type": "markdown",
   "metadata": {},
   "source": [
    "and we also need to subtract the same term in the balance equation for $I$, since\n",
    "the people move from $I$ to $R$. We get"
   ]
  },
  {
   "cell_type": "markdown",
   "metadata": {},
   "source": [
    "$$\n",
    "I(t+\\Delta t) = I(t) + \\Delta t\\,\\beta S(t)I(t) -\\Delta t\\,\\nu I(t) .\n",
    "$$"
   ]
  },
  {
   "cell_type": "markdown",
   "metadata": {},
   "source": [
    "We now have three equations for $S$, $I$, and $R$:"
   ]
  },
  {
   "cell_type": "markdown",
   "metadata": {},
   "source": [
    "<!-- Equation labels as ordinary links -->\n",
    "<div id=\"SIR1:S\"></div>\n",
    "\n",
    "$$\n",
    "\\begin{equation}\n",
    "S(t+\\Delta t) = S(t) - \\Delta t\\,\\beta \\frac{S(t)I(t)}{N}\n",
    "\\label{SIR1:S} \\tag{1}\n",
    "\\end{equation}\n",
    "$$"
   ]
  },
  {
   "cell_type": "markdown",
   "metadata": {},
   "source": [
    "<!-- Equation labels as ordinary links -->\n",
    "<div id=\"SIR1:I\"></div>\n",
    "\n",
    "$$\n",
    "\\begin{equation} \n",
    "I(t+\\Delta t) = I(t) + \\Delta t\\,\\beta \\frac{S(t)I(t)}{N} - \\Delta t\\nu I(t)\n",
    "\\label{SIR1:I} \\tag{2}\n",
    "\\end{equation}\n",
    "$$"
   ]
  },
  {
   "cell_type": "markdown",
   "metadata": {},
   "source": [
    "<!-- Equation labels as ordinary links -->\n",
    "<div id=\"SIR1:R\"></div>\n",
    "\n",
    "$$\n",
    "\\begin{equation} \n",
    "R(t+\\Delta t) = R(t) + \\Delta t\\,\\nu I(t) .\n",
    "\\label{SIR1:R} \\tag{3}\n",
    "\\end{equation}\n",
    "$$"
   ]
  },
  {
   "cell_type": "markdown",
   "metadata": {},
   "source": [
    "Although the notation is slightly different, we may recognize these equations\n",
    "as a system of difference equations of the same kind that we solved in Chapter\n",
    "1. We could easily solve the equations as such, using techniques from\n",
    "Chapter 1, but models of this kind are more commonly formulated\n",
    "as systems of ODEs, which can be solved with the tools we developed in Chapter 3.\n",
    "\n",
    "To turn the difference equations into ODEs, we first divide all equations\n",
    "by $\\Delta t$ and rearrange, to get"
   ]
  },
  {
   "cell_type": "markdown",
   "metadata": {},
   "source": [
    "<!-- Equation labels as ordinary links -->\n",
    "<div id=\"sir_diffeq0\"></div>\n",
    "\n",
    "$$\n",
    "\\begin{equation}\n",
    "\\frac{S(t+\\Delta t) - S(t)}{\\Delta t} = - \\beta \\frac{S(t)I(t)}{N}, \\label{sir_diffeq0} \\tag{4} \n",
    "\\end{equation}\n",
    "$$"
   ]
  },
  {
   "cell_type": "markdown",
   "metadata": {},
   "source": [
    "<!-- Equation labels as ordinary links -->\n",
    "<div id=\"sir_diffeq1\"></div>\n",
    "\n",
    "$$\n",
    "\\begin{equation} \n",
    "\\frac{I(t+\\Delta t) - I(t)}{\\Delta t} = \\beta t \\frac{S(t)I(t)}{N} -\\nu I(t), \\label{sir_diffeq1} \\tag{5} \n",
    "\\end{equation}\n",
    "$$"
   ]
  },
  {
   "cell_type": "markdown",
   "metadata": {},
   "source": [
    "<!-- Equation labels as ordinary links -->\n",
    "<div id=\"sir_diffeq2\"></div>\n",
    "\n",
    "$$\n",
    "\\begin{equation} \n",
    "\\frac{R(t+\\Delta t) - R(t)}{\\Delta t} = \\nu I(t) . \\label{sir_diffeq2} \\tag{6}\n",
    "\\end{equation}\n",
    "$$"
   ]
  },
  {
   "cell_type": "markdown",
   "metadata": {},
   "source": [
    "We see that by letting $\\Delta t\\rightarrow 0$, we get\n",
    "derivatives on the left-hand side:"
   ]
  },
  {
   "cell_type": "markdown",
   "metadata": {},
   "source": [
    "<!-- Equation labels as ordinary links -->\n",
    "<div id=\"sir_ode0\"></div>\n",
    "\n",
    "$$\n",
    "\\begin{equation}\n",
    "S'(t) = - \\beta \\frac{S I}{N}, \\label{sir_ode0} \\tag{7}\n",
    "\\end{equation}\n",
    "$$"
   ]
  },
  {
   "cell_type": "markdown",
   "metadata": {},
   "source": [
    "<!-- Equation labels as ordinary links -->\n",
    "<div id=\"sir_ode1\"></div>\n",
    "\n",
    "$$\n",
    "\\begin{equation} \n",
    "I'(t) = \\beta \\frac{S I}{N}, -\\nu I  \\label{sir_ode1} \\tag{8}\n",
    "\\end{equation}\n",
    "$$"
   ]
  },
  {
   "cell_type": "markdown",
   "metadata": {},
   "source": [
    "<!-- Equation labels as ordinary links -->\n",
    "<div id=\"sir_ode2\"></div>\n",
    "\n",
    "$$\n",
    "\\begin{equation} \n",
    "R'(t) = \\nu I \\label{sir_ode2} \\tag{9},\n",
    "\\end{equation}\n",
    "$$"
   ]
  },
  {
   "cell_type": "markdown",
   "metadata": {},
   "source": [
    "where as above $N=S+I+R$. Adding the equations together we see that\n",
    "$N'(t) = S'(t)+I'(t)+R'(t)= 0$, so the total population $N$ is constant.\n",
    "The equations ([7](#sir_ode0))-([9](#sir_ode2)) is a system of three ODEs,\n",
    "which we will solve for the unknown\n",
    "functions $S(t)$, $I(t)$, $R(t)$. To solve the equations we need\n",
    "to specify initial conditions $S(0)$ (many), $I(0)$ (few), and\n",
    "$R(0)$ (=0?), as well as the parameters $\\beta$ and $\\nu$.\n",
    "For practical applications of the model, estimating the parameters is\n",
    "usually a major challenge. We can estimate\n",
    "$\\nu$ from the fact that $1/\\nu$ is the average recovery time for the disease,\n",
    "which is usually possible to determine from early cases.\n",
    "The infection rate $\\beta$, on the other hand, lumps a lot of biological and\n",
    "sociological factors into a single number, and it is usually very difficult to estimate for a new disease.\n",
    "It depends both the biology of the disease itself, essentially how infectious it is,\n",
    "and on the interactions of the population. In a global pandemic the\n",
    "behavior of the population varies between different countries, and it will typically\n",
    "change with time, so $\\beta$ must usually be adapted to different regions and different\n",
    "phases of the disease outbreak.\n",
    "\n",
    "\n",
    "Although the system ([7](#sir_ode0))-([9](#sir_ode2)) looks quite simple, analytical solutions\n",
    "cannot easily be derived.  For particular applications\n",
    "it is common to make simplifications that allow simple analytical solutions. For instance,\n",
    "when studying the early phase of an epidemic one is mostly interested in the $I$\n",
    "category, and since the number of infected cases in this phase is low compared with\n",
    "the entire population we may assume that $S$ is approximately constant and equal to $N$.\n",
    "Inserting $S\\approx N$ turns ([8](#sir_ode1)) into a simple equation describing exponential growth, with solution"
   ]
  },
  {
   "cell_type": "markdown",
   "metadata": {},
   "source": [
    "<!-- Equation labels as ordinary links -->\n",
    "<div id=\"sir_exp0\"></div>\n",
    "\n",
    "$$\n",
    "\\begin{equation}\n",
    "I(t) = I_0 e^{(\\beta -\\nu)} .\n",
    "\\label{sir_exp0} \\tag{10} \\end{equation}\n",
    "$$"
   ]
  },
  {
   "cell_type": "markdown",
   "metadata": {},
   "source": [
    "Such an approximate formula may be very useful, in particular for estimating the\n",
    "parameters of the model. In the early phase of an epidemic the number of infected\n",
    "people typically follows an exponential curve, and we can fit the parameters of the model\n",
    "so that ([10](#sir_exp0)) fits the observed dynamics. However, if we want to describe the\n",
    "full dynamics of the epidemic we need to solve the complete system of ODEs, and\n",
    "in this case numerical solvers are needed.\n",
    "\n",
    "### Solving the SIR model with the `ODESystem` class hierarchy.\n",
    "\n",
    "We could of course implement a numerical solution of the SIR equations directly, for\n",
    "instance by applying the forward Euler method to ([7](#sir_ode0))-([9](#sir_ode2)), which\n",
    "will simply give us back the original difference equations in\n",
    "([4](#sir_diffeq0))-([6](#sir_diffeq2)). However, since the ODE solver\n",
    "tools we developed in Chapter 3 are completely\n",
    "general, they can easily be used to solve the SIR model. To solve the system using the\n",
    "fourth-order RK method of the ODESolver hierarchy, the Python implementation\n",
    "may look as follows:"
   ]
  },
  {
   "cell_type": "code",
   "execution_count": 1,
   "metadata": {
    "collapsed": false
   },
   "outputs": [],
   "source": [
    "%matplotlib inline\n",
    "\n",
    "from ODESolver import RungeKutta4\n",
    "import numpy as np\n",
    "import matplotlib.pyplot as plt\n",
    "\n",
    "def SIR_model(u,t):\n",
    "    beta = 1.0\n",
    "    nu = 1/7.0\n",
    "    S, I, R = u[0], u[1], u[2]\n",
    "    N = S+I+R\n",
    "    dS = -beta*S*I/N\n",
    "    dI = beta*S*I/N - nu*I\n",
    "    dR = nu*I\n",
    "    return [dS,dI,dR]\n",
    "\n",
    "S0 = 1000\n",
    "I0 = 1\n",
    "R0 = 0\n",
    "\n",
    "solver= RungeKutta4(SIR_model)\n",
    "solver.set_initial_condition([S0,I0,R0])\n",
    "time_points = np.linspace(0, 100, 101)\n",
    "u, t = solver.solve(time_points)\n",
    "S = u[:,0];  I = u[:,1]; R = u[:,2]\n",
    "\n",
    "plt.plot(t,S,t,I,t,R)\n",
    "plt.show()"
   ]
  },
  {
   "cell_type": "markdown",
   "metadata": {},
   "source": [
    "### A class implementation of the SIR model.\n",
    "\n",
    "As noted above, estimating the parameters in the model is often challenging.\n",
    "In fact, the most important application of models of this kind is to\n",
    "predict the dynamics of new diseases, for instance the global Covid19 pandemic.\n",
    "Accurate predictions of the number of disease cases can be extremely important\n",
    "in planning the response to the epidemic, but the challenge is that for a new\n",
    "disease all the parameters are largely unknown. Although there are ways to\n",
    "estimate the parameters from the early disease dynamics, the estimates will contain\n",
    "a large degree of uncertainty, and a common strategy is then to run the\n",
    "model for multiple parameters to get an idea of what disease outbreak\n",
    "scenarios to expect. We can easily run the code above for multiple values of\n",
    "`beta` and `nu`, but it is inconvenient that both parameters are hardcoded as local\n",
    "variables in the `SIR_model` function, so we need to edit the code for each new parameter value\n",
    "we want. As we have seen earlier, it is much better to represent such a parameterized\n",
    "function as a class, where the parameters can be set in the constructor and the\n",
    "function itself is implemented in a `__call__` method. A class for the SIR model\n",
    "could look like:"
   ]
  },
  {
   "cell_type": "code",
   "execution_count": 2,
   "metadata": {
    "collapsed": false
   },
   "outputs": [],
   "source": [
    "class SIR:\n",
    "    def __init__(self, beta, nu):\n",
    "        self.beta = beta\n",
    "        self.nu = nu\n",
    "\n",
    "    def __call__(self,u,t):\n",
    "        S, I, R = u[0], u[1], u[2]\n",
    "        N = S+I+R\n",
    "        dS = -self.beta*S*I/N\n",
    "        dI = self.beta*S*I/N - self.nu*I\n",
    "        dR = self.nu*I\n",
    "        return [dS,dI,dR]"
   ]
  },
  {
   "cell_type": "markdown",
   "metadata": {},
   "source": [
    "The use of the class is very similar to the use of the `SIR_model` function above.\n",
    "We need to create an instance of the class with given values of `beta` and `nu`, and\n",
    "then this instance can be passed to the ODE solver just as any regular Python function.\n",
    "\n",
    "# Extending the SIR model\n",
    "\n",
    "The SIR model itself is rarely used for predictive simulations of real-world diseases,\n",
    "but various extensions of the model are used to a large extent. Many such extensions\n",
    "have been derived, in order to best fit the dynamics of different infectious diseases.\n",
    "We will here consider a few such extensions, which are all based on the building\n",
    "blocks of the simple SIR model.\n",
    "\n",
    "### A SIR model without life-long immunity.\n",
    "\n",
    "One very simple modification of the model above is to remove the assumption of\n",
    "life-long immunity. The model ([7](#sir_ode0))-([9](#sir_ode2)) describes a one-directional\n",
    "flux towards the R category, and if we solve the model for a sufficiently\n",
    "long time interval the entire population will end up in R. This situation is not\n",
    "realistic for many diseases, since immunity is often lost or reduced with time.\n",
    "In the model this loss can be described by a leakage of people from the R category back\n",
    "to S. If we introduce the parameter $\\gamma$ to describe this flux\n",
    "($1/\\gamma$ being the mean time for immunity), the modified equation system looks like"
   ]
  },
  {
   "cell_type": "markdown",
   "metadata": {},
   "source": [
    "$$\n",
    "\\begin{align*}\n",
    "S'(t) &= - \\beta S I/N +\\gamma R,\\\\\n",
    "I'(t) &= \\beta S I/N -\\nu I,  \\\\\n",
    "R'(t) &= \\nu I -\\gamma R.\n",
    "\\end{align*}\n",
    "$$"
   ]
  },
  {
   "cell_type": "markdown",
   "metadata": {},
   "source": [
    "As above, we see that the reduction in $R$ is matched by an increase in $S$ of\n",
    "exactly the same magnitude. The total population $S+I+R$ remains constant.\n",
    "The model can be implemented by a trivial extension of the `SIR` class shown above,\n",
    "by simply adding one additional parameter to the constructor and the extra terms\n",
    "in the `dS` and `dR` equations. Depending on the choice of the parameters, the model\n",
    "may show far more interesting dynamics than the simplest SIR model.\n",
    "\n",
    "<!-- dom:FIGURE: [./fig-ode2/SIR1.png, width=800 frac=0.8] Illustration of a SIR model without lifelong immunity, where people move from the R category back to S after a given time. -->\n",
    "<!-- begin figure -->\n",
    "\n",
    "<p>Illustration of a SIR model without lifelong immunity, where people move from the R category back to S after a given time.</p>\n",
    "<img src=\"./fig-ode2/SIR1.png\" width=800>\n",
    "\n",
    "<!-- end figure -->\n",
    "\n",
    "\n",
    "### A SEIR model to capture the incubation period.\n",
    "\n",
    "For many important infections, there is a significant incubation period during\n",
    "which individuals have been infected, but they are not yet infectious themselves. To\n",
    "capture these dynamics in the model, we may add an\n",
    "additional category E (for exposed). When people are infected they will then move\n",
    "into the E category rather than directly to I, and then gradually move over\n",
    "to the infected state where they can also infect others. The model for how susceptible\n",
    "people get infected is kept exactly as in the ordinary SIR model. Such a SEIR model\n",
    "is illustrated in [Figure](#fig:seir), and the ODEs may look like"
   ]
  },
  {
   "cell_type": "markdown",
   "metadata": {},
   "source": [
    "$$\n",
    "\\begin{align*}\n",
    "S'(t) &= - \\beta S I/N +\\gamma R,\\\\\n",
    "E'(t) &= \\beta S I/N - \\mu E, \\\\\n",
    "I'(t) &= \\mu E -\\nu I,  \\\\\n",
    "R'(t) &= \\nu I -\\gamma R.\n",
    "\\end{align*}\n",
    "$$"
   ]
  },
  {
   "cell_type": "markdown",
   "metadata": {},
   "source": [
    "<!-- dom:FIGURE: [./fig-ode2/SEIR.png, width=800 frac=0.8] Illustration of the SEIR model, without life-long immunity.  <div id=\"fig:seir\"></div> -->\n",
    "<!-- begin figure -->\n",
    "<div id=\"fig:seir\"></div>\n",
    "\n",
    "<p>Illustration of the SEIR model, without life-long immunity.</p>\n",
    "<img src=\"./fig-ode2/SEIR.png\" width=800>\n",
    "\n",
    "<!-- end figure -->\n",
    "\n",
    "\n",
    "\n",
    "Again, this small extension of the model does not make it much more\n",
    "difficult to solve. The following code shows an example of how the SEIR model\n",
    "can be implemented as a class and solved with the `ODESolver` hierarchy:"
   ]
  },
  {
   "cell_type": "code",
   "execution_count": 3,
   "metadata": {
    "collapsed": false
   },
   "outputs": [],
   "source": [
    "from ODESolver import RungeKutta4\n",
    "import numpy as np\n",
    "import matplotlib.pyplot as plt\n",
    "\n",
    "class SEIR:\n",
    "    def __init__(self, beta, mu, nu, gamma):\n",
    "        self.beta = beta\n",
    "        self.mu = mu\n",
    "        self.nu = nu\n",
    "        self.gamma = gamma\n",
    "\n",
    "\n",
    "    def __call__(self,u,t):\n",
    "        S, E, I, R = u\n",
    "        N = S+I+R+E\n",
    "        dS = -self.beta*S*I/N + self.gamma*R\n",
    "        dE  = self.beta*S*I/N - self.mu*E\n",
    "        dI =  self.mu*E - self.nu*I\n",
    "        dR = self.nu*I - self.gamma*R\n",
    "        return [dS,dE,dI,dR]\n",
    "\n",
    "\n",
    "\n",
    "S0 = 1000\n",
    "E0 = 0\n",
    "I0 = 1\n",
    "R0 = 0\n",
    "model = SEIR(beta=1.0, mu=1.0/5,nu=1.0/7,gamma=1.0/50)\n",
    "\n",
    "solver= RungeKutta4(model)\n",
    "solver.set_initial_condition([S0,E0,I0,R0])\n",
    "time_points = np.linspace(0, 100, 101)\n",
    "u, t = solver.solve(time_points)\n",
    "S = u[:,0]; E = u[:,1]; I = u[:,2]; R = u[:,3]\n",
    "\n",
    "plt.plot(t,S,t,E,t,I,t,R)\n",
    "plt.show()"
   ]
  },
  {
   "cell_type": "markdown",
   "metadata": {},
   "source": [
    "# A model of the Covid19 pandemic\n",
    "The models considered above can typically be adapted to describe more complex\n",
    "disease behavior by adding more categories of people and possibly more interactions\n",
    "between the different categories. We will now consider an extension of the\n",
    "SEIR model above into a model that has been used by Norwegian health authorities\n",
    "to predict the spread of the 2020 Covid19 pandemic. We will here derive the model\n",
    "as a system of ODEs, just like the models considered above, while the real\n",
    "model that is used to provide Covid19 predictions for health authorities is a stochastic model.\n",
    "A stochastic model is somewhat more flexible than the deterministic ODE version,\n",
    "and can more easily incorporate dynamics such as model parameters that vary with\n",
    "time after infection. For instance, the infectiousness ($\\beta$) should typically\n",
    "follow a bell-shaped curve that increases gradually after infection, reaches a peak after\n",
    "a few days, and is then reduced. Such behavior is easier to incorporate in a stochastic\n",
    "model than in the deterministic ODE model considered here, which\n",
    "essentially assumes a constant $\\beta$ for everyone in the $I$ category. However,\n",
    "the overall structure and dynamics of the two model types are exactly the same, and\n",
    "for certain choices of the model parameters the stochastic and deterministic\n",
    "models become equivalent.\n",
    "\n",
    "\n",
    "To describe Covid19, the SEIR model introduced above is modified to incorporate\n",
    "two important disease characteristics:\n",
    " * A certain number of people infected with Covid19 have no symptoms. These asymptomatic\n",
    "   people can still infect other, but with a lower infectiousness than the symptomatic group, and\n",
    "   they need to be treated as a separate category.\n",
    "\n",
    " * A large number of infections occur before the infector experiences symptoms, which suggests\n",
    "   an additional *exposed* category where people are infectious but do not yet experience\n",
    "   symptoms.\n",
    "\n",
    "These characteristics can be modeled by adding more categories to the SEIR model introduced\n",
    "earlier. We include two exposed categories $E_1$ and $E_2$, with the first being non-infectious and\n",
    "the second being able to infect others. The I category is also divided in two; a symptomatic $I$\n",
    "and an asymptomatic $I_a$. The flux from $S$ to $E_1$ will be similar to the SEIR model, but from $E_1$\n",
    "people will follow one of two possible trajectories. Some will move on to $E_2$ and then\n",
    "into $I$ and finally $R$, while others move directly into $I_a$ and then to $R$.\n",
    "The model is illustrated in [Figure](#fig:covid19).\n",
    "\n",
    "<!-- dom:FIGURE: [./fig-ode2/SEEIIR.png, width=800 frac=0.8] Illustration of the Covid19 epidemic model, with two alternative disease trajectories. <div id=\"fig:covid19\"></div> -->\n",
    "<!-- begin figure -->\n",
    "<div id=\"fig:covid19\"></div>\n",
    "\n",
    "<p>Illustration of the Covid19 epidemic model, with two alternative disease trajectories.</p>\n",
    "<img src=\"./fig-ode2/SEEIIR.png\" width=800>\n",
    "\n",
    "<!-- end figure -->\n",
    "\n",
    "\n",
    "The derivation of the model equations is similar to the simpler models\n",
    "considered above, but there will be more equations as well as more terms in each equation.\n",
    "The most important extension from the models above is that the SEEIIR model has\n",
    "three categories of infectious people; $E_2, I$, and $I_a$. All of these\n",
    "interact with the $S$ category to create new infections, and we model each\n",
    "of these interactions exactly as we did above. In a time\n",
    "interval $\\Delta t$, we have the following three contributions to the flux from\n",
    "$S$ to $E_1$:\n",
    "* Infected by people in $I$: $\\Delta t\\beta SI/N$.\n",
    "\n",
    "* Infected by people in $I_a$: $\\Delta t r_{ia} \\beta S I_a/N $\n",
    "\n",
    "* Infected by people in $E_2$: $\\Delta t r_{e2} \\beta S E_2/N $\n",
    "\n",
    "We allow the infectiousness to be different between the three categories,\n",
    "incorporated through a main infectiousness parameter $\\beta$ and\n",
    "two parameters $r_{ia}, r_{e2}$ that scale the infectiousness for the two respective groups.\n",
    "Considering all three contributions, and following the same steps as above\n",
    "to construct a difference equation and then a ODE, we get the following equation\n",
    "for the $S$ category:"
   ]
  },
  {
   "cell_type": "markdown",
   "metadata": {},
   "source": [
    "<!-- Equation labels as ordinary links -->\n",
    "<div id=\"eq:1\"></div>\n",
    "\n",
    "$$\n",
    "\\begin{equation} \\label{eq:1} \\tag{11}\n",
    "\\frac{dS}{dt} = - \\beta \\frac{SI}{N}- r_{ia} \\beta \\frac{S I_a}{N} - r_{e2} \\beta \\frac{S E_2}{N}.\n",
    "\\end{equation}\n",
    "$$"
   ]
  },
  {
   "cell_type": "markdown",
   "metadata": {},
   "source": [
    "When people get infected they move from $S$ to $E_1$, so the same three terms\n",
    "must appear in the equation for $E_1$, with opposite signs. Furthermore,\n",
    "people in $E_1$ will move either to $E_2$ or $I_a$. We have"
   ]
  },
  {
   "cell_type": "markdown",
   "metadata": {},
   "source": [
    "$$\n",
    "\\begin{align*}\n",
    "    \\frac{dE_1}{dt} & = \\beta \\frac{S I}{N} + r_{ia} \\beta \\frac{S I_a}{N} + r_{e2} \\beta \\frac{S E_2}{N}\n",
    "    - \\lambda_1(1-p_a)E_1 - \\lambda_1 p_a E_1 \\nonumber \\\\\n",
    "    & = \\beta \\frac{S I}{N} + r_{ia} \\beta \\frac{S I_a}{N} + r_{e2} \\beta \\frac{S E_2}{N} - \\lambda_1 E_1.\n",
    "\\end{align*}\n",
    "$$"
   ]
  },
  {
   "cell_type": "markdown",
   "metadata": {},
   "source": [
    "Here, $p_a$ is a parameter describing the proportion of infected people that never develop symptoms, while\n",
    "$1/\\lambda_1$ is the mean duration of the non-infectious incubation period. The term $\\lambda_1(1-p_a)E_1$\n",
    "represents people moving to $E_2$, and $\\lambda_1p_aE_1$ are people moving to $I_a$.\n",
    "In the equation for\n",
    "$E_1$ we can combine these two fluxes into a single term, but they must be considered\n",
    "separately in the equations for $E_2$ and $I_a$.\n",
    "\n",
    "The $E_2$ category will get an influx of people from $E_1$, and an outflux of people moving on to\n",
    "the infected $I$ category, while $I$ gets an influx from $E_2$ and an outflux to $R$. The ODEs for\n",
    "these two categories become"
   ]
  },
  {
   "cell_type": "markdown",
   "metadata": {},
   "source": [
    "$$\n",
    "\\begin{align*}\n",
    "    \\frac{dE_2}{dt} &= \\lambda_1(1-p_a)E_1 - \\lambda_2E_2, \\\\\n",
    "    \\frac{dI}{t} &= \\lambda_2E_2 - \\mu I,\n",
    "\\end{align*}\n",
    "$$"
   ]
  },
  {
   "cell_type": "markdown",
   "metadata": {},
   "source": [
    "where $1/\\lambda_2$ and $1/\\mu$ are the mean durations of the $E_2$ and $I$ phases, respectively.\n",
    "\n",
    "The model for the asymptomatic disease trajectory is somewhat simpler, with $I_a$ receiving an\n",
    "influx from $E_1$ and losing people directly to $R$. We have"
   ]
  },
  {
   "cell_type": "markdown",
   "metadata": {},
   "source": [
    "$$\n",
    "\\frac{I_a}{dt} = \\lambda_1  p_a E_1 - \\mu I_a,\n",
    "$$"
   ]
  },
  {
   "cell_type": "markdown",
   "metadata": {},
   "source": [
    "where we have assumed that the duration of the $I_a$ period is the same as for $I$, i.e. $1/\\mu$.\n",
    "Finally, the dynamics of the recovered category are governed by"
   ]
  },
  {
   "cell_type": "markdown",
   "metadata": {},
   "source": [
    "$$\n",
    "\\frac{dR}{dt} = \\mu I + \\mu I_a.\n",
    "$$"
   ]
  },
  {
   "cell_type": "markdown",
   "metadata": {},
   "source": [
    "Notice that we do not consider flow from the $R$ category back to $S$, so\n",
    "we have effectively assumed life-long immunity. This assumption is probably not correct\n",
    "for Covid19, but since the duration of immunity is still largely unknown, and\n",
    "we are mostly interested in the early epidemic spread, we neglect the loss of immunity.\n",
    "\n",
    "To summarize, the complete ODE system of the SEEIIR model can be written as"
   ]
  },
  {
   "cell_type": "markdown",
   "metadata": {},
   "source": [
    "$$\n",
    "\\begin{align*}\n",
    "\\frac{dS}{dt} &= - \\beta \\frac{SI}{N}- r_{ia} \\beta \\frac{S I_a}{N} - r_{e2} \\beta \\frac{S E_2}{N}, \\\\\n",
    "\\frac{dE_1}{dt} &= \\beta \\frac{S I}{N} + r_{ia} \\beta \\frac{S I_a}{N} + r_{e2} \\beta \\frac{S E_2}{N}- \\lambda_1 E_1, \\\\\n",
    "\\frac{dE_2}{dt}  &= \\lambda_1(1-p_a)E_1 - \\lambda_2E_2, \\\\\n",
    "\\frac{dI}{dt} &= \\lambda_2E_2 - \\mu I, \\\\\n",
    "\\frac{dI_a}{dt} &= \\lambda_1  p_a E_1 - \\mu I_a, \\\\\n",
    "\\frac{dR}{dt} &= \\mu (I + I_a).\n",
    "\\end{align*}\n",
    "$$"
   ]
  },
  {
   "cell_type": "markdown",
   "metadata": {},
   "source": [
    "A suitable choice of default parameters  for the model can be as follows:\n",
    "<table border=\"1\">\n",
    "<thead>\n",
    "<tr><th align=\"left\"> Parameter </th> <th align=\"left\">Value</th> </tr>\n",
    "</thead>\n",
    "<tbody>\n",
    "<tr><td align=\"left\">   $\\beta$        </td> <td align=\"right\">   0.6      </td> </tr>\n",
    "<tr><td align=\"left\">   $r_{ia}$       </td> <td align=\"right\">   0.1      </td> </tr>\n",
    "<tr><td align=\"left\">   $r_{e2}$       </td> <td align=\"right\">   1.25     </td> </tr>\n",
    "<tr><td align=\"left\">   $\\lambda_1$    </td> <td align=\"right\">   0.33     </td> </tr>\n",
    "<tr><td align=\"left\">   $\\lambda_2$    </td> <td align=\"right\">   0.5      </td> </tr>\n",
    "<tr><td align=\"left\">   $p_a$          </td> <td align=\"right\">   0.4      </td> </tr>\n",
    "<tr><td align=\"left\">   $\\mu$          </td> <td align=\"right\">   0.2      </td> </tr>\n",
    "</tbody>\n",
    "</table>\n",
    "These parameters are based on the early phase of the Covid19 outbreak and\n",
    "can  tell us quite a bit about the disease dynamics. The\n",
    "parameters $\\mu, \\lambda_1$, and $\\lambda_2$ are given in units of days$^{-1}$,\n",
    "so the mean duration of the symptomatic disease period is five days ($1/\\mu$),\n",
    "the non-infectious incubation period lasts three days on average, while the\n",
    "mean duration of the infectious incubation period ($E_2$) is two days. Furthermore,\n",
    "we see that the mean infectiousness of asymptomatic people is 10\\% of\n",
    "the infectiousness of the symptomatic cases. However, the infectiousness of the\n",
    "$E_2$ category is 25\\% higher than the infectiousness of the $I$ category. This\n",
    "increased infectiousness is most likely the result of the $E_2$ category being\n",
    "asymptomatic, so these people will move around a lot more than the symptomatic $I$\n",
    "category. The $I_a$ group is also, of course, asymptomatic and therefore likely to\n",
    "move around more, but it is assumed that these people have a very low virus count and\n",
    "are therefore less infectious than the people that develop symptoms.\n",
    "\n",
    "A function implementation of the SEEIIR model can look as follows"
   ]
  },
  {
   "cell_type": "code",
   "execution_count": 4,
   "metadata": {
    "collapsed": false
   },
   "outputs": [],
   "source": [
    "def SEEIIR_model(u,t):\n",
    "    beta = 0.6; r_ia = 0.1; r_e2=1.25;\n",
    "    lmbda1=0.33; lmbda2=0.5; p_a=0.4; mu=0.2;\n",
    "\n",
    "    S, E1, E2, I, Ia, R = u\n",
    "    N = sum(u)\n",
    "    dS  = -beta*S*I/N - r_ia*beta*S*Ia/N - r_e2*beta*S*E2/N\n",
    "    dE1 = beta*S*I/N + r_ia*beta*S*Ia/N + r_e2*beta*S*E2/N - lmbda_1*E1\n",
    "    dE2 = lmbda_1*(1-p_a)*E1 - lmbda_2*E2\n",
    "    dI  = lmbda_2*E2 - mu*I\n",
    "    dIa = lmbda_1*p_a*E1 - mu*Ia\n",
    "    dR  = mu*(I + Ia)\n",
    "    return [dS, dE1, dE2, dI, dIa, dR]"
   ]
  },
  {
   "cell_type": "markdown",
   "metadata": {},
   "source": [
    "Just as the simpler models, the SEEIIR model can be solved with\n",
    "methods in the `ODEsolver` class hierarchy:"
   ]
  },
  {
   "cell_type": "code",
   "execution_count": 5,
   "metadata": {
    "collapsed": false
   },
   "outputs": [],
   "source": [
    "import numpy as np\n",
    "import matplotlib.pyplot as plt\n",
    "from ODESolver import *\n",
    "\n",
    "S_0 = 5e6\n",
    "E1_0 = 0\n",
    "E2_0 = 100\n",
    "I_0 = 0\n",
    "Ia_0 = 0\n",
    "R_0 = 0\n",
    "U0 = [S_0, E1_0, E2_0, I_0, Ia_0, R_0]\n",
    "\n",
    "solver = RungeKutta4(SEEIIR_model)\n",
    "solver.set_initial_condition(U0)\n",
    "time_points = np.linspace(0, 100, 101)\n",
    "u, t = solver.solve(time_points)\n",
    "S = u[:,0]; E1 = u[:,1]; E2 = u[:,2];\n",
    "I = u[:,3]; Ia = u[:,4]; R = u[:,5]\n",
    "\n",
    "plt.plot(t,S,label='S')\n",
    "plt.plot(t,E1,label='E1')\n",
    "plt.plot(t,E2,label='E2')\n",
    "plt.plot(t,I,label='I')\n",
    "plt.plot(t,Ia,label='Ia')\n",
    "plt.plot(t,R,label='R')\n",
    "plt.legend()\n",
    "plt.show()"
   ]
  }
 ],
 "metadata": {},
 "nbformat": 4,
 "nbformat_minor": 2
}
