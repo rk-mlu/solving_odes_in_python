{
 "cells": [
  {
   "cell_type": "markdown",
   "metadata": {},
   "source": [
    "<!-- TITLE: App.E: Programming of differential equations -->\n",
    "<!-- AUTHOR: Joakim Sundnes at Simula Research Laboratory & University of Oslo, Dept. of Informatics -->\n",
    "<!-- DATE: today -->\n",
    "\n",
    "\n",
    "Ordinary differential equations (ODEs) are widely used in science and engineering, in particular for modeling dynamic\n",
    "processes. While simple ODEs can be solved with analytical methods, non-linear ODEs are generally not possible\n",
    "to solve in this way, and we need to apply numerical methods. In this chapter we will see how we can program\n",
    "general numerical solvers that can be applied to any ODE. We will first consider scalar ODEs, i.e., ODEs with a single\n",
    "equation and a single unknown, and in Chapter 3 we will\n",
    "extend the ideas to systems of coupled ODEs. Understanding the concepts\n",
    "of this chapter is useful not only for programming your own ODE solvers, but also for using a wide variety of\n",
    "general-purpose ODE solvers available both in Python and other programming languages.\n",
    "\n",
    "\n",
    "# Creating a general-purpose ODE solver\n",
    "When solving ODEs analytically one will typically consider a specific ODE or a class of ODEs, and try to derive\n",
    "a formula for the solution. In this chapter we want to implement numerical solvers that can be applied to any ODE,\n",
    "not restricted to a single example or a particular class of equations. For this purpose, we need a general abstract\n",
    "notation for an arbitrary ODE. We will write the ODEs on the following form:"
   ]
  },
  {
   "cell_type": "markdown",
   "metadata": {},
   "source": [
    "<!-- Equation labels as ordinary links -->\n",
    "<div id=\"ode0\"></div>\n",
    "\n",
    "$$\n",
    "\\begin{equation}\n",
    "u^{\\prime}(t) = f(u(t), t),\n",
    "\\label{ode0} \\tag{1}\n",
    "\\end{equation}\n",
    "$$"
   ]
  },
  {
   "cell_type": "markdown",
   "metadata": {},
   "source": [
    "which means that the ODE is fully specified by the definition of the right hand side function $f(u,t)$. Examples of this\n",
    "function may be:"
   ]
  },
  {
   "cell_type": "markdown",
   "metadata": {},
   "source": [
    "$$\n",
    "\\begin{align*}\n",
    "f(u,t) &= \\alpha u,\\quad\\hbox{exponential growth}\\\\\n",
    "f(u,t) &= \\alpha u\\left(  1-\\frac{u}{R}\\right),\\quad\\hbox{logistic growth}\\\\\n",
    "f(u,t) &= -b|u|u + g,\\quad\\hbox{falling body in a fluid}\n",
    "\\end{align*}\n",
    "$$"
   ]
  },
  {
   "cell_type": "markdown",
   "metadata": {},
   "source": [
    "Notice that for generality we write all these right hand sides as functions of both $u$ and $t$, although the\n",
    "mathematical formulations only involve $u$. It will become clear later why such a general formulation is useful.\n",
    "Our aim is now to write functions and classes that take $f$ as input, and solve the corresponding ODE to produce\n",
    "$u$ as output.\n",
    "\n",
    "### The Euler method turns an ODE into a difference equation.\n",
    "\n",
    "All the numerical methods we will considered in this chapter are based on approximating the derivatives\n",
    "in the equation $u'=f(u,t)$ by finite differences. This step transforms the ODE into\n",
    "a difference equation, which can be solved with the tools presented in Chapter 1.\n",
    "To introduce the idea, assume that we have computed $u$ at discrete time points\n",
    "$t_0,t_1,\\ldots,t_n$. At time $t_n$ we have the ODE"
   ]
  },
  {
   "cell_type": "markdown",
   "metadata": {},
   "source": [
    "$$\n",
    "u'(t_n) = f(u(t_n),t_n),\n",
    "$$"
   ]
  },
  {
   "cell_type": "markdown",
   "metadata": {},
   "source": [
    "and we can now approximate $u'(t_n)$ by a forward finite difference;"
   ]
  },
  {
   "cell_type": "markdown",
   "metadata": {},
   "source": [
    "$$\n",
    "u'(t_n)\\approx \\frac{u(t_{n+1})-u(t_n)}{\\Delta t} .\n",
    "$$"
   ]
  },
  {
   "cell_type": "markdown",
   "metadata": {},
   "source": [
    "Inserting this approximation into the ODE at $t=t_n$ yields the following equation"
   ]
  },
  {
   "cell_type": "markdown",
   "metadata": {},
   "source": [
    "$$\n",
    "\\frac{u(t_{n+1})-u(t_n)}{\\Delta t} = f(u(t_n),t_n),\n",
    "$$"
   ]
  },
  {
   "cell_type": "markdown",
   "metadata": {},
   "source": [
    "which we may recognize as a difference equation for computing $u(t_{n+1})$ from the known value\n",
    "$u(t_n)$. We can rearrange the terms to obtain an explicit formula for $u(t_{n+1})$:"
   ]
  },
  {
   "cell_type": "markdown",
   "metadata": {},
   "source": [
    "$$\n",
    "u(t_{n+1}) = u(t_n) + \\Delta t f(u(t_n), t_n) .\n",
    "$$"
   ]
  },
  {
   "cell_type": "markdown",
   "metadata": {},
   "source": [
    "This is known as the *Forward Euler (FE) method*, and is the simplest numerical method for solving\n",
    "and ODE. We can simplify the\n",
    "formula by using the notation for difference equations introduced in Chapter 1.\n",
    "If we let $u_n$ denote the numerical approximation to the exact solution $u(t)$\n",
    "at $t=t_n$, the difference equation can be written as"
   ]
  },
  {
   "cell_type": "markdown",
   "metadata": {},
   "source": [
    "<!-- Equation labels as ordinary links -->\n",
    "<div id=\"forw_euler\"></div>\n",
    "\n",
    "$$\n",
    "\\begin{equation} u_{n+1} = u_n + \\Delta t f(u_n,t_n) .\n",
    "\\label{forw_euler} \\tag{2}\n",
    "\\end{equation}\n",
    "$$"
   ]
  },
  {
   "cell_type": "markdown",
   "metadata": {},
   "source": [
    "This is a regular difference equation which can be solved using arrays and a for-loop, just as we did for the\n",
    "other difference equations in Chapter 1. We\n",
    "start from the known initial condition  $u_0$, and apply the formula repeatedly\n",
    "to compute $u_1$, $u_2$, $u_3$ and so forth.\n",
    "\n",
    "### An ODE needs an initial condition.\n",
    "\n",
    "In mathematics, an initial condition for $u$ must be specified to have a unique solution of equation\n",
    "([1](#ode0)). When solving the equation numerically, we need to set $u_0$ in order to start our method and\n",
    "compute a solution at all. As an example, consider the very simple ODE"
   ]
  },
  {
   "cell_type": "markdown",
   "metadata": {},
   "source": [
    "$$\n",
    "u'=u .\n",
    "$$"
   ]
  },
  {
   "cell_type": "markdown",
   "metadata": {},
   "source": [
    "This equation has the general solution $u=Ce^t$ for any constant $C$, so it has an infinite number of solutions.\n",
    "Specifying an initial condition $u(0)=u_0$ gives $C=u_0$, and we get the unique solution $u=u_0e^t$. When solving the\n",
    "equation numerically, we start from our known $u_0$, and apply formula ([2](#forw_euler)) repeatedly:"
   ]
  },
  {
   "cell_type": "markdown",
   "metadata": {},
   "source": [
    "$$\n",
    "\\begin{align*}\n",
    "u_1 &= u_0 + \\Delta t u_0, \\\\\n",
    "u_2 &= u_1 + \\Delta t u_1, \\\\\n",
    "u_3 &= u_2 + \\ldots .\n",
    "\\end{align*}\n",
    "$$"
   ]
  },
  {
   "cell_type": "markdown",
   "metadata": {},
   "source": [
    "Just as for the difference equations solved in the previous chapter, this repeated application\n",
    "of the same formula is conveniently implemented in a for-loop. For a given time\n",
    "step $\\Delta t$ (`dt`) and number of time steps $n$, we perform the following steps:\n",
    "1. Create arrays `t` and `u` of length $n+1$\n",
    "\n",
    "2. Set initial condition: `u[0]` = $U_0$, `t[0]=0`\n",
    "\n",
    "3. For $k=0,1,2,\\ldots,n-1$:\n",
    "\n",
    "  * `t[n+1] = t[n] + dt`\n",
    "\n",
    "  * `u[n+1] = (1 + dt)*u[n]`\n",
    "\n",
    "\n",
    "A complete Python implementation of this algorithm may look like"
   ]
  },
  {
   "cell_type": "code",
   "execution_count": 4,
   "metadata": {},
   "outputs": [
    {
     "data": {
      "image/png": "[encoded data removed]",
      "text/plain": [
       "<Figure size 432x288 with 1 Axes>"
      ]
     },
     "metadata": {
      "needs_background": "light"
     },
     "output_type": "display_data"
    }
   ],
   "source": [
    "%matplotlib inline\n",
    "\n",
    "import numpy as np\n",
    "import matplotlib.pyplot as plt\n",
    "\n",
    "dt = 0.2\n",
    "U0 = 1\n",
    "T = 4\n",
    "N = int(T/dt)\n",
    "\n",
    "t = np.zeros(N+1)\n",
    "u = np.zeros(N+1)\n",
    "\n",
    "t[0] = 0\n",
    "u[0] = U0\n",
    "for n in range(N):\n",
    "    t[n+1] = t[n] + dt\n",
    "    u[n+1] = (1 + dt)*u[n]\n",
    "\n",
    "plt.plot(t,u)\n",
    "plt.show()"
   ]
  },
  {
   "cell_type": "markdown",
   "metadata": {},
   "source": [
    "The solution is shown in [Figure](#fig:ode0), for two different choices of the time step $\\Delta t$. We see that the\n",
    "approximate solution improves as $\\Delta t$ is reduced, although both the solutions are quite inaccurate. However, reducing the\n",
    "time step further will easily create a solution that cannot be distinguished from the exact solution.\n",
    "\n",
    "<!-- dom:FIGURE: [./fig-ode2/FE_n_10_20.png, width=600 frac=1] Solution of $u' = u, u(0) = 1$ with $\\Delta t = 0.4$ and $\\Delta t=0.2$. <div id=\"fig:ode0\"></div> -->\n",
    "<!-- begin figure -->\n",
    "<div id=\"fig:ode0\"></div>\n",
    "\n",
    "<p>Solution of $u' = u, u(0) = 1$ with $\\Delta t = 0.4$ and $\\Delta t=0.2$.</p>\n",
    "<img src=\"./fig-ode2/FE_n_10_20.png\" width=600>\n",
    "\n",
    "<!-- end figure -->\n",
    "\n",
    "\n",
    "\n",
    "### Extending the solver to a general ODE.\n",
    "\n",
    "As stated above, the purpose of this chapter is to create general-purpose ODE solvers, that can solve any ODE written\n",
    "on the form $u'=f(u,t)$. This requires a very small modification of the algorithm above;\n",
    "1. Create arrays `t` and `u` of length $n+1$\n",
    "\n",
    "2. Set initial condition: `u[0]` = $u_0$, `t[0]=0`\n",
    "\n",
    "3. For $k=0,1,2,\\ldots,n-1$:\n",
    "\n",
    "  * `u[n+1] = u[n] + dt*f(u[n], t[n])`\n",
    "\n",
    "  * `t[n+1] = t[n] + dt`\n",
    "\n",
    "\n",
    "The only change of the algorithm is in the formula for computing `u[n+1]` from `u[n]`.\n",
    "In the previous case we had $f(u,t) = u$, and to create a\n",
    "general-purpose ODE solver we simply replace `u[n]` with the more general `f(u[n],t[n])`.\n",
    "The following Python function implements this generic version of the FE method:"
   ]
  },
  {
   "cell_type": "code",
   "execution_count": 7,
   "metadata": {},
   "outputs": [],
   "source": [
    "def ForwardEuler(f, U0, T, N):\n",
    "    \"\"\"Solve u'=f(u,t), u(0)=U0, with n steps until t=T.\"\"\"\n",
    "    import numpy as np\n",
    "    t = np.zeros(N+1)\n",
    "    u = np.zeros(N+1)  # u[n] is the solution at time t[n]\n",
    "\n",
    "    u[0] = U0\n",
    "    t[0] = 0\n",
    "    dt = T/N\n",
    "\n",
    "    for n in range(N):\n",
    "        t[n+1] = t[n] + dt\n",
    "        u[n+1] = u[n] + dt*f(u[n], t[n])\n",
    "\n",
    "    return u, t"
   ]
  },
  {
   "cell_type": "markdown",
   "metadata": {},
   "source": [
    "This simple function can solve any ODE written on the form ([1](#ode0)). The right\n",
    "hand side function $f(u,t)$ needs to be implemented as a Python function, and\n",
    "then passed as an argument to `ForwardEuler` together with the initial condition, the\n",
    "stop time `T` and the number of time steps. The two latter arguments are then used\n",
    "to calculate the time step `dt` inside the function.\n",
    "\n",
    "To illustrate how the function is used, let us apply it to solve the same problem as above;\n",
    "$u'=u$, $u(0)=1$, for $t\\in [0,4]$. The following code uses the `ForwardEuler` function to solve this problem:"
   ]
  },
  {
   "cell_type": "code",
   "execution_count": 10,
   "metadata": {},
   "outputs": [
    {
     "data": {
      "image/png": "[encoded data removed]",
      "text/plain": [
       "<Figure size 432x288 with 1 Axes>"
      ]
     },
     "metadata": {
      "needs_background": "light"
     },
     "output_type": "display_data"
    }
   ],
   "source": [
    "def f(u, t):\n",
    "    return u\n",
    "\n",
    "U0 = 1\n",
    "T = 3\n",
    "N = 30\n",
    "u, t = ForwardEuler(f, U0, T, N)\n",
    "plt.plot(t,u)\n",
    "plt.show()"
   ]
  },
  {
   "cell_type": "markdown",
   "metadata": {},
   "source": [
    "The `ForwardEuler` function returns the two arrays `u` and `t`, which we can\n",
    "plot or process further as we want. One thing worth noticing in this code is the definition of the\n",
    "right hand side function `f`. As we mentioned above, this function should always be written\n",
    "with two arguments `u` and `t`, although in this case only `u` is used inside the function.\n",
    "The two arguments are needed because we want our solver to work for all ODEs on the\n",
    "form $u' = f(u,t)$, and the function is therefore called as `f(u[n], t[n])` inside\n",
    "`ForwardEuler`. If our right\n",
    "hand side function was defined as `def f(u):` we would get an error message when the\n",
    "function was called inside `ForwardEuler`. This problem is solved by simply writing\n",
    "`def f(u,t):` even if `t` is never used inside the function.\n",
    "\n",
    ": This way of defining the right hand side is a standard used by most\n",
    "available ODE solver libraries, both in Python and other languages. The right hand\n",
    "side function always takes two arguments `u` and `t`, but, annoyingly, the order of the\n",
    "two arguments varies between different solver libraries. Some expect the `t` argument first,\n",
    "while others expect `u` first.\n",
    "\n",
    "For being only 15 lines of Python code, the capabilities of the `ForwardEuler`\n",
    "function above are quite remarkable. Using this function, we can solve any\n",
    "kind of linear or non-linear ODE, most of which would be impossible to solve\n",
    "using analytical techniques. The general recipe goes as follows:\n",
    "1. Identify $f(u,t)$ in your ODE\n",
    "\n",
    "2. Make sure you have an initial condition $u_0$\n",
    "\n",
    "3. Implement the $f(u,t)$ formula in a Python function `f(u, t)`\n",
    "\n",
    "4. Choose the number of time steps `N`\n",
    "\n",
    "5. Call `u, t = ForwardEuler(f, U0, T, N)`\n",
    "\n",
    "6. Plot the solution\n",
    "\n",
    "It is worth mentioning that the FE method is the simplest of all\n",
    "ODE solvers, and many will argue that it is not very good. This is partly true,\n",
    "since there are many other methods that are more accurate and more stable when applied to\n",
    "challenging ODEs. We shall look at a few examples of such methods later in this\n",
    "chapter. However, the FE method is quite suitable for solving most ODEs.\n",
    "If we are not happy with the accuracy we can simply reduce the time step, and\n",
    "in most cases this will give the accuracy we need with a negligible increase in computing time.\n",
    "\n",
    "\n",
    "\n",
    "# The ODE solver implemented as a class\n",
    "We can increase the flexibility of the `ForwardEuler`\n",
    "solver function by implementing it as a class. The usage of the class\n",
    "may for instance be as follows:"
   ]
  },
  {
   "cell_type": "markdown",
   "metadata": {},
   "source": [
    "```Python\n",
    "        method = ForwardEuler_v1(f, U0=0.0, T=40, N=400)\n",
    "        u, t = method.solve()\n",
    "        plot(t, u)\n",
    "```"
   ]
  },
  {
   "cell_type": "markdown",
   "metadata": {},
   "source": [
    "The benefits of using a class instead of a function may not be obvious at this\n",
    "point, but it will become clear later. For now,\n",
    "let us just look at how such a solver class can be implemented:\n",
    "  * We need a constructor (`__init__`) which takes $f$, `T`, `N`, and `U0` as arguments\n",
    "\n",
    "  and stores them as attributes.\n",
    "  * The time step $\\Delta t$ and the sequences $u_n$, $t_n$ must be\n",
    "\n",
    "  initalized and stored as attributes. These tasks are also natural to handle in the constructor.\n",
    "  * The class needs a `solve`-method, which implements the for-loop and returns\n",
    "\n",
    "  the solution, similar to the `ForwardEuler` function considered above.\n",
    "\n",
    "In addition to these methods, it may be convenient to implement the formula for\n",
    "advancing the solution one step as a separate method `advance`. In this way it\n",
    "becomes very easy to implement new numerical methods, since we typically only\n",
    "need to change the `advance` method. A first version of the solver class may\n",
    "look as follows:"
   ]
  },
  {
   "cell_type": "code",
   "execution_count": 11,
   "metadata": {},
   "outputs": [],
   "source": [
    "import numpy as np\n",
    "\n",
    "class ForwardEuler_v1:\n",
    "    def __init__(self, f, U0, T, N):\n",
    "        self.f, self.U0, self.T, self.N = f, U0, T, N\n",
    "        self.dt = T/float(N)\n",
    "        self.u = np.zeros(self.N+1)\n",
    "        self.t = np.zeros(self.N+1)\n",
    "\n",
    "    def solve(self):\n",
    "        \"\"\"Compute solution for 0 <= t <= T.\"\"\"\n",
    "        self.u[0] = float(self.U0)\n",
    "        self.t[0] = float(0)\n",
    "\n",
    "        for n in range(self.N):\n",
    "            self.n = n\n",
    "            self.t[n+1] = self.t[n] + self.dt\n",
    "            self.u[n+1] = self.advance()\n",
    "        return self.u, self.t\n",
    "\n",
    "    def advance(self):\n",
    "        \"\"\"Advance the solution one time step.\"\"\"\n",
    "        # Create local variables to get rid of \"self.\" in\n",
    "        # the numerical formula\n",
    "        u, dt, f, n, t = self.u, self.dt, self.f, self.n, self.t\n",
    "\n",
    "        unew = u[n] + dt*f(u[n], t[n])\n",
    "        return unew"
   ]
  },
  {
   "cell_type": "markdown",
   "metadata": {},
   "source": [
    "This class does essentially the same tasks as the `ForwardEuler` function above.\n",
    "The main advantage of the class implementation is\n",
    "the increased flexibility that comes with the `advance` method. As we shall see\n",
    "later, implementing a different numerical method typically only requires\n",
    "implementing a new version of this method, while all the other code can be left unchanged.\n",
    "\n",
    "We can also use a class to hold the right-hand side $f(u,t)$, which is\n",
    "particularly convenient for functions with parameters.\n",
    "Consider for instance the model for logistic growth;"
   ]
  },
  {
   "cell_type": "markdown",
   "metadata": {},
   "source": [
    "$$\n",
    "u^{\\prime}(t)=\\alpha u(t)\\left(  1-\\frac{u(t)}{R}\\right),\\quad u(0)=U_0,\\quad t\\in [0,40],\n",
    "$$"
   ]
  },
  {
   "cell_type": "markdown",
   "metadata": {},
   "source": [
    "which is the ODE version of the difference equation considered in Chapter 1.\n",
    "The right hand side function has two parameters $\\alpha$ and $R$, but if we\n",
    "want to solve it using our `ForwardEuler` function or class, it must be implemented\n",
    "as a function of $u$ and $t$ only. As we have discussed earlier in the course, %IN1900\n",
    "a class with a call method provides a very flexible implementation of such a\n",
    "function, since we can set the parameters as attributes in the constructor and\n",
    "use them inside the `__call__` method:"
   ]
  },
  {
   "cell_type": "code",
   "execution_count": 12,
   "metadata": {},
   "outputs": [],
   "source": [
    "class Logistic:\n",
    "    def __init__(self, alpha, R, U0):\n",
    "        self.alpha, self.R, self.U0 = alpha, float(R), U0\n",
    "\n",
    "    def __call__(self, u, t):   # f(u,t)\n",
    "        return self.alpha*u*(1 - u/self.R)"
   ]
  },
  {
   "cell_type": "markdown",
   "metadata": {},
   "source": [
    "The main program for solving the logistic growth problem may now look like:"
   ]
  },
  {
   "cell_type": "code",
   "execution_count": 14,
   "metadata": {},
   "outputs": [
    {
     "data": {
      "image/png": "[encoded data removed]",
      "text/plain": [
       "<Figure size 432x288 with 1 Axes>"
      ]
     },
     "metadata": {
      "needs_background": "light"
     },
     "output_type": "display_data"
    }
   ],
   "source": [
    "problem = Logistic(0.2, 1, 0.1)\n",
    "method = ForwardEuler_v1(problem,problem.U0,40,401)\n",
    "u, t = method.solve()\n",
    "plt.plot(t,u)\n",
    "plt.show()"
   ]
  },
  {
   "cell_type": "markdown",
   "metadata": {},
   "source": [
    "<!-- dom:FIGURE: [./fig-ode2/logistic_func_mpl.png, width=600 frac=1.0] Solution of the logistic growth model. -->\n",
    "<!-- begin figure -->\n",
    "\n",
    "<p>Solution of the logistic growth model.</p>\n",
    "<img src=\"./fig-ode2/logistic_func_mpl.png\" width=600>\n",
    "\n",
    "<!-- end figure -->\n",
    "\n",
    "\n",
    "### An alternative class implementation of the FE method.\n",
    "\n",
    "As always in programming, there are multiple ways to perform the same task, and\n",
    "the `ForwardEuler_v1` class presented above is by no means the only possible class implementation of the\n",
    "FE method. A possible alternative implementation is"
   ]
  },
  {
   "cell_type": "code",
   "execution_count": 7,
   "metadata": {},
   "outputs": [],
   "source": [
    "import numpy as np\n",
    "\n",
    "class ForwardEuler_v2:\n",
    "    def __init__(self, f):\n",
    "        self.f = f\n",
    "\n",
    "    def set_initial_condition(self,U0):\n",
    "        self.U0 = float(U0)\n",
    "\n",
    "    def solve(self, time_points):\n",
    "        \"\"\"Compute solution for array of time points\"\"\"\n",
    "        self.t = np.asarray(time_points)\n",
    "        self.u = np.zeros(len(self.t))\n",
    "        self.u[0] = self.U0\n",
    "\n",
    "        # Time loop\n",
    "        for k in range(n-1):\n",
    "            self.n = k\n",
    "            self.u[n+1] = self.advance()\n",
    "        return self.u, self.t\n",
    "\n",
    "    def advance(self):\n",
    "        \"\"\"Advance the solution one time step.\"\"\"\n",
    "        # Create local variables to get rid of \"self.\" in\n",
    "        # the numerical formula\n",
    "        u, dt, f, n, t = self.u, self.dt, self.f, self.n, self.t\n",
    "\n",
    "        unew = u[n] + dt*f(u[n], t[n])\n",
    "        return unew"
   ]
  },
  {
   "cell_type": "markdown",
   "metadata": {},
   "source": [
    "This class is quite similar to the one above, but we have simplified the\n",
    "constructor considerably, introduced a separate method for setting the initial\n",
    "condition, and changed the `solve` method to take an array of time points\n",
    "as argument. The latter gives a bit more flexibility than the version in\n",
    "`ForwardEuler_v1`, where the stop time and number of time points were passed\n",
    "as arguments to the constructor and used to compute a (constant) time step `dt`.\n",
    "The `ForwardEuler_v2` version does not require the time step to be constant, and\n",
    "the method will work fine if we pass it a `time_points` array with varying\n",
    "distance between the time points. This can be useful if we know that the solution\n",
    "varies rapidly in some time intervals and more slowly in others. However, in most cases\n",
    "we will use an evenly spaced array for the `time_points` argument, for instance created using\n",
    "NumPy's `linspace`, and in such cases there is not much difference between the two\n",
    "FE classes. To consider a concrete example, the solution of the same logistic\n",
    "growth problem as above using the new class may look as follows:"
   ]
  },
  {
   "cell_type": "code",
   "execution_count": 8,
   "metadata": {},
   "outputs": [],
   "source": [
    "problem = Logistic(0.2, 1, 0.1)\n",
    "time = np.linspace(0,40,401)\n",
    "\n",
    "method = ForwardEuler_v2(problem)\n",
    "method.set_initial_condition(problem.U0)\n",
    "u, t = method.solve(time)"
   ]
  },
  {
   "cell_type": "markdown",
   "metadata": {},
   "source": [
    "# Alternative ODE solvers\n",
    "As mentioned above, the FE method is not the most sophisticated ODE solver,\n",
    "although it is sufficiently accurate\n",
    "for most of the applications we will consider here. Many alternative methods exist, with better accuracy and stability than\n",
    "FE. One very popular class of ODE solvers is known as Runge-Kutta methods. The simplest example of a Runge-Kutta method\n",
    "is in fact the FE method;"
   ]
  },
  {
   "cell_type": "markdown",
   "metadata": {},
   "source": [
    "$$\n",
    "u_{n+1} = u_n + \\Delta t\\, f(u_n, t_n),\n",
    "$$"
   ]
  },
  {
   "cell_type": "markdown",
   "metadata": {},
   "source": [
    "which is an example of a one-stage, first-order, explicit Runge-Kutta method.\n",
    "Being a first-order method, the error in the approximate solution produced by\n",
    "FE is proportional to $\\Delta t$. We can easily improve the accuracy to\n",
    "second order, i.e., error proportional to $\\Delta t^2$, by taking one additional step:"
   ]
  },
  {
   "cell_type": "markdown",
   "metadata": {},
   "source": [
    "$$\n",
    "\\begin{align*}\n",
    "k_1 & = f(u_n, t_n), \\\\\n",
    "k_2 & = f(u_n+\\frac{\\Delta t}{2} k_1, t_n+\\frac{\\Delta t}{2}), \\\\\n",
    "u_{n+1} &= u_n + \\Delta t\\, k_2 .\n",
    "\\end{align*}\n",
    "$$"
   ]
  },
  {
   "cell_type": "markdown",
   "metadata": {},
   "source": [
    "This method is known as the explicit midpoint method or the modified Euler method. We\n",
    "see that we first compute an intermediate value, often referred to as a *stage derivative*,\n",
    "which is an approximation of the derivative at time $t_n$. Then, instead of using this\n",
    "value to advance the solution to the next step, which we did in the FE method,\n",
    "we use it to approximate the solution at time $t_n+\\Delta t/2$, evaluate the\n",
    "right hand side function again at this midpoint, and use the result ($k_2$) to\n",
    "advance the solution to $t_{n+1}$. An alternative second order method is Heun's method,\n",
    "also referred to as the explicit trapezoidal method:"
   ]
  },
  {
   "cell_type": "markdown",
   "metadata": {},
   "source": [
    "$$\n",
    "\\begin{align*}\n",
    "k_1 & = f(u_n, t_n), \\\\\n",
    "k_2 & = f(u_n+\\Delta t k_1, t_n+\\Delta t), \\\\\n",
    "u_{n+1} &= u_n + \\Delta t\\, (k_1/2 + k_2/2)\n",
    "\\end{align*}\n",
    "$$"
   ]
  },
  {
   "cell_type": "markdown",
   "metadata": {},
   "source": [
    "This method first approximates the derivative at $t_n$ and $t_{n=1}$, and then\n",
    "advances the solution using the average of these two.\n",
    "\n",
    "All Runge-Kutta methods follow the same recipe as the two second order methods considered\n",
    "above; we compute one or more intermediate values (stage derivatives), and advance the\n",
    "solution using a combination of these stage derivatives. The accuracy of the method can\n",
    "be improved by adding more stages. A general RK method with $s$ stages\n",
    "can be written as"
   ]
  },
  {
   "cell_type": "markdown",
   "metadata": {},
   "source": [
    "<!-- Equation labels as ordinary links -->\n",
    "<div id=\"genrk0\"></div>\n",
    "\n",
    "$$\n",
    "\\begin{equation}\n",
    "k_i = f(t_n+c_i\\Delta t,y_n+\\Delta t\n",
    "\\sum_{j=1}^s a_{ij}k_j),  \\mbox{\\  for } i = 1,\\ldots ,s \\label{genrk0} \\tag{3}\n",
    "\\end{equation}\n",
    "$$"
   ]
  },
  {
   "cell_type": "markdown",
   "metadata": {},
   "source": [
    "<!-- Equation labels as ordinary links -->\n",
    "<div id=\"genrk1\"></div>\n",
    "\n",
    "$$\n",
    "\\begin{equation} \n",
    "u_{n+1} = u_0 + \\Delta t \\sum_{i=1}^s b_i k_i .\\label{genrk1} \\tag{4}\n",
    "\\end{equation}\n",
    "$$"
   ]
  },
  {
   "cell_type": "markdown",
   "metadata": {},
   "source": [
    "Here $c_i, b_i, a_{ij}$, for $i,j, = 1,\\ldots ,s$ are\n",
    "method-specific, given coefficients. All RK methods can be written\n",
    "in this form, and a method is uniquely determined by the\n",
    "number of stages $s$ and the values of the coefficients. In the\n",
    "ODE literature one often sees these coefficients specified in the\n",
    "form of a *Butcher tableau*, which offers a compact definition of any RK method.\n",
    "The Butcher tableau is simply a specification of all the method coefficients, and\n",
    "for a general RK method it is written as"
   ]
  },
  {
   "cell_type": "markdown",
   "metadata": {},
   "source": [
    "$$\n",
    "\\begin{array}{c|ccc}\n",
    "c_i & a_{11} & \\cdots & a_{1s}\\\\\n",
    "\\vdots & \\vdots & & \\vdots \\\\\n",
    "c_s & a_{s1} & \\cdots & a_{ss} \\\\ \\hline\n",
    " & b_1 & \\cdots & b_s\n",
    "\\end{array} .\n",
    "$$"
   ]
  },
  {
   "cell_type": "markdown",
   "metadata": {},
   "source": [
    "The Butcher tableaus of the three methods considered above; FE, explicit midpoint, and Heun's method, are"
   ]
  },
  {
   "cell_type": "markdown",
   "metadata": {},
   "source": [
    "$$\n",
    "\\begin{array}{c|cc}\n",
    "0 & 0 \\\\ \\hline\n",
    " & 1\n",
    "\\end{array} \\hspace{1cm}\n",
    "\\begin{array}{c|cc}\n",
    "0 & 0& 0 \\\\\n",
    "1/2 & 1/2 & 0 \\\\ \\hline\n",
    " & 0 & 1\n",
    "\\end{array} \\hspace{1cm}\n",
    "\\begin{array}{c|cc}\n",
    "0 & 0& 0 \\\\\n",
    "1 & 1 & 0 \\\\ \\hline\n",
    " & 1/2 & 1/2\n",
    "\\end{array} ,\n",
    "$$"
   ]
  },
  {
   "cell_type": "markdown",
   "metadata": {},
   "source": [
    "respectively. To grasp the concept of Butcher tableaus, it is a good exercise to\n",
    "insert the coefficients from these three tableaus into ([3](#genrk0))-([4](#genrk1))\n",
    "and verify that the you arrive at the correct formulae for the three methods.\n",
    "As an example of a method of higher order, we may consider the the\n",
    "fourth order, four-stage method defined by the Butcher tableau"
   ]
  },
  {
   "cell_type": "markdown",
   "metadata": {},
   "source": [
    "$$\n",
    "\\begin{array}{c|cccc}\n",
    "0 & 0& 0 & 0 & 0\\\\\n",
    "1/2 & 1/2 & 0 & 0 & 0\\\\\n",
    "1/2 & 0 & 1/2 & 0 & 0 \\\\\n",
    "1  & 0 & 0 & 1 & 0 \\\\ \\hline\n",
    " & 1/6 & 1/3 & 1/3 & 1/6\n",
    "\\end{array}\n",
    "$$"
   ]
  },
  {
   "cell_type": "markdown",
   "metadata": {},
   "source": [
    "which gives the formulas"
   ]
  },
  {
   "cell_type": "markdown",
   "metadata": {},
   "source": [
    "$$\n",
    "\\begin{align*}\n",
    "k_1 &= f(u_n, t_n) ,\\\\\n",
    "k_2 &= f(u_n + {1\\over2}k_1, t_n + {1\\over2}\\Delta t),\\\\\n",
    "k_3 &= f(u_n + {1\\over2}k_2, t_n + {1\\over2}\\Delta t),\\\\\n",
    "k_4 &= f(u_n + k_3, t_n + \\Delta t),\n",
    "u_{n+1} = u_n + \\frac{\\Delta t}{6} \\left( k_1 + 2k_2 + 2k_3 + k_4\\right).\n",
    "\\end{align*}\n",
    "$$"
   ]
  },
  {
   "cell_type": "markdown",
   "metadata": {},
   "source": [
    "All the RK methods we will consider in this course are explicit methods, %IN1900\n",
    "which means that $a_{ij} = 0$ for $j\\geq i$. If we examine the formula in ([3](#genrk0)),\n",
    "we see that the expression for computing each stage derivative $k_i$ then only includes\n",
    "previously computed stage derivatives, and they can be computed sequentially\n",
    "from explicit formulas. For implicit RK methods, on the other hand, we\n",
    "we have $a_{ij} \\neq 0$ for some $j\\geq i$, and we see in ([3](#genrk0)) that the\n",
    "formula for computing $k_i$ will then include $k_i$ on the right hand side. We\n",
    "therefore need to solve equations to compute the stage derivatives, and for non-linear\n",
    "ODEs these will be non-linear equations that are typically solved using Newton's method.\n",
    "This makes implicit\n",
    "RK methods more complex to implement and more computationally expensive per time step,\n",
    "but they are also more stable than explicit methods and perform much better\n",
    "for certain classes of ODEs. We will not consider implicit RK methods in this course. %IN1900\n",
    "\n",
    "# A class hierarchy of ODE solvers\n",
    "We now want to implement some of the Runge-Kutta methods as classes,\n",
    "similar to the FE classes introduced above. When inspecting the `ForwardEuler_v2`\n",
    "class, we quickly observe that most of the code is common to all ODE solvers, and\n",
    "not specific to the FE method. For instance, we\n",
    "always need to create an array for holding the solution,\n",
    "and the general solution method using a for-loop is always the same. In fact, the only\n",
    "difference between the different methods is how the solution is advanced from one\n",
    "step to the next. Recalling the ideas of Object-Oriented Programming, it becomes\n",
    "obvious that a class hierarchy is very convenient for implementing such a collection\n",
    "of ODE solvers. In this way we can collect all common code in a superclass, and rely on\n",
    "inheritance to avoid code duplication. The superclass can handle most of the\n",
    "more \"administrative\" steps of the ODE solver, such as\n",
    "  * Storing the solution $u_n$ and the corresponding time levels $t_n$, $k=0,1,2,\\ldots,n$\n",
    "\n",
    "  * Storing the right-hand side function $f(u,t)$\n",
    "\n",
    "  * Storing and applying initial condition\n",
    "\n",
    "  * Running the loop over all time steps\n",
    "\n",
    "We can introduce a superclass `ODESolver` to handle these parts, and implement\n",
    "the method-specific details in sub-classes. It should now become quite obvious why\n",
    "we chose to isolate the code to perform a single step in the `advance` method,\n",
    "since this will then be the only method we need to implement in the subclasses.\n",
    "The implementation of the superclass may look like"
   ]
  },
  {
   "cell_type": "code",
   "execution_count": 9,
   "metadata": {},
   "outputs": [],
   "source": [
    "class ODESolver:\n",
    "    def __init__(self, f):\n",
    "        self.f = f\n",
    "\n",
    "    def advance(self):\n",
    "        \"\"\"Advance solution one time step.\"\"\"\n",
    "        raise NotImplementedError  # implement in subclass\n",
    "\n",
    "    def set_initial_condition(self, U0):\n",
    "        self.U0 = float(U0)\n",
    "\n",
    "    def solve(self, time_points):\n",
    "        self.t = np.asarray(time_points)\n",
    "        N = len(self.t)\n",
    "        self.u = np.zeros(N)\n",
    "        # Assume that self.t[0] corresponds to self.U0\n",
    "        self.u[0] = self.U0\n",
    "\n",
    "        # Time loop\n",
    "        for n in range(N-1):\n",
    "            self.n = n\n",
    "            self.u[n+1] = self.advance()\n",
    "        return self.u, self.t"
   ]
  },
  {
   "cell_type": "markdown",
   "metadata": {},
   "source": [
    "Notice that the `ODESolver` is meant to be a pure superclass, and we have therefore\n",
    "implemented the `advance`-method to raise an exception if the class is used on its own.\n",
    "We could also have omitted the `advance`-method from the superclass altogether, but the\n",
    "chosen implementation makes it clearer to users of the class that `ODESolver`\n",
    "is a pure superclass.\n",
    "\n",
    "With the `ODESolver` superclass at hand, the implementation of a `ForwardEuler` class becomes very simple:"
   ]
  },
  {
   "cell_type": "code",
   "execution_count": 10,
   "metadata": {},
   "outputs": [],
   "source": [
    "class ForwardEuler(ODESolver):\n",
    "    def advance(self):\n",
    "        u, f, n, t = self.u, self.f, self.n, self.t\n",
    "\n",
    "        dt = t[n+1] - t[n]\n",
    "        unew = u[n] + dt*f(u[n], t)\n",
    "        return unew"
   ]
  },
  {
   "cell_type": "markdown",
   "metadata": {},
   "source": [
    "Similarly, the explicit midpoint method and the fourth-order RK method can be subclasses, each\n",
    "with a single method:"
   ]
  },
  {
   "cell_type": "code",
   "execution_count": 11,
   "metadata": {},
   "outputs": [],
   "source": [
    "class ExplicitMidpoint(ODESolver):\n",
    "    def advance(self):\n",
    "        u, f, n, t = self.u, self.f, self.n, self.t\n",
    "        dt = t[n+1] - t[n]\n",
    "        dt2 = dt/2.0\n",
    "        k1 = f(u[n], t)\n",
    "        k2 = f((u[n] + dt2*k1, t + dt2))\n",
    "        unew = u[n] + dt*k2\n",
    "        return unew\n",
    "\n",
    "\n",
    "class RungeKutta4(ODESolver):\n",
    "    def advance(self):\n",
    "        u, f, n, t = self.u, self.f, self.n, self.t\n",
    "        dt = t[n+1] - t[n]\n",
    "        dt2 = dt/2.0\n",
    "        k1 = f(u[n], t)\n",
    "        k2 = f(u[n] + dt2*k1, t + dt2)\n",
    "        k3 = f(u[n] + dt2*k2, t + dt2)\n",
    "        k4 = f(u[n] + k3, t + dt)\n",
    "        unew = u[n] + (dt/6.0)*(k1 + 2*k2 + 2*k3 + k4)\n",
    "        return unew"
   ]
  },
  {
   "cell_type": "markdown",
   "metadata": {},
   "source": [
    "The use of these classes is nearly identical to the second version of the FE class introduced\n",
    "earlier.\n",
    "Considering\n",
    "the same simple ODE used above; $u'= u$, $u(0)=1$, $t\\in [0,3]$, $\\Delta t=0.1$,\n",
    "the code looks like:"
   ]
  },
  {
   "cell_type": "code",
   "execution_count": 12,
   "metadata": {},
   "outputs": [],
   "source": [
    "import numpy as np\n",
    "import matplotlib.pyplot as plt\n",
    "\n",
    "from ODESolver import ForwardEuler, RungeKutta4\n",
    "def f(u, t):\n",
    "    return u\n",
    "\n",
    "time_points = np.linspace(0, 3, 31)\n",
    "\n",
    "method1 = ForwardEuler(f)\n",
    "method1.set_initial_condition(U0=1)\n",
    "u1, t1 = method1.solve(time_points)\n",
    "plt.plot(t1, u1)\n",
    "\n",
    "method2 = RungeKutta4(test)\n",
    "method2.set_initial_condition(U0=1)\n",
    "u2, t2 = method2.solve(time_points)\n",
    "plt.plot(t2, u2)\n",
    "\n",
    "plt.show()"
   ]
  },
  {
   "cell_type": "markdown",
   "metadata": {},
   "source": [
    "This code will solve the same equation using both methods, and plot the solutions\n",
    "in the same window. Experimenting with different step sizes should reveal the\n",
    "difference in accuracy between the two methods."
   ]
  }
 ],
 "metadata": {
  "kernelspec": {
   "display_name": "Python 3",
   "language": "python",
   "name": "python3"
  },
  "language_info": {
   "codemirror_mode": {
    "name": "ipython",
    "version": 3
   },
   "file_extension": ".py",
   "mimetype": "text/x-python",
   "name": "python",
   "nbconvert_exporter": "python",
   "pygments_lexer": "ipython3",
   "version": "3.7.3"
  }
 },
 "nbformat": 4,
 "nbformat_minor": 2
}
