{
 "cells": [
  {
   "cell_type": "markdown",
   "metadata": {},
   "source": [
    "<!-- TITLE: App.E: Programming of differential equations -->\n",
    "<!-- AUTHOR: Joakim Sundnes at Simula Research Laboratory & University of Oslo, Dept. of Informatics -->\n",
    "<!-- DATE: today -->\n",
    "\n",
    "So far we have only considered ODEs with a single solution component, often called scalar ODEs.\n",
    "Many interesting processes can be described\n",
    "by systems of ODEs, i.e., multiple ODEs where the right hand side of one equation depends on the solution of the others. Such equation\n",
    "systems are also referred to as vector ODEs. One simple example is"
   ]
  },
  {
   "cell_type": "markdown",
   "metadata": {},
   "source": [
    "$$\n",
    "\\begin{alignat*}{2}\n",
    "u' &= v, \\quad &&u(0) = 1\\\\\n",
    "v' &= -u, \\quad &&v(0) = 0.\n",
    "\\end{alignat*}\n",
    "$$"
   ]
  },
  {
   "cell_type": "markdown",
   "metadata": {},
   "source": [
    "The solution of this system is $u=\\cos t, v=\\sin t$ which can easily be verified by insterting the solution into the equations\n",
    "and initial conditions. For more general cases, it is usually even more difficult to find analytical solutions of ODE systems\n",
    "than of scalar ODEs, and numerical methods are usually required. In this chapter we will extend the solvers introduced in\n",
    "Chapter 2 to be able to solve systems of ODEs. We shall see that such an extension requires relatively small\n",
    "modifications of the code.\n",
    "\n",
    "We want to develop general software that can be applied to any vector ODE or scalar ODE, and for this purpose it is\n",
    "useful to introduce general mathematical notation. We have $n$ unknowns"
   ]
  },
  {
   "cell_type": "markdown",
   "metadata": {},
   "source": [
    "$$\n",
    "u^{(0)}(t), u^{(1)}(t), \\ldots, u^{(n-1)}(t)\n",
    "$$"
   ]
  },
  {
   "cell_type": "markdown",
   "metadata": {},
   "source": [
    "in a system of $n$ ODEs:"
   ]
  },
  {
   "cell_type": "markdown",
   "metadata": {},
   "source": [
    "$$\n",
    "\\begin{align*}\n",
    "{d\\over dt}u^{(0)} &= f^{(0)}(u^{(0)}, u^{(1)}, \\ldots, u^{(n-1)}, t),\\\\\n",
    "{d\\over dt}u^{(1)} &= f^{(1)}(u^{(0)}, u^{(1)}, \\ldots, u^{(n-1)}, t),\\\\\n",
    "\\vdots &=& \\vdots\\\\\n",
    "{d\\over dt}u^{(n-1)} &= f^{(n-1)}(u^{(0)}, u^{(1)}, \\ldots, u^{(n-1)}, t).\n",
    "\\end{align*}\n",
    "$$"
   ]
  },
  {
   "cell_type": "markdown",
   "metadata": {},
   "source": [
    "To simplify the notation (and later the implementation), we collect both the solutions $u^{(i)}(t)$\n",
    "and right-hand side functions $f^{(i)}$ in vectors;"
   ]
  },
  {
   "cell_type": "markdown",
   "metadata": {},
   "source": [
    "$$\n",
    "u = (u^{(0)}, u^{(1)}, \\ldots, u^{(n-1)}),\n",
    "$$"
   ]
  },
  {
   "cell_type": "markdown",
   "metadata": {},
   "source": [
    "and"
   ]
  },
  {
   "cell_type": "markdown",
   "metadata": {},
   "source": [
    "$$\n",
    "f = (f^{(0)}, f^{(1)}, \\ldots, f^{(n-1)}).\n",
    "$$"
   ]
  },
  {
   "cell_type": "markdown",
   "metadata": {},
   "source": [
    "Note that $f$ is now a vector-valued function. It takes $n+1$ input arguments ($t$ and the $n$ components of $u$) and returns\n",
    "a vector of $n$ values.\n",
    "The ODE system can now be written"
   ]
  },
  {
   "cell_type": "markdown",
   "metadata": {},
   "source": [
    "$$\n",
    "u' = f(u, t),\\quad u(0) = u_0\n",
    "$$"
   ]
  },
  {
   "cell_type": "markdown",
   "metadata": {},
   "source": [
    "where $u$ and $f$ are vectors and $u_0$ is a vector of initial conditions. We see that we use exactly the\n",
    "same notation as for scalar ODEs, and whether we solve a scalar or system of ODEs is determined by how we define $f$ and the initial\n",
    "condition $u_0$. This general notation is completely standard in text books on ODEs, and we can easily make the Python\n",
    "implementation just as general.\n",
    "\n",
    "\n",
    "# An `ODESolver` class for systems of ODEs\n",
    "The `ODESolver` class above was written for a scalar ODE. We now want to make it work for a system\n",
    "$u'=f$, $u(0)=U_0$, where $u$, $f$ and $U_0$ are vectors (arrays). To identify how the code needs to be changed, let us start with\n",
    "the simplest method. Applying the forward Euler method to a system of ODEs yields an update formula that\n",
    "looks exactly as for the scalar case, but where all the terms are vectors:"
   ]
  },
  {
   "cell_type": "markdown",
   "metadata": {},
   "source": [
    "$$\n",
    "\\underbrace{u_{k+1}}_{\\mbox{vector}} =\n",
    "\\underbrace{u_k}_{\\mbox{vector}} +\n",
    "\\Delta t\\, \\underbrace{f(u_k, t_k)}_{\\mbox{vector}} .\n",
    "$$"
   ]
  },
  {
   "cell_type": "markdown",
   "metadata": {},
   "source": [
    "We could also write this formula in terms of the individual components, as in"
   ]
  },
  {
   "cell_type": "markdown",
   "metadata": {},
   "source": [
    "$$\n",
    "u^{(i)}_{k+1} = u^{(i)}_{k} + \\Delta t f^{(i)}(u_{k},t_k), \\mbox{ for } i = 0,\\ldots , {n-1},\n",
    "$$"
   ]
  },
  {
   "cell_type": "markdown",
   "metadata": {},
   "source": [
    "but the compact vector notation is much easier to read. Fortunately, the way we write the vector\n",
    "version of the formula is also how NumPy arrays are used in calculations. The\n",
    "Python code for the formula above may therefore look idential to the version for scalar ODEs;"
   ]
  },
  {
   "cell_type": "code",
   "execution_count": 1,
   "metadata": {},
   "outputs": [],
   "source": [
    "u[k+1] = u[k] + dt*f(u[k], t)"
   ]
  },
  {
   "cell_type": "markdown",
   "metadata": {},
   "source": [
    "with the important difference that both `u[k]` and `u[k+1]` are now arrays.\n",
    "Since these are arrays, the solution `u` must be a\n",
    "two-dimensional array, and `u[k],u[k+1]`, etc. are the rows of this array.\n",
    "The function `f` expects an array as its first argument, and must return a one-dimensional array,\n",
    "containing all the right-hand sides $f^{(0)},\\ldots,f^{(n-1)}$. To get a better\n",
    "feel for how these arrays look and how they are used,\n",
    "we may compare the array holding the solution of a scalar ODE to that of a system of two ODEs.\n",
    "For the scalar equation, both `t` and `u` are one-dimensional NumPy\n",
    "arrays, and indexing into `u` gives us numbers, representing the solution at each time step:"
   ]
  },
  {
   "cell_type": "markdown",
   "metadata": {},
   "source": [
    "        t = [0.  0.4 0.8 1.2 (...) ]\n",
    "        \n",
    "        u = [ 1.0 1.4  1.96 2.744  (...)]\n",
    "        \n",
    "        u[0] = 1.0\n",
    "        u[1] = 1.4\n",
    "        \n",
    "        (...)\n"
   ]
  },
  {
   "cell_type": "markdown",
   "metadata": {},
   "source": [
    "In the case of a system of two ODEs, `t` is still a one-dimensional array, but the solution array `u` is\n",
    "now two-dimensional, with one column for each solution component. Indexing into it\n",
    "yields one-dimensional arrays of length two, which are the two solution components\n",
    "at each time step:"
   ]
  },
  {
   "cell_type": "markdown",
   "metadata": {},
   "source": [
    "        u = [[1.0 0.8][1.4 1.1] [1.9 2.7] (...)]\n",
    "        \n",
    "        u[0] = [1.0 0.8]\n",
    "        u[1] = [1.4 1.1]\n",
    "        \n",
    "        (...)\n"
   ]
  },
  {
   "cell_type": "markdown",
   "metadata": {},
   "source": [
    ": This compact notation requires that the solution vector `u` is represented by\n",
    "a NumPy array. We could also, in principle, use lists to hold the solution components, but\n",
    "the resulting code would need to loop over the components and be far less elegant and readable.\n",
    "\n",
    "To make a generic `ODESolver` class that works both with scalars and systems, we need to make the\n",
    "following changes to the class from the previous chapter:\n",
    " * Ensure that `f(u,t)` always returns an array.\n",
    "\n",
    " * Inspect $U_0$ to see if it is a single number or a list/array/tuple and\n",
    "   make the corresponding `u` a one-dimensional or two-dimensional  array\n",
    "\n",
    "If these two items are handled and initialized correctly, the rest of the code from\n",
    "Chapter 2 will work with no modifications.\n",
    "The extended superclass implementation may look like:"
   ]
  },
  {
   "cell_type": "code",
   "execution_count": 1,
   "metadata": {},
   "outputs": [],
   "source": [
    "class ODESolver:\n",
    "    def __init__(self, f):\n",
    "        # Wrap user's f in a new function that always\n",
    "        # converts list/tuple to array (or let array be array)\n",
    "        self.f = lambda u, t: np.asarray(f(u, t), float)\n",
    "\n",
    "    def set_initial_condition(self, U0):\n",
    "        if isinstance(U0, (float,int)):  # scalar ODE\n",
    "            self.neq = 1                 # no of equations\n",
    "            U0 = float(U0)\n",
    "        else:                            # system of ODEs\n",
    "            U0 = np.asarray(U0)\n",
    "            self.neq = U0.size           # no of equations\n",
    "        self.U0 = U0\n",
    "\n",
    "    def solve(self, time_points):\n",
    "        self.t = np.asarray(time_points)\n",
    "        N = len(self.t)\n",
    "        if self.neq == 1:  # scalar ODEs\n",
    "            self.u = np.zeros(N)\n",
    "        else:              # systems of ODEs\n",
    "            self.u = np.zeros((N,self.neq))\n",
    "\n",
    "        # Assume that self.t[0] corresponds to self.U0\n",
    "        self.u[0] = self.U0\n",
    "\n",
    "        # Time loop\n",
    "        for n in range(N-1):\n",
    "            self.n = n\n",
    "            self.u[n+1] = self.advance()\n",
    "        return self.u, self.t"
   ]
  },
  {
   "cell_type": "markdown",
   "metadata": {},
   "source": [
    "It is worth commenting on some parts of this code. First, the constructor looks\n",
    "almost identical to the scalar case, but we use a lambda function and\n",
    "`asarray` to convert any `f` that returns a list or tuple to a function\n",
    "returning a NumPy array. This modification is not strictly\n",
    "needed, since we could just assume that the user implements `f` so that it returns\n",
    "an array, but it makes the class more robust and flexible. Similar tests are\n",
    "included in the `set_initial_condition`, to make sure that `U0` is either a single\n",
    "number (`float`) or a NumPy array, and to set the attribute `self.neq` to\n",
    "hold the number of equations.\n",
    "The final modification is found in the method `solve`, where\n",
    "the `self.neq` attribute is inspected and `u` is\n",
    "initialized to a one- or two-dimensional array of the correct size. The\n",
    "actual for-loop, as well the implementation of the `advance` method in the\n",
    "subclasses, can be left unchanged.\n",
    "\n",
    "### Example: ODE model for throwing a ball.\n",
    "\n",
    "To demonstrate the use of\n",
    "the extended `ODESolver` hierarchy, let us consider a system of ODEs\n",
    "describing the trajectory of a ball.\n",
    "We define $x(t),y(t)$ to be the position of the ball, $v_x$ and $v_y$ the velocity components,\n",
    "and $a_x,a_y$ the acceleration components. From the definition of velocity and acceleration, we\n",
    "have $v_x = dx/dt, v_y = dy/dt, a_x = dv_x/dt$, and $a_y = dv_y/dt$. If we neglect air resistance there are no\n",
    "forces acting on the ball in the $x$-direction, so from Newton's second law $a_x = 0$,\n",
    "while the acceleration in the $y$-direction must be equal to the acceleration of gravity.\n",
    "We get"
   ]
  },
  {
   "cell_type": "markdown",
   "metadata": {},
   "source": [
    "$$\n",
    "\\begin{alignat*}{2}\n",
    "a_x &= 0 \\Rightarrow &\\frac{dv_x}{dt} = 0, \\\\\n",
    "a_y &= -g \\Rightarrow \\mbox{\\ \\ }&\\frac{dv_y}{dt} = -g\\mbox{\\ } .\n",
    "\\end{alignat*}\n",
    "$$"
   ]
  },
  {
   "cell_type": "markdown",
   "metadata": {},
   "source": [
    "We can easily add air resistance or other additional physics to these equations\n",
    "later if needed. The complete ODE system can be written as"
   ]
  },
  {
   "cell_type": "markdown",
   "metadata": {},
   "source": [
    "$$\n",
    "\\begin{align*}\n",
    "{dx\\over dt} &= v_x,\\\\\n",
    "{dv_x\\over dt} &= 0,\\\\\n",
    "{dy\\over dt} &= v_y,\\\\\n",
    "{dv_y\\over dt} &= -g,\n",
    "\\end{align*}\n",
    "$$"
   ]
  },
  {
   "cell_type": "markdown",
   "metadata": {},
   "source": [
    "and solve the system we need to define initial conditions for all these\n",
    "variables, i.e., we need to know the initial position and velocity of the ball.\n",
    "We want to use the `ODESolver` class hierarchy to solve the system, and\n",
    "first need to implement the right hand side as a Python function:"
   ]
  },
  {
   "cell_type": "code",
   "execution_count": 2,
   "metadata": {},
   "outputs": [],
   "source": [
    "def f(u, t):\n",
    "    x, vx, y, vy = u\n",
    "    g = 9.81\n",
    "    return [vx, 0, vy, -g]"
   ]
  },
  {
   "cell_type": "markdown",
   "metadata": {},
   "source": [
    "We see that the function here returns a list, but this will automatically\n",
    "be converted to an array by the solver class' constructor,\n",
    "as mentioned above. The main program is not very different\n",
    "from the examples of the previous chapter, except that we need to define an\n",
    "initial condition with four components:"
   ]
  },
  {
   "cell_type": "code",
   "execution_count": 3,
   "metadata": {},
   "outputs": [
    {
     "ename": "ModuleNotFoundError",
     "evalue": "No module named 'ODESolver'",
     "output_type": "error",
     "traceback": [
      "\u001b[0;31m---------------------------------------------------------------------------\u001b[0m",
      "\u001b[0;31mModuleNotFoundError\u001b[0m                       Traceback (most recent call last)",
      "\u001b[0;32m<ipython-input-3-b51a8079e97d>\u001b[0m in \u001b[0;36m<module>\u001b[0;34m\u001b[0m\n\u001b[0;32m----> 1\u001b[0;31m \u001b[0;32mfrom\u001b[0m \u001b[0mODESolver\u001b[0m \u001b[0;32mimport\u001b[0m \u001b[0mForwardEuler\u001b[0m\u001b[0;34m\u001b[0m\u001b[0;34m\u001b[0m\u001b[0m\n\u001b[0m\u001b[1;32m      2\u001b[0m \u001b[0;34m\u001b[0m\u001b[0m\n\u001b[1;32m      3\u001b[0m \u001b[0;31m# Initial condition, start at the origin:\u001b[0m\u001b[0;34m\u001b[0m\u001b[0;34m\u001b[0m\u001b[0;34m\u001b[0m\u001b[0m\n\u001b[1;32m      4\u001b[0m \u001b[0mx\u001b[0m \u001b[0;34m=\u001b[0m \u001b[0;36m0\u001b[0m\u001b[0;34m;\u001b[0m \u001b[0my\u001b[0m \u001b[0;34m=\u001b[0m \u001b[0;36m0\u001b[0m\u001b[0;34m\u001b[0m\u001b[0;34m\u001b[0m\u001b[0m\n\u001b[1;32m      5\u001b[0m \u001b[0;31m# velocity magnitude and angle:\u001b[0m\u001b[0;34m\u001b[0m\u001b[0;34m\u001b[0m\u001b[0;34m\u001b[0m\u001b[0m\n",
      "\u001b[0;31mModuleNotFoundError\u001b[0m: No module named 'ODESolver'"
     ]
    }
   ],
   "source": [
    "from ODESolver import ForwardEuler\n",
    "\n",
    "# Initial condition, start at the origin:\n",
    "x = 0; y = 0\n",
    "# velocity magnitude and angle:\n",
    "v0 = 5; theta = 80*np.pi/180\n",
    "vx = v0*np.cos(theta); vy = v0*np.sin(theta)\n",
    "\n",
    "U0 = [x, vx, y, vy]\n",
    "\n",
    "solver= ForwardEuler(f)\n",
    "solver.set_initial_condition(U0)\n",
    "time_points = np.linspace(0, 1.0, 101)\n",
    "u, t = solver.solve(time_points)\n",
    "# u is an array of [x,vx,y,vy] arrays, plot y vs x:\n",
    "x = u[:,0];  y = u[:,2]\n",
    "\n",
    "plt.plot(x, y)\n",
    "plt.show()"
   ]
  },
  {
   "cell_type": "markdown",
   "metadata": {},
   "source": [
    "Notice that since `u` is a two-dimensional array, we use array slicing to extract and plot the individual components.\n",
    "A call like `plt.plot(t,u)` will also work, but it will plot all the solution\n",
    "components in the same window, which is not very useful in this case."
   ]
  }
 ],
 "metadata": {
  "kernelspec": {
   "display_name": "Python 3",
   "language": "python",
   "name": "python3"
  },
  "language_info": {
   "codemirror_mode": {
    "name": "ipython",
    "version": 3
   },
   "file_extension": ".py",
   "mimetype": "text/x-python",
   "name": "python",
   "nbconvert_exporter": "python",
   "pygments_lexer": "ipython3",
   "version": "3.7.3"
  }
 },
 "nbformat": 4,
 "nbformat_minor": 2
}
